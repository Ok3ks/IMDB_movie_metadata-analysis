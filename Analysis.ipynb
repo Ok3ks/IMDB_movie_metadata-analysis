{
 "cells": [
  {
   "attachments": {},
   "cell_type": "markdown",
   "metadata": {},
   "source": [
    "Due to the failure of the last comedy special from SussexBudgetProductions at the box office, we have been tasked with finding the root cause of this issue. \n",
    "\n",
    "This is an analysis on the IMDB movie data in order to obtain insights on how the next set of funds can be properly invested. This report explores previous data using the IMDB dataset and also recommends actionable plans."
   ]
  },
  {
   "attachments": {},
   "cell_type": "markdown",
   "metadata": {},
   "source": [
    "The dataset provided contains metrics relating to each movie such as : \n",
    "\n",
    "Color, director_name, Number of reviews, Duration, director's facebook likes,actor's facebook likes, actor's name, actor facebook likes, gross, genres, movie title,number of voted users, cast's total facebook likes,facenumber in poster,keywords in the plot,imdb link of the movie, Number of user reviews, language, country, content rating, budget, year movie was released. imdb score,the aspect ratio, movie facebook likes.\n",
    "\n",
    "The dataset was wrangled and modified to include indicators with which we can project fututre sales: \n",
    "\n",
    "- Metrics retained include the director's name, genres, country ,movie title, names of the top three actors in the movie, year of the movie, content_rating, imdb_score, movie_facebook_likes, budget, gross, number of critic reviews, duration,keywords plot, language of the movie. The key metric being analysed is the gross sales,and the relationships with other metrics. \n",
    "\n",
    "- Metrics such as the aspect ratio of a movie are discarded as they are deemed to have minimal relationship to gross sales. \n",
    "\n",
    "- Duration of the movie is also not considered as we are ignoring the role the attention span of a viewer plays on the sales. \n",
    "\n",
    "To begin, I will split the dataset into two. One as an experimental dataset where we explore relationships between the metrics listed above, while the other to test discovered hypothesis. Confirming/rejecting our hypothesis will help make reasonable and actionable recommendations."
   ]
  },
  {
   "cell_type": "code",
   "execution_count": 106,
   "metadata": {},
   "outputs": [],
   "source": [
    "import pandas as pd\n",
    "import matplotlib.pyplot as plt\n",
    "import seaborn as sns\n",
    "import plotly.express as px\n",
    "import numpy as np\n",
    "from nltk.probability import FreqDist\n",
    "import scipy.stats\n",
    "\n",
    "sns.set_style(\"whitegrid\")"
   ]
  },
  {
   "cell_type": "code",
   "execution_count": 6,
   "metadata": {},
   "outputs": [
    {
     "name": "stdout",
     "output_type": "stream",
     "text": [
      "Columns in the dataframe are Index(['color', 'director_name', 'num_critic_for_reviews', 'duration',\n",
      "       'director_facebook_likes', 'actor_3_facebook_likes', 'actor_2_name',\n",
      "       'actor_1_facebook_likes', 'gross', 'genres', 'actor_1_name',\n",
      "       'movie_title', 'num_voted_users', 'cast_total_facebook_likes',\n",
      "       'actor_3_name', 'facenumber_in_poster', 'plot_keywords',\n",
      "       'movie_imdb_link', 'num_user_for_reviews', 'language', 'country',\n",
      "       'content_rating', 'budget', 'title_year', 'actor_2_facebook_likes',\n",
      "       'imdb_score', 'aspect_ratio', 'movie_facebook_likes'],\n",
      "      dtype='object') and the length of dev-list is 2521\n"
     ]
    }
   ],
   "source": [
    "movie_data = \"movie_metadata.csv\"\n",
    "\n",
    "movie_data_df = pd.read_csv(movie_data)\n",
    "movie_data_df = movie_data_df.sample(frac =1.0, random_state= 42) \n",
    "midpoint = len(movie_data_df)//2\n",
    "\n",
    "\n",
    "dev_list = movie_data_df[:midpoint]  \n",
    "test_list = movie_data_df[midpoint:]   \n",
    "\n",
    "dev_list.columns\n",
    "print(\"Columns in the dataframe are {} and the length of dev-list is {}\".format(dev_list.columns, len(dev_list)))"
   ]
  },
  {
   "cell_type": "code",
   "execution_count": 4,
   "metadata": {},
   "outputs": [
    {
     "data": {
      "text/html": [
       "<div>\n",
       "<style scoped>\n",
       "    .dataframe tbody tr th:only-of-type {\n",
       "        vertical-align: middle;\n",
       "    }\n",
       "\n",
       "    .dataframe tbody tr th {\n",
       "        vertical-align: top;\n",
       "    }\n",
       "\n",
       "    .dataframe thead th {\n",
       "        text-align: right;\n",
       "    }\n",
       "</style>\n",
       "<table border=\"1\" class=\"dataframe\">\n",
       "  <thead>\n",
       "    <tr style=\"text-align: right;\">\n",
       "      <th></th>\n",
       "      <th>director_name</th>\n",
       "      <th>plot_keywords</th>\n",
       "      <th>genres</th>\n",
       "      <th>country</th>\n",
       "      <th>movie_title</th>\n",
       "      <th>actor_2_name</th>\n",
       "      <th>title_year</th>\n",
       "      <th>actor_3_name</th>\n",
       "      <th>content_rating</th>\n",
       "      <th>imdb_score</th>\n",
       "      <th>movie_facebook_likes</th>\n",
       "      <th>budget</th>\n",
       "      <th>gross</th>\n",
       "      <th>num_critic_for_reviews</th>\n",
       "      <th>duration</th>\n",
       "      <th>language</th>\n",
       "    </tr>\n",
       "  </thead>\n",
       "  <tbody>\n",
       "    <tr>\n",
       "      <th>4943</th>\n",
       "      <td>Sai Varadan</td>\n",
       "      <td>place name in title</td>\n",
       "      <td>Drama</td>\n",
       "      <td>USA</td>\n",
       "      <td>An American in Hollywood</td>\n",
       "      <td>Hassan Johnson</td>\n",
       "      <td>2014.0</td>\n",
       "      <td>Samantha Esteban</td>\n",
       "      <td>R</td>\n",
       "      <td>7.2</td>\n",
       "      <td>72</td>\n",
       "      <td>125000.0</td>\n",
       "      <td>NaN</td>\n",
       "      <td>3.0</td>\n",
       "      <td>89.0</td>\n",
       "      <td>English</td>\n",
       "    </tr>\n",
       "    <tr>\n",
       "      <th>1919</th>\n",
       "      <td>Craig Gillespie</td>\n",
       "      <td>baseball|based on true story|india|sports agen...</td>\n",
       "      <td>Biography|Drama|Sport</td>\n",
       "      <td>USA</td>\n",
       "      <td>Million Dollar Arm</td>\n",
       "      <td>Suraj Sharma</td>\n",
       "      <td>2014.0</td>\n",
       "      <td>Gregory Alan Williams</td>\n",
       "      <td>PG</td>\n",
       "      <td>7.0</td>\n",
       "      <td>10000</td>\n",
       "      <td>25000000.0</td>\n",
       "      <td>36447959.0</td>\n",
       "      <td>151.0</td>\n",
       "      <td>124.0</td>\n",
       "      <td>English</td>\n",
       "    </tr>\n",
       "    <tr>\n",
       "      <th>1049</th>\n",
       "      <td>James Mangold</td>\n",
       "      <td>bridge|brooklyn bridge|falling down an elevato...</td>\n",
       "      <td>Comedy|Fantasy|Romance</td>\n",
       "      <td>USA</td>\n",
       "      <td>Kate &amp; Leopold</td>\n",
       "      <td>Natasha Lyonne</td>\n",
       "      <td>2001.0</td>\n",
       "      <td>Bradley Whitford</td>\n",
       "      <td>PG-13</td>\n",
       "      <td>6.4</td>\n",
       "      <td>0</td>\n",
       "      <td>48000000.0</td>\n",
       "      <td>47095453.0</td>\n",
       "      <td>125.0</td>\n",
       "      <td>123.0</td>\n",
       "      <td>English</td>\n",
       "    </tr>\n",
       "    <tr>\n",
       "      <th>4697</th>\n",
       "      <td>Jennifer Wynne Farmer</td>\n",
       "      <td>cosmetics|female protagonist|native american|n...</td>\n",
       "      <td>Drama</td>\n",
       "      <td>USA</td>\n",
       "      <td>Naturally Native</td>\n",
       "      <td>Akima</td>\n",
       "      <td>1998.0</td>\n",
       "      <td>Max Gail</td>\n",
       "      <td>PG-13</td>\n",
       "      <td>6.5</td>\n",
       "      <td>102</td>\n",
       "      <td>700000.0</td>\n",
       "      <td>10508.0</td>\n",
       "      <td>2.0</td>\n",
       "      <td>107.0</td>\n",
       "      <td>English</td>\n",
       "    </tr>\n",
       "    <tr>\n",
       "      <th>3312</th>\n",
       "      <td>Dario Argento</td>\n",
       "      <td>black cat|cat|evil|photographer|undead</td>\n",
       "      <td>Horror</td>\n",
       "      <td>Italy</td>\n",
       "      <td>Two Evil Eyes</td>\n",
       "      <td>Adrienne Barbeau</td>\n",
       "      <td>1990.0</td>\n",
       "      <td>Sally Kirkland</td>\n",
       "      <td>R</td>\n",
       "      <td>6.1</td>\n",
       "      <td>375</td>\n",
       "      <td>9000000.0</td>\n",
       "      <td>349618.0</td>\n",
       "      <td>76.0</td>\n",
       "      <td>120.0</td>\n",
       "      <td>English</td>\n",
       "    </tr>\n",
       "    <tr>\n",
       "      <th>...</th>\n",
       "      <td>...</td>\n",
       "      <td>...</td>\n",
       "      <td>...</td>\n",
       "      <td>...</td>\n",
       "      <td>...</td>\n",
       "      <td>...</td>\n",
       "      <td>...</td>\n",
       "      <td>...</td>\n",
       "      <td>...</td>\n",
       "      <td>...</td>\n",
       "      <td>...</td>\n",
       "      <td>...</td>\n",
       "      <td>...</td>\n",
       "      <td>...</td>\n",
       "      <td>...</td>\n",
       "      <td>...</td>\n",
       "    </tr>\n",
       "    <tr>\n",
       "      <th>3437</th>\n",
       "      <td>David Oelhoffen</td>\n",
       "      <td>algerian war|based on short story|hostage|teac...</td>\n",
       "      <td>Drama|War|Western</td>\n",
       "      <td>France</td>\n",
       "      <td>Far from Men</td>\n",
       "      <td>Reda Kateb</td>\n",
       "      <td>2014.0</td>\n",
       "      <td>Ángela Molina</td>\n",
       "      <td>NaN</td>\n",
       "      <td>7.3</td>\n",
       "      <td>2000</td>\n",
       "      <td>7700000.0</td>\n",
       "      <td>NaN</td>\n",
       "      <td>102.0</td>\n",
       "      <td>101.0</td>\n",
       "      <td>French</td>\n",
       "    </tr>\n",
       "    <tr>\n",
       "      <th>3718</th>\n",
       "      <td>Kevin Smith</td>\n",
       "      <td>fast food|fast food restaurant|new jersey|quic...</td>\n",
       "      <td>Comedy</td>\n",
       "      <td>USA</td>\n",
       "      <td>Clerks II</td>\n",
       "      <td>Jason Mewes</td>\n",
       "      <td>2006.0</td>\n",
       "      <td>Brian O'Halloran</td>\n",
       "      <td>R</td>\n",
       "      <td>7.4</td>\n",
       "      <td>0</td>\n",
       "      <td>5000000.0</td>\n",
       "      <td>24138847.0</td>\n",
       "      <td>174.0</td>\n",
       "      <td>97.0</td>\n",
       "      <td>English</td>\n",
       "    </tr>\n",
       "    <tr>\n",
       "      <th>3346</th>\n",
       "      <td>J.C. Chandor</td>\n",
       "      <td>boat|container|sea|shipping container|storm</td>\n",
       "      <td>Action|Adventure|Drama</td>\n",
       "      <td>USA</td>\n",
       "      <td>All Is Lost</td>\n",
       "      <td>NaN</td>\n",
       "      <td>2013.0</td>\n",
       "      <td>NaN</td>\n",
       "      <td>PG-13</td>\n",
       "      <td>6.9</td>\n",
       "      <td>18000</td>\n",
       "      <td>9000000.0</td>\n",
       "      <td>6262942.0</td>\n",
       "      <td>346.0</td>\n",
       "      <td>106.0</td>\n",
       "      <td>English</td>\n",
       "    </tr>\n",
       "    <tr>\n",
       "      <th>4867</th>\n",
       "      <td>Michael Kang</td>\n",
       "      <td>absent father|asian american|friendship betwee...</td>\n",
       "      <td>Comedy|Drama</td>\n",
       "      <td>USA</td>\n",
       "      <td>The Motel</td>\n",
       "      <td>Clint Jordan</td>\n",
       "      <td>2005.0</td>\n",
       "      <td>Jackie Nova</td>\n",
       "      <td>NaN</td>\n",
       "      <td>6.8</td>\n",
       "      <td>62</td>\n",
       "      <td>NaN</td>\n",
       "      <td>47111.0</td>\n",
       "      <td>27.0</td>\n",
       "      <td>75.0</td>\n",
       "      <td>Cantonese</td>\n",
       "    </tr>\n",
       "    <tr>\n",
       "      <th>4877</th>\n",
       "      <td>Tom Seidman</td>\n",
       "      <td>animal in title|christmas|farm|michigan|rabbit</td>\n",
       "      <td>Drama|Family</td>\n",
       "      <td>USA</td>\n",
       "      <td>The Christmas Bunny</td>\n",
       "      <td>Derek Brandon</td>\n",
       "      <td>2010.0</td>\n",
       "      <td>Charles Irving Beale</td>\n",
       "      <td>PG</td>\n",
       "      <td>6.2</td>\n",
       "      <td>0</td>\n",
       "      <td>250000.0</td>\n",
       "      <td>NaN</td>\n",
       "      <td>4.0</td>\n",
       "      <td>98.0</td>\n",
       "      <td>English</td>\n",
       "    </tr>\n",
       "  </tbody>\n",
       "</table>\n",
       "<p>2521 rows × 16 columns</p>\n",
       "</div>"
      ],
      "text/plain": [
       "              director_name  \\\n",
       "4943            Sai Varadan   \n",
       "1919        Craig Gillespie   \n",
       "1049          James Mangold   \n",
       "4697  Jennifer Wynne Farmer   \n",
       "3312          Dario Argento   \n",
       "...                     ...   \n",
       "3437        David Oelhoffen   \n",
       "3718            Kevin Smith   \n",
       "3346           J.C. Chandor   \n",
       "4867           Michael Kang   \n",
       "4877            Tom Seidman   \n",
       "\n",
       "                                          plot_keywords  \\\n",
       "4943                                place name in title   \n",
       "1919  baseball|based on true story|india|sports agen...   \n",
       "1049  bridge|brooklyn bridge|falling down an elevato...   \n",
       "4697  cosmetics|female protagonist|native american|n...   \n",
       "3312             black cat|cat|evil|photographer|undead   \n",
       "...                                                 ...   \n",
       "3437  algerian war|based on short story|hostage|teac...   \n",
       "3718  fast food|fast food restaurant|new jersey|quic...   \n",
       "3346        boat|container|sea|shipping container|storm   \n",
       "4867  absent father|asian american|friendship betwee...   \n",
       "4877     animal in title|christmas|farm|michigan|rabbit   \n",
       "\n",
       "                      genres country                movie_title  \\\n",
       "4943                   Drama     USA  An American in Hollywood    \n",
       "1919   Biography|Drama|Sport     USA        Million Dollar Arm    \n",
       "1049  Comedy|Fantasy|Romance     USA            Kate & Leopold    \n",
       "4697                   Drama     USA          Naturally Native    \n",
       "3312                  Horror   Italy             Two Evil Eyes    \n",
       "...                      ...     ...                        ...   \n",
       "3437       Drama|War|Western  France              Far from Men    \n",
       "3718                  Comedy     USA                 Clerks II    \n",
       "3346  Action|Adventure|Drama     USA               All Is Lost    \n",
       "4867            Comedy|Drama     USA                 The Motel    \n",
       "4877            Drama|Family     USA       The Christmas Bunny    \n",
       "\n",
       "          actor_2_name  title_year           actor_3_name content_rating  \\\n",
       "4943    Hassan Johnson      2014.0       Samantha Esteban              R   \n",
       "1919      Suraj Sharma      2014.0  Gregory Alan Williams             PG   \n",
       "1049    Natasha Lyonne      2001.0       Bradley Whitford          PG-13   \n",
       "4697             Akima      1998.0               Max Gail          PG-13   \n",
       "3312  Adrienne Barbeau      1990.0         Sally Kirkland              R   \n",
       "...                ...         ...                    ...            ...   \n",
       "3437        Reda Kateb      2014.0          Ángela Molina            NaN   \n",
       "3718       Jason Mewes      2006.0       Brian O'Halloran              R   \n",
       "3346               NaN      2013.0                    NaN          PG-13   \n",
       "4867      Clint Jordan      2005.0            Jackie Nova            NaN   \n",
       "4877     Derek Brandon      2010.0   Charles Irving Beale             PG   \n",
       "\n",
       "      imdb_score  movie_facebook_likes      budget       gross  \\\n",
       "4943         7.2                    72    125000.0         NaN   \n",
       "1919         7.0                 10000  25000000.0  36447959.0   \n",
       "1049         6.4                     0  48000000.0  47095453.0   \n",
       "4697         6.5                   102    700000.0     10508.0   \n",
       "3312         6.1                   375   9000000.0    349618.0   \n",
       "...          ...                   ...         ...         ...   \n",
       "3437         7.3                  2000   7700000.0         NaN   \n",
       "3718         7.4                     0   5000000.0  24138847.0   \n",
       "3346         6.9                 18000   9000000.0   6262942.0   \n",
       "4867         6.8                    62         NaN     47111.0   \n",
       "4877         6.2                     0    250000.0         NaN   \n",
       "\n",
       "      num_critic_for_reviews  duration   language  \n",
       "4943                     3.0      89.0    English  \n",
       "1919                   151.0     124.0    English  \n",
       "1049                   125.0     123.0    English  \n",
       "4697                     2.0     107.0    English  \n",
       "3312                    76.0     120.0    English  \n",
       "...                      ...       ...        ...  \n",
       "3437                   102.0     101.0     French  \n",
       "3718                   174.0      97.0    English  \n",
       "3346                   346.0     106.0    English  \n",
       "4867                    27.0      75.0  Cantonese  \n",
       "4877                     4.0      98.0    English  \n",
       "\n",
       "[2521 rows x 16 columns]"
      ]
     },
     "execution_count": 4,
     "metadata": {},
     "output_type": "execute_result"
    }
   ],
   "source": [
    "#Selecting Columns of interest \n",
    "\n",
    "modified_dev_list = dev_list[['director_name','plot_keywords', 'genres','country','movie_title', 'actor_2_name','title_year', 'actor_3_name', 'content_rating','imdb_score', 'movie_facebook_likes','budget', 'gross','num_critic_for_reviews', 'duration', 'language']]\n",
    "modified_dev_list.sort_values( by = 'gross', ascending= True)\n",
    "\n",
    "modified_dev_list"
   ]
  },
  {
   "attachments": {},
   "cell_type": "markdown",
   "metadata": {},
   "source": [
    "Visualizing Plot keywords given a query. The reason behind this is that keywords can sometimes be what informs a viewer's choice of a movie to watch."
   ]
  },
  {
   "cell_type": "code",
   "execution_count": 80,
   "metadata": {},
   "outputs": [],
   "source": [
    "def display_text_stat(query :str):\n",
    "    r\"\"\"Displays the counts of words used in plot of different subframes, simple enter query you wish\n",
    "    to access. Query is processed with pandas\"\"\"\n",
    "\n",
    "    df = modified_dev_list.query(query,  engine='python')\n",
    "\n",
    "    df = df[['plot_keywords']]\n",
    "    df['plot_keywords'] = df['plot_keywords'].astype(str).map(lambda x: x.split('|'))\n",
    "\n",
    "    keywords_list = []\n",
    "    for item in df['plot_keywords'].tolist():\n",
    "        keywords_list = keywords_list + item\n",
    "\n",
    "    distrib = dict(FreqDist(keywords_list))\n",
    "    distrib = pd.DataFrame(distrib, index = range(len(distrib.keys())))\n",
    "    distrib = distrib.T.reset_index()[['index', 0]].sort_values(by = 0, ascending = False)\n",
    "    distrib.columns = ['words', 'count']\n",
    "\n",
    "    fig = px.treemap(distrib[0:100], path=[px.Constant(\"Plot keywords\"), 'words'],\n",
    "                    values='count',\n",
    "                    color='count',\n",
    "                    color_continuous_scale='viridis',\n",
    "                    color_continuous_midpoint=np.average(distrib['count'])\n",
    "                    )\n",
    "    fig.update_layout(margin = dict(t=50, l=25, r=25, b=25))\n",
    "    return fig.show()\n",
    "    "
   ]
  },
  {
   "cell_type": "code",
   "execution_count": 81,
   "metadata": {},
   "outputs": [
    {
     "data": {
      "application/vnd.plotly.v1+json": {
       "config": {
        "plotlyServerURL": "https://plot.ly"
       },
       "data": [
        {
         "branchvalues": "total",
         "customdata": [
          [
           10
          ],
          [
           5
          ],
          [
           3
          ],
          [
           3
          ],
          [
           7
          ],
          [
           4
          ],
          [
           3
          ],
          [
           5
          ],
          [
           3
          ],
          [
           8
          ],
          [
           3
          ],
          [
           3
          ],
          [
           4
          ],
          [
           2
          ],
          [
           3
          ],
          [
           4
          ],
          [
           6
          ],
          [
           3
          ],
          [
           3
          ],
          [
           2
          ],
          [
           3
          ],
          [
           5
          ],
          [
           2
          ],
          [
           3
          ],
          [
           2
          ],
          [
           3
          ],
          [
           3
          ],
          [
           6
          ],
          [
           6
          ],
          [
           7
          ],
          [
           3
          ],
          [
           3
          ],
          [
           3
          ],
          [
           3
          ],
          [
           3
          ],
          [
           3
          ],
          [
           3
          ],
          [
           4
          ],
          [
           21
          ],
          [
           12
          ],
          [
           9
          ],
          [
           3
          ],
          [
           3
          ],
          [
           9
          ],
          [
           5
          ],
          [
           3
          ],
          [
           4
          ],
          [
           3
          ],
          [
           3
          ],
          [
           25
          ],
          [
           3
          ],
          [
           3
          ],
          [
           4
          ],
          [
           4
          ],
          [
           10
          ],
          [
           3
          ],
          [
           2
          ],
          [
           5
          ],
          [
           5
          ],
          [
           3
          ],
          [
           5
          ],
          [
           6
          ],
          [
           5
          ],
          [
           3
          ],
          [
           3
          ],
          [
           2
          ],
          [
           5
          ],
          [
           3
          ],
          [
           3
          ],
          [
           4
          ],
          [
           3
          ],
          [
           4
          ],
          [
           3
          ],
          [
           3
          ],
          [
           4
          ],
          [
           4
          ],
          [
           3
          ],
          [
           14
          ],
          [
           5
          ],
          [
           8
          ],
          [
           4
          ],
          [
           3
          ],
          [
           3
          ],
          [
           3
          ],
          [
           3
          ],
          [
           4
          ],
          [
           5
          ],
          [
           3
          ],
          [
           5
          ],
          [
           3
          ],
          [
           4
          ],
          [
           3
          ],
          [
           5
          ],
          [
           3
          ],
          [
           2
          ],
          [
           4
          ],
          [
           2
          ],
          [
           4
          ],
          [
           6
          ],
          [
           5
          ],
          [
           7.07032967032967
          ]
         ],
         "domain": {
          "x": [
           0,
           1
          ],
          "y": [
           0,
           1
          ]
         },
         "hovertemplate": "labels=%{label}<br>count_sum=%{value}<br>parent=%{parent}<br>id=%{id}<br>count=%{color}<extra></extra>",
         "ids": [
          "Plot keywords/actor",
          "Plot keywords/actress",
          "Plot keywords/artist",
          "Plot keywords/audition",
          "Plot keywords/baby",
          "Plot keywords/band",
          "Plot keywords/bartender",
          "Plot keywords/based on novel",
          "Plot keywords/basketball",
          "Plot keywords/best friend",
          "Plot keywords/blackmail",
          "Plot keywords/box office flop",
          "Plot keywords/boy",
          "Plot keywords/brother brother relationship",
          "Plot keywords/california",
          "Plot keywords/chef",
          "Plot keywords/christmas",
          "Plot keywords/christmas eve",
          "Plot keywords/cia",
          "Plot keywords/client",
          "Plot keywords/coach",
          "Plot keywords/college",
          "Plot keywords/colonel",
          "Plot keywords/coming of age",
          "Plot keywords/dancer",
          "Plot keywords/dating",
          "Plot keywords/death",
          "Plot keywords/divorce",
          "Plot keywords/dog",
          "Plot keywords/drugs",
          "Plot keywords/election",
          "Plot keywords/falling in love",
          "Plot keywords/farmer",
          "Plot keywords/father son relationship",
          "Plot keywords/female protagonist",
          "Plot keywords/fight",
          "Plot keywords/fraud",
          "Plot keywords/french",
          "Plot keywords/friend",
          "Plot keywords/friendship",
          "Plot keywords/gay",
          "Plot keywords/ghost",
          "Plot keywords/girl",
          "Plot keywords/high school",
          "Plot keywords/hotel",
          "Plot keywords/husband wife relationship",
          "Plot keywords/lawyer",
          "Plot keywords/lesbian",
          "Plot keywords/letter",
          "Plot keywords/love",
          "Plot keywords/madea series",
          "Plot keywords/mafia",
          "Plot keywords/male frontal nudity",
          "Plot keywords/male nudity",
          "Plot keywords/marriage",
          "Plot keywords/mexico",
          "Plot keywords/mother",
          "Plot keywords/murder",
          "Plot keywords/nan",
          "Plot keywords/neighbor",
          "Plot keywords/new york",
          "Plot keywords/new york city",
          "Plot keywords/nudity",
          "Plot keywords/nurse",
          "Plot keywords/one word title",
          "Plot keywords/panties",
          "Plot keywords/party",
          "Plot keywords/photographer",
          "Plot keywords/police",
          "Plot keywords/pregnancy",
          "Plot keywords/prison",
          "Plot keywords/private school",
          "Plot keywords/professor",
          "Plot keywords/psychologist",
          "Plot keywords/restaurant",
          "Plot keywords/road trip",
          "Plot keywords/salesman",
          "Plot keywords/school",
          "Plot keywords/secret",
          "Plot keywords/sex",
          "Plot keywords/singing",
          "Plot keywords/sister",
          "Plot keywords/sister sister relationship",
          "Plot keywords/song",
          "Plot keywords/stripper",
          "Plot keywords/student",
          "Plot keywords/summer",
          "Plot keywords/swimming pool",
          "Plot keywords/teacher",
          "Plot keywords/teen movie",
          "Plot keywords/teenager",
          "Plot keywords/television",
          "Plot keywords/texas",
          "Plot keywords/title directed by female",
          "Plot keywords/underwear",
          "Plot keywords/vacation",
          "Plot keywords/virginity",
          "Plot keywords/vomiting",
          "Plot keywords/wedding",
          "Plot keywords/writer",
          "Plot keywords"
         ],
         "labels": [
          "actor",
          "actress",
          "artist",
          "audition",
          "baby",
          "band",
          "bartender",
          "based on novel",
          "basketball",
          "best friend",
          "blackmail",
          "box office flop",
          "boy",
          "brother brother relationship",
          "california",
          "chef",
          "christmas",
          "christmas eve",
          "cia",
          "client",
          "coach",
          "college",
          "colonel",
          "coming of age",
          "dancer",
          "dating",
          "death",
          "divorce",
          "dog",
          "drugs",
          "election",
          "falling in love",
          "farmer",
          "father son relationship",
          "female protagonist",
          "fight",
          "fraud",
          "french",
          "friend",
          "friendship",
          "gay",
          "ghost",
          "girl",
          "high school",
          "hotel",
          "husband wife relationship",
          "lawyer",
          "lesbian",
          "letter",
          "love",
          "madea series",
          "mafia",
          "male frontal nudity",
          "male nudity",
          "marriage",
          "mexico",
          "mother",
          "murder",
          "nan",
          "neighbor",
          "new york",
          "new york city",
          "nudity",
          "nurse",
          "one word title",
          "panties",
          "party",
          "photographer",
          "police",
          "pregnancy",
          "prison",
          "private school",
          "professor",
          "psychologist",
          "restaurant",
          "road trip",
          "salesman",
          "school",
          "secret",
          "sex",
          "singing",
          "sister",
          "sister sister relationship",
          "song",
          "stripper",
          "student",
          "summer",
          "swimming pool",
          "teacher",
          "teen movie",
          "teenager",
          "television",
          "texas",
          "title directed by female",
          "underwear",
          "vacation",
          "virginity",
          "vomiting",
          "wedding",
          "writer",
          "Plot keywords"
         ],
         "marker": {
          "coloraxis": "coloraxis",
          "colors": [
           10,
           5,
           3,
           3,
           7,
           4,
           3,
           5,
           3,
           8,
           3,
           3,
           4,
           2,
           3,
           4,
           6,
           3,
           3,
           2,
           3,
           5,
           2,
           3,
           2,
           3,
           3,
           6,
           6,
           7,
           3,
           3,
           3,
           3,
           3,
           3,
           3,
           4,
           21,
           12,
           9,
           3,
           3,
           9,
           5,
           3,
           4,
           3,
           3,
           25,
           3,
           3,
           4,
           4,
           10,
           3,
           2,
           5,
           5,
           3,
           5,
           6,
           5,
           3,
           3,
           2,
           5,
           3,
           3,
           4,
           3,
           4,
           3,
           3,
           4,
           4,
           3,
           14,
           5,
           8,
           4,
           3,
           3,
           3,
           3,
           4,
           5,
           3,
           5,
           3,
           4,
           3,
           5,
           3,
           2,
           4,
           2,
           4,
           6,
           5,
           7.07032967032967
          ]
         },
         "name": "",
         "parents": [
          "Plot keywords",
          "Plot keywords",
          "Plot keywords",
          "Plot keywords",
          "Plot keywords",
          "Plot keywords",
          "Plot keywords",
          "Plot keywords",
          "Plot keywords",
          "Plot keywords",
          "Plot keywords",
          "Plot keywords",
          "Plot keywords",
          "Plot keywords",
          "Plot keywords",
          "Plot keywords",
          "Plot keywords",
          "Plot keywords",
          "Plot keywords",
          "Plot keywords",
          "Plot keywords",
          "Plot keywords",
          "Plot keywords",
          "Plot keywords",
          "Plot keywords",
          "Plot keywords",
          "Plot keywords",
          "Plot keywords",
          "Plot keywords",
          "Plot keywords",
          "Plot keywords",
          "Plot keywords",
          "Plot keywords",
          "Plot keywords",
          "Plot keywords",
          "Plot keywords",
          "Plot keywords",
          "Plot keywords",
          "Plot keywords",
          "Plot keywords",
          "Plot keywords",
          "Plot keywords",
          "Plot keywords",
          "Plot keywords",
          "Plot keywords",
          "Plot keywords",
          "Plot keywords",
          "Plot keywords",
          "Plot keywords",
          "Plot keywords",
          "Plot keywords",
          "Plot keywords",
          "Plot keywords",
          "Plot keywords",
          "Plot keywords",
          "Plot keywords",
          "Plot keywords",
          "Plot keywords",
          "Plot keywords",
          "Plot keywords",
          "Plot keywords",
          "Plot keywords",
          "Plot keywords",
          "Plot keywords",
          "Plot keywords",
          "Plot keywords",
          "Plot keywords",
          "Plot keywords",
          "Plot keywords",
          "Plot keywords",
          "Plot keywords",
          "Plot keywords",
          "Plot keywords",
          "Plot keywords",
          "Plot keywords",
          "Plot keywords",
          "Plot keywords",
          "Plot keywords",
          "Plot keywords",
          "Plot keywords",
          "Plot keywords",
          "Plot keywords",
          "Plot keywords",
          "Plot keywords",
          "Plot keywords",
          "Plot keywords",
          "Plot keywords",
          "Plot keywords",
          "Plot keywords",
          "Plot keywords",
          "Plot keywords",
          "Plot keywords",
          "Plot keywords",
          "Plot keywords",
          "Plot keywords",
          "Plot keywords",
          "Plot keywords",
          "Plot keywords",
          "Plot keywords",
          "Plot keywords",
          ""
         ],
         "type": "treemap",
         "values": [
          10,
          5,
          3,
          3,
          7,
          4,
          3,
          5,
          3,
          8,
          3,
          3,
          4,
          2,
          3,
          4,
          6,
          3,
          3,
          2,
          3,
          5,
          2,
          3,
          2,
          3,
          3,
          6,
          6,
          7,
          3,
          3,
          3,
          3,
          3,
          3,
          3,
          4,
          21,
          12,
          9,
          3,
          3,
          9,
          5,
          3,
          4,
          3,
          3,
          25,
          3,
          3,
          4,
          4,
          10,
          3,
          2,
          5,
          5,
          3,
          5,
          6,
          5,
          3,
          3,
          2,
          5,
          3,
          3,
          4,
          3,
          4,
          3,
          3,
          4,
          4,
          3,
          14,
          5,
          8,
          4,
          3,
          3,
          3,
          3,
          4,
          5,
          3,
          5,
          3,
          4,
          3,
          5,
          3,
          2,
          4,
          2,
          4,
          6,
          5,
          455
         ]
        }
       ],
       "layout": {
        "coloraxis": {
         "cmid": 1.4530938123752495,
         "colorbar": {
          "title": {
           "text": "count"
          }
         },
         "colorscale": [
          [
           0,
           "#440154"
          ],
          [
           0.1111111111111111,
           "#482878"
          ],
          [
           0.2222222222222222,
           "#3e4989"
          ],
          [
           0.3333333333333333,
           "#31688e"
          ],
          [
           0.4444444444444444,
           "#26828e"
          ],
          [
           0.5555555555555556,
           "#1f9e89"
          ],
          [
           0.6666666666666666,
           "#35b779"
          ],
          [
           0.7777777777777778,
           "#6ece58"
          ],
          [
           0.8888888888888888,
           "#b5de2b"
          ],
          [
           1,
           "#fde725"
          ]
         ]
        },
        "legend": {
         "tracegroupgap": 0
        },
        "margin": {
         "b": 25,
         "l": 25,
         "r": 25,
         "t": 50
        },
        "template": {
         "data": {
          "bar": [
           {
            "error_x": {
             "color": "#2a3f5f"
            },
            "error_y": {
             "color": "#2a3f5f"
            },
            "marker": {
             "line": {
              "color": "#E5ECF6",
              "width": 0.5
             },
             "pattern": {
              "fillmode": "overlay",
              "size": 10,
              "solidity": 0.2
             }
            },
            "type": "bar"
           }
          ],
          "barpolar": [
           {
            "marker": {
             "line": {
              "color": "#E5ECF6",
              "width": 0.5
             },
             "pattern": {
              "fillmode": "overlay",
              "size": 10,
              "solidity": 0.2
             }
            },
            "type": "barpolar"
           }
          ],
          "carpet": [
           {
            "aaxis": {
             "endlinecolor": "#2a3f5f",
             "gridcolor": "white",
             "linecolor": "white",
             "minorgridcolor": "white",
             "startlinecolor": "#2a3f5f"
            },
            "baxis": {
             "endlinecolor": "#2a3f5f",
             "gridcolor": "white",
             "linecolor": "white",
             "minorgridcolor": "white",
             "startlinecolor": "#2a3f5f"
            },
            "type": "carpet"
           }
          ],
          "choropleth": [
           {
            "colorbar": {
             "outlinewidth": 0,
             "ticks": ""
            },
            "type": "choropleth"
           }
          ],
          "contour": [
           {
            "colorbar": {
             "outlinewidth": 0,
             "ticks": ""
            },
            "colorscale": [
             [
              0,
              "#0d0887"
             ],
             [
              0.1111111111111111,
              "#46039f"
             ],
             [
              0.2222222222222222,
              "#7201a8"
             ],
             [
              0.3333333333333333,
              "#9c179e"
             ],
             [
              0.4444444444444444,
              "#bd3786"
             ],
             [
              0.5555555555555556,
              "#d8576b"
             ],
             [
              0.6666666666666666,
              "#ed7953"
             ],
             [
              0.7777777777777778,
              "#fb9f3a"
             ],
             [
              0.8888888888888888,
              "#fdca26"
             ],
             [
              1,
              "#f0f921"
             ]
            ],
            "type": "contour"
           }
          ],
          "contourcarpet": [
           {
            "colorbar": {
             "outlinewidth": 0,
             "ticks": ""
            },
            "type": "contourcarpet"
           }
          ],
          "heatmap": [
           {
            "colorbar": {
             "outlinewidth": 0,
             "ticks": ""
            },
            "colorscale": [
             [
              0,
              "#0d0887"
             ],
             [
              0.1111111111111111,
              "#46039f"
             ],
             [
              0.2222222222222222,
              "#7201a8"
             ],
             [
              0.3333333333333333,
              "#9c179e"
             ],
             [
              0.4444444444444444,
              "#bd3786"
             ],
             [
              0.5555555555555556,
              "#d8576b"
             ],
             [
              0.6666666666666666,
              "#ed7953"
             ],
             [
              0.7777777777777778,
              "#fb9f3a"
             ],
             [
              0.8888888888888888,
              "#fdca26"
             ],
             [
              1,
              "#f0f921"
             ]
            ],
            "type": "heatmap"
           }
          ],
          "heatmapgl": [
           {
            "colorbar": {
             "outlinewidth": 0,
             "ticks": ""
            },
            "colorscale": [
             [
              0,
              "#0d0887"
             ],
             [
              0.1111111111111111,
              "#46039f"
             ],
             [
              0.2222222222222222,
              "#7201a8"
             ],
             [
              0.3333333333333333,
              "#9c179e"
             ],
             [
              0.4444444444444444,
              "#bd3786"
             ],
             [
              0.5555555555555556,
              "#d8576b"
             ],
             [
              0.6666666666666666,
              "#ed7953"
             ],
             [
              0.7777777777777778,
              "#fb9f3a"
             ],
             [
              0.8888888888888888,
              "#fdca26"
             ],
             [
              1,
              "#f0f921"
             ]
            ],
            "type": "heatmapgl"
           }
          ],
          "histogram": [
           {
            "marker": {
             "pattern": {
              "fillmode": "overlay",
              "size": 10,
              "solidity": 0.2
             }
            },
            "type": "histogram"
           }
          ],
          "histogram2d": [
           {
            "colorbar": {
             "outlinewidth": 0,
             "ticks": ""
            },
            "colorscale": [
             [
              0,
              "#0d0887"
             ],
             [
              0.1111111111111111,
              "#46039f"
             ],
             [
              0.2222222222222222,
              "#7201a8"
             ],
             [
              0.3333333333333333,
              "#9c179e"
             ],
             [
              0.4444444444444444,
              "#bd3786"
             ],
             [
              0.5555555555555556,
              "#d8576b"
             ],
             [
              0.6666666666666666,
              "#ed7953"
             ],
             [
              0.7777777777777778,
              "#fb9f3a"
             ],
             [
              0.8888888888888888,
              "#fdca26"
             ],
             [
              1,
              "#f0f921"
             ]
            ],
            "type": "histogram2d"
           }
          ],
          "histogram2dcontour": [
           {
            "colorbar": {
             "outlinewidth": 0,
             "ticks": ""
            },
            "colorscale": [
             [
              0,
              "#0d0887"
             ],
             [
              0.1111111111111111,
              "#46039f"
             ],
             [
              0.2222222222222222,
              "#7201a8"
             ],
             [
              0.3333333333333333,
              "#9c179e"
             ],
             [
              0.4444444444444444,
              "#bd3786"
             ],
             [
              0.5555555555555556,
              "#d8576b"
             ],
             [
              0.6666666666666666,
              "#ed7953"
             ],
             [
              0.7777777777777778,
              "#fb9f3a"
             ],
             [
              0.8888888888888888,
              "#fdca26"
             ],
             [
              1,
              "#f0f921"
             ]
            ],
            "type": "histogram2dcontour"
           }
          ],
          "mesh3d": [
           {
            "colorbar": {
             "outlinewidth": 0,
             "ticks": ""
            },
            "type": "mesh3d"
           }
          ],
          "parcoords": [
           {
            "line": {
             "colorbar": {
              "outlinewidth": 0,
              "ticks": ""
             }
            },
            "type": "parcoords"
           }
          ],
          "pie": [
           {
            "automargin": true,
            "type": "pie"
           }
          ],
          "scatter": [
           {
            "fillpattern": {
             "fillmode": "overlay",
             "size": 10,
             "solidity": 0.2
            },
            "type": "scatter"
           }
          ],
          "scatter3d": [
           {
            "line": {
             "colorbar": {
              "outlinewidth": 0,
              "ticks": ""
             }
            },
            "marker": {
             "colorbar": {
              "outlinewidth": 0,
              "ticks": ""
             }
            },
            "type": "scatter3d"
           }
          ],
          "scattercarpet": [
           {
            "marker": {
             "colorbar": {
              "outlinewidth": 0,
              "ticks": ""
             }
            },
            "type": "scattercarpet"
           }
          ],
          "scattergeo": [
           {
            "marker": {
             "colorbar": {
              "outlinewidth": 0,
              "ticks": ""
             }
            },
            "type": "scattergeo"
           }
          ],
          "scattergl": [
           {
            "marker": {
             "colorbar": {
              "outlinewidth": 0,
              "ticks": ""
             }
            },
            "type": "scattergl"
           }
          ],
          "scattermapbox": [
           {
            "marker": {
             "colorbar": {
              "outlinewidth": 0,
              "ticks": ""
             }
            },
            "type": "scattermapbox"
           }
          ],
          "scatterpolar": [
           {
            "marker": {
             "colorbar": {
              "outlinewidth": 0,
              "ticks": ""
             }
            },
            "type": "scatterpolar"
           }
          ],
          "scatterpolargl": [
           {
            "marker": {
             "colorbar": {
              "outlinewidth": 0,
              "ticks": ""
             }
            },
            "type": "scatterpolargl"
           }
          ],
          "scatterternary": [
           {
            "marker": {
             "colorbar": {
              "outlinewidth": 0,
              "ticks": ""
             }
            },
            "type": "scatterternary"
           }
          ],
          "surface": [
           {
            "colorbar": {
             "outlinewidth": 0,
             "ticks": ""
            },
            "colorscale": [
             [
              0,
              "#0d0887"
             ],
             [
              0.1111111111111111,
              "#46039f"
             ],
             [
              0.2222222222222222,
              "#7201a8"
             ],
             [
              0.3333333333333333,
              "#9c179e"
             ],
             [
              0.4444444444444444,
              "#bd3786"
             ],
             [
              0.5555555555555556,
              "#d8576b"
             ],
             [
              0.6666666666666666,
              "#ed7953"
             ],
             [
              0.7777777777777778,
              "#fb9f3a"
             ],
             [
              0.8888888888888888,
              "#fdca26"
             ],
             [
              1,
              "#f0f921"
             ]
            ],
            "type": "surface"
           }
          ],
          "table": [
           {
            "cells": {
             "fill": {
              "color": "#EBF0F8"
             },
             "line": {
              "color": "white"
             }
            },
            "header": {
             "fill": {
              "color": "#C8D4E3"
             },
             "line": {
              "color": "white"
             }
            },
            "type": "table"
           }
          ]
         },
         "layout": {
          "annotationdefaults": {
           "arrowcolor": "#2a3f5f",
           "arrowhead": 0,
           "arrowwidth": 1
          },
          "autotypenumbers": "strict",
          "coloraxis": {
           "colorbar": {
            "outlinewidth": 0,
            "ticks": ""
           }
          },
          "colorscale": {
           "diverging": [
            [
             0,
             "#8e0152"
            ],
            [
             0.1,
             "#c51b7d"
            ],
            [
             0.2,
             "#de77ae"
            ],
            [
             0.3,
             "#f1b6da"
            ],
            [
             0.4,
             "#fde0ef"
            ],
            [
             0.5,
             "#f7f7f7"
            ],
            [
             0.6,
             "#e6f5d0"
            ],
            [
             0.7,
             "#b8e186"
            ],
            [
             0.8,
             "#7fbc41"
            ],
            [
             0.9,
             "#4d9221"
            ],
            [
             1,
             "#276419"
            ]
           ],
           "sequential": [
            [
             0,
             "#0d0887"
            ],
            [
             0.1111111111111111,
             "#46039f"
            ],
            [
             0.2222222222222222,
             "#7201a8"
            ],
            [
             0.3333333333333333,
             "#9c179e"
            ],
            [
             0.4444444444444444,
             "#bd3786"
            ],
            [
             0.5555555555555556,
             "#d8576b"
            ],
            [
             0.6666666666666666,
             "#ed7953"
            ],
            [
             0.7777777777777778,
             "#fb9f3a"
            ],
            [
             0.8888888888888888,
             "#fdca26"
            ],
            [
             1,
             "#f0f921"
            ]
           ],
           "sequentialminus": [
            [
             0,
             "#0d0887"
            ],
            [
             0.1111111111111111,
             "#46039f"
            ],
            [
             0.2222222222222222,
             "#7201a8"
            ],
            [
             0.3333333333333333,
             "#9c179e"
            ],
            [
             0.4444444444444444,
             "#bd3786"
            ],
            [
             0.5555555555555556,
             "#d8576b"
            ],
            [
             0.6666666666666666,
             "#ed7953"
            ],
            [
             0.7777777777777778,
             "#fb9f3a"
            ],
            [
             0.8888888888888888,
             "#fdca26"
            ],
            [
             1,
             "#f0f921"
            ]
           ]
          },
          "colorway": [
           "#636efa",
           "#EF553B",
           "#00cc96",
           "#ab63fa",
           "#FFA15A",
           "#19d3f3",
           "#FF6692",
           "#B6E880",
           "#FF97FF",
           "#FECB52"
          ],
          "font": {
           "color": "#2a3f5f"
          },
          "geo": {
           "bgcolor": "white",
           "lakecolor": "white",
           "landcolor": "#E5ECF6",
           "showlakes": true,
           "showland": true,
           "subunitcolor": "white"
          },
          "hoverlabel": {
           "align": "left"
          },
          "hovermode": "closest",
          "mapbox": {
           "style": "light"
          },
          "paper_bgcolor": "white",
          "plot_bgcolor": "#E5ECF6",
          "polar": {
           "angularaxis": {
            "gridcolor": "white",
            "linecolor": "white",
            "ticks": ""
           },
           "bgcolor": "#E5ECF6",
           "radialaxis": {
            "gridcolor": "white",
            "linecolor": "white",
            "ticks": ""
           }
          },
          "scene": {
           "xaxis": {
            "backgroundcolor": "#E5ECF6",
            "gridcolor": "white",
            "gridwidth": 2,
            "linecolor": "white",
            "showbackground": true,
            "ticks": "",
            "zerolinecolor": "white"
           },
           "yaxis": {
            "backgroundcolor": "#E5ECF6",
            "gridcolor": "white",
            "gridwidth": 2,
            "linecolor": "white",
            "showbackground": true,
            "ticks": "",
            "zerolinecolor": "white"
           },
           "zaxis": {
            "backgroundcolor": "#E5ECF6",
            "gridcolor": "white",
            "gridwidth": 2,
            "linecolor": "white",
            "showbackground": true,
            "ticks": "",
            "zerolinecolor": "white"
           }
          },
          "shapedefaults": {
           "line": {
            "color": "#2a3f5f"
           }
          },
          "ternary": {
           "aaxis": {
            "gridcolor": "white",
            "linecolor": "white",
            "ticks": ""
           },
           "baxis": {
            "gridcolor": "white",
            "linecolor": "white",
            "ticks": ""
           },
           "bgcolor": "#E5ECF6",
           "caxis": {
            "gridcolor": "white",
            "linecolor": "white",
            "ticks": ""
           }
          },
          "title": {
           "x": 0.05
          },
          "xaxis": {
           "automargin": true,
           "gridcolor": "white",
           "linecolor": "white",
           "ticks": "",
           "title": {
            "standoff": 15
           },
           "zerolinecolor": "white",
           "zerolinewidth": 2
          },
          "yaxis": {
           "automargin": true,
           "gridcolor": "white",
           "linecolor": "white",
           "ticks": "",
           "title": {
            "standoff": 15
           },
           "zerolinecolor": "white",
           "zerolinewidth": 2
          }
         }
        }
       }
      }
     },
     "metadata": {},
     "output_type": "display_data"
    }
   ],
   "source": [
    "display_text_stat('genres.str.contains(\"Drama\") and genres.str.contains(\"Comedy\")')"
   ]
  },
  {
   "cell_type": "code",
   "execution_count": 87,
   "metadata": {},
   "outputs": [
    {
     "data": {
      "application/vnd.plotly.v1+json": {
       "config": {
        "plotlyServerURL": "https://plot.ly"
       },
       "data": [
        {
         "branchvalues": "total",
         "customdata": [
          [
           6
          ],
          [
           5
          ],
          [
           6
          ],
          [
           13
          ],
          [
           6
          ],
          [
           6
          ],
          [
           6
          ],
          [
           9
          ],
          [
           5
          ],
          [
           10
          ],
          [
           12
          ],
          [
           5
          ],
          [
           11
          ],
          [
           12
          ],
          [
           6
          ],
          [
           5
          ],
          [
           6
          ],
          [
           6
          ],
          [
           6
          ],
          [
           7
          ],
          [
           10
          ],
          [
           9
          ],
          [
           6
          ],
          [
           5
          ],
          [
           8
          ],
          [
           6
          ],
          [
           7
          ],
          [
           18
          ],
          [
           7
          ],
          [
           7
          ],
          [
           6
          ],
          [
           5
          ],
          [
           5
          ],
          [
           5
          ],
          [
           9
          ],
          [
           7
          ],
          [
           8
          ],
          [
           6
          ],
          [
           5
          ],
          [
           19
          ],
          [
           6
          ],
          [
           6
          ],
          [
           11
          ],
          [
           10
          ],
          [
           8
          ],
          [
           18
          ],
          [
           5
          ],
          [
           8
          ],
          [
           13
          ],
          [
           10
          ],
          [
           5
          ],
          [
           39
          ],
          [
           7
          ],
          [
           6
          ],
          [
           11
          ],
          [
           8
          ],
          [
           8
          ],
          [
           9
          ],
          [
           9
          ],
          [
           5
          ],
          [
           8
          ],
          [
           5
          ],
          [
           6
          ],
          [
           11
          ],
          [
           6
          ],
          [
           5
          ],
          [
           5
          ],
          [
           9
          ],
          [
           5
          ],
          [
           5
          ],
          [
           15
          ],
          [
           10
          ],
          [
           7
          ],
          [
           8
          ],
          [
           12
          ],
          [
           10
          ],
          [
           6
          ],
          [
           5
          ],
          [
           15
          ],
          [
           9
          ],
          [
           11
          ],
          [
           6
          ],
          [
           5
          ],
          [
           6
          ],
          [
           7
          ],
          [
           9
          ],
          [
           7
          ],
          [
           5
          ],
          [
           8
          ],
          [
           6
          ],
          [
           12
          ],
          [
           8
          ],
          [
           5
          ],
          [
           6
          ],
          [
           9
          ],
          [
           5
          ],
          [
           7
          ],
          [
           5
          ],
          [
           11
          ],
          [
           6
          ],
          [
           10.464373464373464
          ]
         ],
         "domain": {
          "x": [
           0,
           1
          ],
          "y": [
           0,
           1
          ]
         },
         "hovertemplate": "labels=%{label}<br>count_sum=%{value}<br>parent=%{parent}<br>id=%{id}<br>count=%{color}<extra></extra>",
         "ids": [
          "Plot keywords/1950s",
          "Plot keywords/1970s",
          "Plot keywords/african american",
          "Plot keywords/alien",
          "Plot keywords/artist",
          "Plot keywords/assassin",
          "Plot keywords/bank",
          "Plot keywords/based on novel",
          "Plot keywords/basketball",
          "Plot keywords/battle",
          "Plot keywords/best friend",
          "Plot keywords/birthday",
          "Plot keywords/box office flop",
          "Plot keywords/boy",
          "Plot keywords/captain",
          "Plot keywords/car accident",
          "Plot keywords/casino",
          "Plot keywords/children",
          "Plot keywords/china",
          "Plot keywords/christmas",
          "Plot keywords/cia",
          "Plot keywords/college",
          "Plot keywords/coma",
          "Plot keywords/computer",
          "Plot keywords/critically bashed",
          "Plot keywords/cult film",
          "Plot keywords/dance",
          "Plot keywords/death",
          "Plot keywords/detective",
          "Plot keywords/divorce",
          "Plot keywords/escape",
          "Plot keywords/faith",
          "Plot keywords/father daughter relationship",
          "Plot keywords/father son relationship",
          "Plot keywords/fbi",
          "Plot keywords/female protagonist",
          "Plot keywords/fight",
          "Plot keywords/flashback",
          "Plot keywords/france",
          "Plot keywords/friend",
          "Plot keywords/friendship",
          "Plot keywords/funeral",
          "Plot keywords/future",
          "Plot keywords/ghost",
          "Plot keywords/heist",
          "Plot keywords/high school",
          "Plot keywords/hotel",
          "Plot keywords/island",
          "Plot keywords/king",
          "Plot keywords/lawyer",
          "Plot keywords/letter",
          "Plot keywords/love",
          "Plot keywords/magic",
          "Plot keywords/magician",
          "Plot keywords/marriage",
          "Plot keywords/martial arts",
          "Plot keywords/military",
          "Plot keywords/mission",
          "Plot keywords/murder",
          "Plot keywords/mutant",
          "Plot keywords/nan",
          "Plot keywords/neighbor",
          "Plot keywords/new york",
          "Plot keywords/new york city",
          "Plot keywords/on the run",
          "Plot keywords/one word title",
          "Plot keywords/overalls",
          "Plot keywords/party",
          "Plot keywords/photographer",
          "Plot keywords/planet",
          "Plot keywords/police",
          "Plot keywords/president",
          "Plot keywords/prison",
          "Plot keywords/professor",
          "Plot keywords/rescue",
          "Plot keywords/revenge",
          "Plot keywords/robot",
          "Plot keywords/russian",
          "Plot keywords/school",
          "Plot keywords/scientist",
          "Plot keywords/secret",
          "Plot keywords/sequel",
          "Plot keywords/singer",
          "Plot keywords/small town",
          "Plot keywords/soldier",
          "Plot keywords/spy",
          "Plot keywords/student",
          "Plot keywords/superhero",
          "Plot keywords/teacher",
          "Plot keywords/teenager",
          "Plot keywords/terrorist",
          "Plot keywords/texas",
          "Plot keywords/thief",
          "Plot keywords/title directed by female",
          "Plot keywords/train",
          "Plot keywords/undercover",
          "Plot keywords/vampire",
          "Plot keywords/warrior",
          "Plot keywords/wedding",
          "Plot keywords/writer",
          "Plot keywords"
         ],
         "labels": [
          "1950s",
          "1970s",
          "african american",
          "alien",
          "artist",
          "assassin",
          "bank",
          "based on novel",
          "basketball",
          "battle",
          "best friend",
          "birthday",
          "box office flop",
          "boy",
          "captain",
          "car accident",
          "casino",
          "children",
          "china",
          "christmas",
          "cia",
          "college",
          "coma",
          "computer",
          "critically bashed",
          "cult film",
          "dance",
          "death",
          "detective",
          "divorce",
          "escape",
          "faith",
          "father daughter relationship",
          "father son relationship",
          "fbi",
          "female protagonist",
          "fight",
          "flashback",
          "france",
          "friend",
          "friendship",
          "funeral",
          "future",
          "ghost",
          "heist",
          "high school",
          "hotel",
          "island",
          "king",
          "lawyer",
          "letter",
          "love",
          "magic",
          "magician",
          "marriage",
          "martial arts",
          "military",
          "mission",
          "murder",
          "mutant",
          "nan",
          "neighbor",
          "new york",
          "new york city",
          "on the run",
          "one word title",
          "overalls",
          "party",
          "photographer",
          "planet",
          "police",
          "president",
          "prison",
          "professor",
          "rescue",
          "revenge",
          "robot",
          "russian",
          "school",
          "scientist",
          "secret",
          "sequel",
          "singer",
          "small town",
          "soldier",
          "spy",
          "student",
          "superhero",
          "teacher",
          "teenager",
          "terrorist",
          "texas",
          "thief",
          "title directed by female",
          "train",
          "undercover",
          "vampire",
          "warrior",
          "wedding",
          "writer",
          "Plot keywords"
         ],
         "marker": {
          "coloraxis": "coloraxis",
          "colors": [
           6,
           5,
           6,
           13,
           6,
           6,
           6,
           9,
           5,
           10,
           12,
           5,
           11,
           12,
           6,
           5,
           6,
           6,
           6,
           7,
           10,
           9,
           6,
           5,
           8,
           6,
           7,
           18,
           7,
           7,
           6,
           5,
           5,
           5,
           9,
           7,
           8,
           6,
           5,
           19,
           6,
           6,
           11,
           10,
           8,
           18,
           5,
           8,
           13,
           10,
           5,
           39,
           7,
           6,
           11,
           8,
           8,
           9,
           9,
           5,
           8,
           5,
           6,
           11,
           6,
           5,
           5,
           9,
           5,
           5,
           15,
           10,
           7,
           8,
           12,
           10,
           6,
           5,
           15,
           9,
           11,
           6,
           5,
           6,
           7,
           9,
           7,
           5,
           8,
           6,
           12,
           8,
           5,
           6,
           9,
           5,
           7,
           5,
           11,
           6,
           10.464373464373464
          ]
         },
         "name": "",
         "parents": [
          "Plot keywords",
          "Plot keywords",
          "Plot keywords",
          "Plot keywords",
          "Plot keywords",
          "Plot keywords",
          "Plot keywords",
          "Plot keywords",
          "Plot keywords",
          "Plot keywords",
          "Plot keywords",
          "Plot keywords",
          "Plot keywords",
          "Plot keywords",
          "Plot keywords",
          "Plot keywords",
          "Plot keywords",
          "Plot keywords",
          "Plot keywords",
          "Plot keywords",
          "Plot keywords",
          "Plot keywords",
          "Plot keywords",
          "Plot keywords",
          "Plot keywords",
          "Plot keywords",
          "Plot keywords",
          "Plot keywords",
          "Plot keywords",
          "Plot keywords",
          "Plot keywords",
          "Plot keywords",
          "Plot keywords",
          "Plot keywords",
          "Plot keywords",
          "Plot keywords",
          "Plot keywords",
          "Plot keywords",
          "Plot keywords",
          "Plot keywords",
          "Plot keywords",
          "Plot keywords",
          "Plot keywords",
          "Plot keywords",
          "Plot keywords",
          "Plot keywords",
          "Plot keywords",
          "Plot keywords",
          "Plot keywords",
          "Plot keywords",
          "Plot keywords",
          "Plot keywords",
          "Plot keywords",
          "Plot keywords",
          "Plot keywords",
          "Plot keywords",
          "Plot keywords",
          "Plot keywords",
          "Plot keywords",
          "Plot keywords",
          "Plot keywords",
          "Plot keywords",
          "Plot keywords",
          "Plot keywords",
          "Plot keywords",
          "Plot keywords",
          "Plot keywords",
          "Plot keywords",
          "Plot keywords",
          "Plot keywords",
          "Plot keywords",
          "Plot keywords",
          "Plot keywords",
          "Plot keywords",
          "Plot keywords",
          "Plot keywords",
          "Plot keywords",
          "Plot keywords",
          "Plot keywords",
          "Plot keywords",
          "Plot keywords",
          "Plot keywords",
          "Plot keywords",
          "Plot keywords",
          "Plot keywords",
          "Plot keywords",
          "Plot keywords",
          "Plot keywords",
          "Plot keywords",
          "Plot keywords",
          "Plot keywords",
          "Plot keywords",
          "Plot keywords",
          "Plot keywords",
          "Plot keywords",
          "Plot keywords",
          "Plot keywords",
          "Plot keywords",
          "Plot keywords",
          "Plot keywords",
          ""
         ],
         "type": "treemap",
         "values": [
          6,
          5,
          6,
          13,
          6,
          6,
          6,
          9,
          5,
          10,
          12,
          5,
          11,
          12,
          6,
          5,
          6,
          6,
          6,
          7,
          10,
          9,
          6,
          5,
          8,
          6,
          7,
          18,
          7,
          7,
          6,
          5,
          5,
          5,
          9,
          7,
          8,
          6,
          5,
          19,
          6,
          6,
          11,
          10,
          8,
          18,
          5,
          8,
          13,
          10,
          5,
          39,
          7,
          6,
          11,
          8,
          8,
          9,
          9,
          5,
          8,
          5,
          6,
          11,
          6,
          5,
          5,
          9,
          5,
          5,
          15,
          10,
          7,
          8,
          12,
          10,
          6,
          5,
          15,
          9,
          11,
          6,
          5,
          6,
          7,
          9,
          7,
          5,
          8,
          6,
          12,
          8,
          5,
          6,
          9,
          5,
          7,
          5,
          11,
          6,
          814
         ]
        }
       ],
       "layout": {
        "coloraxis": {
         "cmid": 1.6262991414369634,
         "colorbar": {
          "title": {
           "text": "count"
          }
         },
         "colorscale": [
          [
           0,
           "#440154"
          ],
          [
           0.1111111111111111,
           "#482878"
          ],
          [
           0.2222222222222222,
           "#3e4989"
          ],
          [
           0.3333333333333333,
           "#31688e"
          ],
          [
           0.4444444444444444,
           "#26828e"
          ],
          [
           0.5555555555555556,
           "#1f9e89"
          ],
          [
           0.6666666666666666,
           "#35b779"
          ],
          [
           0.7777777777777778,
           "#6ece58"
          ],
          [
           0.8888888888888888,
           "#b5de2b"
          ],
          [
           1,
           "#fde725"
          ]
         ]
        },
        "legend": {
         "tracegroupgap": 0
        },
        "margin": {
         "b": 25,
         "l": 25,
         "r": 25,
         "t": 50
        },
        "template": {
         "data": {
          "bar": [
           {
            "error_x": {
             "color": "#2a3f5f"
            },
            "error_y": {
             "color": "#2a3f5f"
            },
            "marker": {
             "line": {
              "color": "#E5ECF6",
              "width": 0.5
             },
             "pattern": {
              "fillmode": "overlay",
              "size": 10,
              "solidity": 0.2
             }
            },
            "type": "bar"
           }
          ],
          "barpolar": [
           {
            "marker": {
             "line": {
              "color": "#E5ECF6",
              "width": 0.5
             },
             "pattern": {
              "fillmode": "overlay",
              "size": 10,
              "solidity": 0.2
             }
            },
            "type": "barpolar"
           }
          ],
          "carpet": [
           {
            "aaxis": {
             "endlinecolor": "#2a3f5f",
             "gridcolor": "white",
             "linecolor": "white",
             "minorgridcolor": "white",
             "startlinecolor": "#2a3f5f"
            },
            "baxis": {
             "endlinecolor": "#2a3f5f",
             "gridcolor": "white",
             "linecolor": "white",
             "minorgridcolor": "white",
             "startlinecolor": "#2a3f5f"
            },
            "type": "carpet"
           }
          ],
          "choropleth": [
           {
            "colorbar": {
             "outlinewidth": 0,
             "ticks": ""
            },
            "type": "choropleth"
           }
          ],
          "contour": [
           {
            "colorbar": {
             "outlinewidth": 0,
             "ticks": ""
            },
            "colorscale": [
             [
              0,
              "#0d0887"
             ],
             [
              0.1111111111111111,
              "#46039f"
             ],
             [
              0.2222222222222222,
              "#7201a8"
             ],
             [
              0.3333333333333333,
              "#9c179e"
             ],
             [
              0.4444444444444444,
              "#bd3786"
             ],
             [
              0.5555555555555556,
              "#d8576b"
             ],
             [
              0.6666666666666666,
              "#ed7953"
             ],
             [
              0.7777777777777778,
              "#fb9f3a"
             ],
             [
              0.8888888888888888,
              "#fdca26"
             ],
             [
              1,
              "#f0f921"
             ]
            ],
            "type": "contour"
           }
          ],
          "contourcarpet": [
           {
            "colorbar": {
             "outlinewidth": 0,
             "ticks": ""
            },
            "type": "contourcarpet"
           }
          ],
          "heatmap": [
           {
            "colorbar": {
             "outlinewidth": 0,
             "ticks": ""
            },
            "colorscale": [
             [
              0,
              "#0d0887"
             ],
             [
              0.1111111111111111,
              "#46039f"
             ],
             [
              0.2222222222222222,
              "#7201a8"
             ],
             [
              0.3333333333333333,
              "#9c179e"
             ],
             [
              0.4444444444444444,
              "#bd3786"
             ],
             [
              0.5555555555555556,
              "#d8576b"
             ],
             [
              0.6666666666666666,
              "#ed7953"
             ],
             [
              0.7777777777777778,
              "#fb9f3a"
             ],
             [
              0.8888888888888888,
              "#fdca26"
             ],
             [
              1,
              "#f0f921"
             ]
            ],
            "type": "heatmap"
           }
          ],
          "heatmapgl": [
           {
            "colorbar": {
             "outlinewidth": 0,
             "ticks": ""
            },
            "colorscale": [
             [
              0,
              "#0d0887"
             ],
             [
              0.1111111111111111,
              "#46039f"
             ],
             [
              0.2222222222222222,
              "#7201a8"
             ],
             [
              0.3333333333333333,
              "#9c179e"
             ],
             [
              0.4444444444444444,
              "#bd3786"
             ],
             [
              0.5555555555555556,
              "#d8576b"
             ],
             [
              0.6666666666666666,
              "#ed7953"
             ],
             [
              0.7777777777777778,
              "#fb9f3a"
             ],
             [
              0.8888888888888888,
              "#fdca26"
             ],
             [
              1,
              "#f0f921"
             ]
            ],
            "type": "heatmapgl"
           }
          ],
          "histogram": [
           {
            "marker": {
             "pattern": {
              "fillmode": "overlay",
              "size": 10,
              "solidity": 0.2
             }
            },
            "type": "histogram"
           }
          ],
          "histogram2d": [
           {
            "colorbar": {
             "outlinewidth": 0,
             "ticks": ""
            },
            "colorscale": [
             [
              0,
              "#0d0887"
             ],
             [
              0.1111111111111111,
              "#46039f"
             ],
             [
              0.2222222222222222,
              "#7201a8"
             ],
             [
              0.3333333333333333,
              "#9c179e"
             ],
             [
              0.4444444444444444,
              "#bd3786"
             ],
             [
              0.5555555555555556,
              "#d8576b"
             ],
             [
              0.6666666666666666,
              "#ed7953"
             ],
             [
              0.7777777777777778,
              "#fb9f3a"
             ],
             [
              0.8888888888888888,
              "#fdca26"
             ],
             [
              1,
              "#f0f921"
             ]
            ],
            "type": "histogram2d"
           }
          ],
          "histogram2dcontour": [
           {
            "colorbar": {
             "outlinewidth": 0,
             "ticks": ""
            },
            "colorscale": [
             [
              0,
              "#0d0887"
             ],
             [
              0.1111111111111111,
              "#46039f"
             ],
             [
              0.2222222222222222,
              "#7201a8"
             ],
             [
              0.3333333333333333,
              "#9c179e"
             ],
             [
              0.4444444444444444,
              "#bd3786"
             ],
             [
              0.5555555555555556,
              "#d8576b"
             ],
             [
              0.6666666666666666,
              "#ed7953"
             ],
             [
              0.7777777777777778,
              "#fb9f3a"
             ],
             [
              0.8888888888888888,
              "#fdca26"
             ],
             [
              1,
              "#f0f921"
             ]
            ],
            "type": "histogram2dcontour"
           }
          ],
          "mesh3d": [
           {
            "colorbar": {
             "outlinewidth": 0,
             "ticks": ""
            },
            "type": "mesh3d"
           }
          ],
          "parcoords": [
           {
            "line": {
             "colorbar": {
              "outlinewidth": 0,
              "ticks": ""
             }
            },
            "type": "parcoords"
           }
          ],
          "pie": [
           {
            "automargin": true,
            "type": "pie"
           }
          ],
          "scatter": [
           {
            "fillpattern": {
             "fillmode": "overlay",
             "size": 10,
             "solidity": 0.2
            },
            "type": "scatter"
           }
          ],
          "scatter3d": [
           {
            "line": {
             "colorbar": {
              "outlinewidth": 0,
              "ticks": ""
             }
            },
            "marker": {
             "colorbar": {
              "outlinewidth": 0,
              "ticks": ""
             }
            },
            "type": "scatter3d"
           }
          ],
          "scattercarpet": [
           {
            "marker": {
             "colorbar": {
              "outlinewidth": 0,
              "ticks": ""
             }
            },
            "type": "scattercarpet"
           }
          ],
          "scattergeo": [
           {
            "marker": {
             "colorbar": {
              "outlinewidth": 0,
              "ticks": ""
             }
            },
            "type": "scattergeo"
           }
          ],
          "scattergl": [
           {
            "marker": {
             "colorbar": {
              "outlinewidth": 0,
              "ticks": ""
             }
            },
            "type": "scattergl"
           }
          ],
          "scattermapbox": [
           {
            "marker": {
             "colorbar": {
              "outlinewidth": 0,
              "ticks": ""
             }
            },
            "type": "scattermapbox"
           }
          ],
          "scatterpolar": [
           {
            "marker": {
             "colorbar": {
              "outlinewidth": 0,
              "ticks": ""
             }
            },
            "type": "scatterpolar"
           }
          ],
          "scatterpolargl": [
           {
            "marker": {
             "colorbar": {
              "outlinewidth": 0,
              "ticks": ""
             }
            },
            "type": "scatterpolargl"
           }
          ],
          "scatterternary": [
           {
            "marker": {
             "colorbar": {
              "outlinewidth": 0,
              "ticks": ""
             }
            },
            "type": "scatterternary"
           }
          ],
          "surface": [
           {
            "colorbar": {
             "outlinewidth": 0,
             "ticks": ""
            },
            "colorscale": [
             [
              0,
              "#0d0887"
             ],
             [
              0.1111111111111111,
              "#46039f"
             ],
             [
              0.2222222222222222,
              "#7201a8"
             ],
             [
              0.3333333333333333,
              "#9c179e"
             ],
             [
              0.4444444444444444,
              "#bd3786"
             ],
             [
              0.5555555555555556,
              "#d8576b"
             ],
             [
              0.6666666666666666,
              "#ed7953"
             ],
             [
              0.7777777777777778,
              "#fb9f3a"
             ],
             [
              0.8888888888888888,
              "#fdca26"
             ],
             [
              1,
              "#f0f921"
             ]
            ],
            "type": "surface"
           }
          ],
          "table": [
           {
            "cells": {
             "fill": {
              "color": "#EBF0F8"
             },
             "line": {
              "color": "white"
             }
            },
            "header": {
             "fill": {
              "color": "#C8D4E3"
             },
             "line": {
              "color": "white"
             }
            },
            "type": "table"
           }
          ]
         },
         "layout": {
          "annotationdefaults": {
           "arrowcolor": "#2a3f5f",
           "arrowhead": 0,
           "arrowwidth": 1
          },
          "autotypenumbers": "strict",
          "coloraxis": {
           "colorbar": {
            "outlinewidth": 0,
            "ticks": ""
           }
          },
          "colorscale": {
           "diverging": [
            [
             0,
             "#8e0152"
            ],
            [
             0.1,
             "#c51b7d"
            ],
            [
             0.2,
             "#de77ae"
            ],
            [
             0.3,
             "#f1b6da"
            ],
            [
             0.4,
             "#fde0ef"
            ],
            [
             0.5,
             "#f7f7f7"
            ],
            [
             0.6,
             "#e6f5d0"
            ],
            [
             0.7,
             "#b8e186"
            ],
            [
             0.8,
             "#7fbc41"
            ],
            [
             0.9,
             "#4d9221"
            ],
            [
             1,
             "#276419"
            ]
           ],
           "sequential": [
            [
             0,
             "#0d0887"
            ],
            [
             0.1111111111111111,
             "#46039f"
            ],
            [
             0.2222222222222222,
             "#7201a8"
            ],
            [
             0.3333333333333333,
             "#9c179e"
            ],
            [
             0.4444444444444444,
             "#bd3786"
            ],
            [
             0.5555555555555556,
             "#d8576b"
            ],
            [
             0.6666666666666666,
             "#ed7953"
            ],
            [
             0.7777777777777778,
             "#fb9f3a"
            ],
            [
             0.8888888888888888,
             "#fdca26"
            ],
            [
             1,
             "#f0f921"
            ]
           ],
           "sequentialminus": [
            [
             0,
             "#0d0887"
            ],
            [
             0.1111111111111111,
             "#46039f"
            ],
            [
             0.2222222222222222,
             "#7201a8"
            ],
            [
             0.3333333333333333,
             "#9c179e"
            ],
            [
             0.4444444444444444,
             "#bd3786"
            ],
            [
             0.5555555555555556,
             "#d8576b"
            ],
            [
             0.6666666666666666,
             "#ed7953"
            ],
            [
             0.7777777777777778,
             "#fb9f3a"
            ],
            [
             0.8888888888888888,
             "#fdca26"
            ],
            [
             1,
             "#f0f921"
            ]
           ]
          },
          "colorway": [
           "#636efa",
           "#EF553B",
           "#00cc96",
           "#ab63fa",
           "#FFA15A",
           "#19d3f3",
           "#FF6692",
           "#B6E880",
           "#FF97FF",
           "#FECB52"
          ],
          "font": {
           "color": "#2a3f5f"
          },
          "geo": {
           "bgcolor": "white",
           "lakecolor": "white",
           "landcolor": "#E5ECF6",
           "showlakes": true,
           "showland": true,
           "subunitcolor": "white"
          },
          "hoverlabel": {
           "align": "left"
          },
          "hovermode": "closest",
          "mapbox": {
           "style": "light"
          },
          "paper_bgcolor": "white",
          "plot_bgcolor": "#E5ECF6",
          "polar": {
           "angularaxis": {
            "gridcolor": "white",
            "linecolor": "white",
            "ticks": ""
           },
           "bgcolor": "#E5ECF6",
           "radialaxis": {
            "gridcolor": "white",
            "linecolor": "white",
            "ticks": ""
           }
          },
          "scene": {
           "xaxis": {
            "backgroundcolor": "#E5ECF6",
            "gridcolor": "white",
            "gridwidth": 2,
            "linecolor": "white",
            "showbackground": true,
            "ticks": "",
            "zerolinecolor": "white"
           },
           "yaxis": {
            "backgroundcolor": "#E5ECF6",
            "gridcolor": "white",
            "gridwidth": 2,
            "linecolor": "white",
            "showbackground": true,
            "ticks": "",
            "zerolinecolor": "white"
           },
           "zaxis": {
            "backgroundcolor": "#E5ECF6",
            "gridcolor": "white",
            "gridwidth": 2,
            "linecolor": "white",
            "showbackground": true,
            "ticks": "",
            "zerolinecolor": "white"
           }
          },
          "shapedefaults": {
           "line": {
            "color": "#2a3f5f"
           }
          },
          "ternary": {
           "aaxis": {
            "gridcolor": "white",
            "linecolor": "white",
            "ticks": ""
           },
           "baxis": {
            "gridcolor": "white",
            "linecolor": "white",
            "ticks": ""
           },
           "bgcolor": "#E5ECF6",
           "caxis": {
            "gridcolor": "white",
            "linecolor": "white",
            "ticks": ""
           }
          },
          "title": {
           "x": 0.05
          },
          "xaxis": {
           "automargin": true,
           "gridcolor": "white",
           "linecolor": "white",
           "ticks": "",
           "title": {
            "standoff": 15
           },
           "zerolinecolor": "white",
           "zerolinewidth": 2
          },
          "yaxis": {
           "automargin": true,
           "gridcolor": "white",
           "linecolor": "white",
           "ticks": "",
           "title": {
            "standoff": 15
           },
           "zerolinecolor": "white",
           "zerolinewidth": 2
          }
         }
        }
       }
      }
     },
     "metadata": {},
     "output_type": "display_data"
    }
   ],
   "source": [
    "display_text_stat('content_rating == \"PG-13\"')"
   ]
  },
  {
   "cell_type": "markdown",
   "metadata": {},
   "source": [
    "EXAMINATION OF GROSS SALES : \n",
    "\n",
    "The gross sales is the key metric with which performance of the next movie will be judged. The examination of previous sales of movies will assist in making a projected outcome."
   ]
  },
  {
   "cell_type": "code",
   "execution_count": 4,
   "metadata": {},
   "outputs": [
    {
     "data": {
      "text/plain": [
       "Text(0.5, 1.0, 'Box plot of gross sales')"
      ]
     },
     "execution_count": 4,
     "metadata": {},
     "output_type": "execute_result"
    },
    {
     "data": {
      "image/png": "[encoded data removed]",
      "text/plain": [
       "<Figure size 432x288 with 1 Axes>"
      ]
     },
     "metadata": {},
     "output_type": "display_data"
    }
   ],
   "source": [
    "modified_dev_list['gross'].plot(kind = 'box', sym = '*', whis = 1.5)\n",
    "plt.title(\"Box plot of gross sales\")"
   ]
  },
  {
   "attachments": {},
   "cell_type": "markdown",
   "metadata": {},
   "source": [
    "From the above chart,  it can be seen above, the chart of the gross plot is extremely positively skewed with a lot of outliers. This means the gross sales of movie datasets is not normally distributed and using central tendency measures such as mean,mode and median to obtain a cutoff threshold may be misleading."
   ]
  },
  {
   "cell_type": "markdown",
   "metadata": {},
   "source": [
    "Gross sales vs Content rating "
   ]
  },
  {
   "cell_type": "code",
   "execution_count": 97,
   "metadata": {},
   "outputs": [
    {
     "data": {
      "text/plain": [
       "Text(0, 0.5, 'count')"
      ]
     },
     "execution_count": 97,
     "metadata": {},
     "output_type": "execute_result"
    },
    {
     "data": {
      "image/png": "[encoded data removed]",
      "text/plain": [
       "<Figure size 720x504 with 2 Axes>"
      ]
     },
     "metadata": {},
     "output_type": "display_data"
    }
   ],
   "source": [
    "#Checking the relationship between the content rating and gross \n",
    "fig, ax = plt.subplots(2,1, figsize = (10,7))\n",
    "ax1 = sns.boxplot(y = modified_dev_list['gross'].dropna(), x = modified_dev_list['content_rating'].dropna(), ax = ax[0])\n",
    "plt.xticks(rotation = 90 )\n",
    "#plt.title(\"Gross sales vs Content_rating\")\n",
    "\n",
    "content_rating_df = modified_dev_list[['movie_title','content_rating']].dropna()\n",
    "count_content_rating_df = content_rating_df.groupby('content_rating').count().sort_values(by = 'movie_title', ascending = False)\n",
    "count_content_rating_df.plot(kind = 'bar', ax= ax[1])\n",
    "\n",
    "plt.ylabel('count')\n",
    "#plt.title('Number of movies in each rating')"
   ]
  },
  {
   "cell_type": "code",
   "execution_count": 104,
   "metadata": {},
   "outputs": [
    {
     "data": {
      "application/vnd.plotly.v1+json": {
       "config": {
        "plotlyServerURL": "https://plot.ly"
       },
       "data": [
        {
         "branchvalues": "total",
         "customdata": [
          [
           1
          ],
          [
           1
          ],
          [
           3
          ],
          [
           1
          ],
          [
           1
          ],
          [
           1
          ],
          [
           1
          ],
          [
           1
          ],
          [
           1
          ],
          [
           1
          ],
          [
           2
          ],
          [
           1
          ],
          [
           1
          ],
          [
           2
          ],
          [
           2
          ],
          [
           1
          ],
          [
           1
          ],
          [
           1
          ],
          [
           1
          ],
          [
           1
          ],
          [
           2
          ],
          [
           1
          ],
          [
           1
          ],
          [
           2
          ],
          [
           1
          ],
          [
           2
          ],
          [
           1
          ],
          [
           1
          ],
          [
           1
          ],
          [
           1
          ],
          [
           2
          ],
          [
           4
          ],
          [
           2
          ],
          [
           1
          ],
          [
           1
          ],
          [
           2
          ],
          [
           1
          ],
          [
           2
          ],
          [
           1
          ],
          [
           1
          ],
          [
           1
          ],
          [
           1
          ],
          [
           3
          ],
          [
           1
          ],
          [
           1
          ],
          [
           1
          ],
          [
           1
          ],
          [
           1
          ],
          [
           1
          ],
          [
           1
          ],
          [
           1
          ],
          [
           1
          ],
          [
           1
          ],
          [
           1
          ],
          [
           1
          ],
          [
           3
          ],
          [
           1
          ],
          [
           1
          ],
          [
           1
          ],
          [
           1
          ],
          [
           1
          ],
          [
           1
          ],
          [
           1
          ],
          [
           2
          ],
          [
           2
          ],
          [
           1
          ],
          [
           1
          ],
          [
           1
          ],
          [
           1
          ],
          [
           1
          ],
          [
           1
          ],
          [
           2
          ],
          [
           1
          ],
          [
           1
          ],
          [
           1
          ],
          [
           4
          ],
          [
           1
          ],
          [
           1
          ],
          [
           1
          ],
          [
           2
          ],
          [
           2
          ],
          [
           1
          ],
          [
           4
          ],
          [
           1
          ],
          [
           1
          ],
          [
           2
          ],
          [
           1
          ],
          [
           1
          ],
          [
           1
          ],
          [
           1
          ],
          [
           1
          ],
          [
           1
          ],
          [
           1
          ],
          [
           1
          ],
          [
           1
          ],
          [
           1
          ],
          [
           1
          ],
          [
           5
          ],
          [
           1
          ],
          [
           1
          ],
          [
           1.7851851851851852
          ]
         ],
         "domain": {
          "x": [
           0,
           1
          ],
          "y": [
           0,
           1
          ]
         },
         "hovertemplate": "labels=%{label}<br>count_sum=%{value}<br>parent=%{parent}<br>id=%{id}<br>count=%{color}<extra></extra>",
         "ids": [
          "Plot keywords/1940s",
          "Plot keywords/70mm film",
          "Plot keywords/alien",
          "Plot keywords/amazon",
          "Plot keywords/animal in title",
          "Plot keywords/ape",
          "Plot keywords/apostrophe in title",
          "Plot keywords/arab",
          "Plot keywords/ash",
          "Plot keywords/automobile racing",
          "Plot keywords/baby",
          "Plot keywords/bear",
          "Plot keywords/biblical epic",
          "Plot keywords/bird",
          "Plot keywords/box office flop",
          "Plot keywords/breakfast",
          "Plot keywords/car",
          "Plot keywords/charity",
          "Plot keywords/chick",
          "Plot keywords/chipmunk",
          "Plot keywords/christmas",
          "Plot keywords/cinderella story",
          "Plot keywords/clouseau",
          "Plot keywords/coach",
          "Plot keywords/collector",
          "Plot keywords/college",
          "Plot keywords/coronation",
          "Plot keywords/critically bashed",
          "Plot keywords/cruise ship",
          "Plot keywords/dancer",
          "Plot keywords/diamond",
          "Plot keywords/disney",
          "Plot keywords/dog",
          "Plot keywords/earth",
          "Plot keywords/emperor penguin",
          "Plot keywords/escape",
          "Plot keywords/faith",
          "Plot keywords/farmer",
          "Plot keywords/father in law",
          "Plot keywords/fish out of water",
          "Plot keywords/football ball",
          "Plot keywords/foreign language adaptation",
          "Plot keywords/friend",
          "Plot keywords/gang that lives together",
          "Plot keywords/general",
          "Plot keywords/genie",
          "Plot keywords/gorilla",
          "Plot keywords/hit on the head with a ball",
          "Plot keywords/hope",
          "Plot keywords/horse",
          "Plot keywords/jewish",
          "Plot keywords/journey",
          "Plot keywords/jungle",
          "Plot keywords/king herod",
          "Plot keywords/lava",
          "Plot keywords/magic",
          "Plot keywords/makeover",
          "Plot keywords/manners",
          "Plot keywords/mechanic",
          "Plot keywords/mountain",
          "Plot keywords/nascar",
          "Plot keywords/no opening credits",
          "Plot keywords/obesity",
          "Plot keywords/ocean",
          "Plot keywords/one word title",
          "Plot keywords/outer space",
          "Plot keywords/outlaw gang",
          "Plot keywords/overboard",
          "Plot keywords/owl",
          "Plot keywords/panther",
          "Plot keywords/penguin",
          "Plot keywords/pig",
          "Plot keywords/pink",
          "Plot keywords/pink panther",
          "Plot keywords/plant",
          "Plot keywords/princess",
          "Plot keywords/principal",
          "Plot keywords/punctuation in title",
          "Plot keywords/queen",
          "Plot keywords/rabbit",
          "Plot keywords/rat",
          "Plot keywords/reference to a thousand and one nights",
          "Plot keywords/rescue",
          "Plot keywords/robot",
          "Plot keywords/satire",
          "Plot keywords/sequel",
          "Plot keywords/side saddle",
          "Plot keywords/small town",
          "Plot keywords/soil",
          "Plot keywords/sorcerer",
          "Plot keywords/street racing",
          "Plot keywords/summer",
          "Plot keywords/summer camp",
          "Plot keywords/summer vacation",
          "Plot keywords/taxi dancer",
          "Plot keywords/tennis ball",
          "Plot keywords/tiger",
          "Plot keywords/toy",
          "Plot keywords/tsunami",
          "Plot keywords/ufo",
          "Plot keywords"
         ],
         "labels": [
          "1940s",
          "70mm film",
          "alien",
          "amazon",
          "animal in title",
          "ape",
          "apostrophe in title",
          "arab",
          "ash",
          "automobile racing",
          "baby",
          "bear",
          "biblical epic",
          "bird",
          "box office flop",
          "breakfast",
          "car",
          "charity",
          "chick",
          "chipmunk",
          "christmas",
          "cinderella story",
          "clouseau",
          "coach",
          "collector",
          "college",
          "coronation",
          "critically bashed",
          "cruise ship",
          "dancer",
          "diamond",
          "disney",
          "dog",
          "earth",
          "emperor penguin",
          "escape",
          "faith",
          "farmer",
          "father in law",
          "fish out of water",
          "football ball",
          "foreign language adaptation",
          "friend",
          "gang that lives together",
          "general",
          "genie",
          "gorilla",
          "hit on the head with a ball",
          "hope",
          "horse",
          "jewish",
          "journey",
          "jungle",
          "king herod",
          "lava",
          "magic",
          "makeover",
          "manners",
          "mechanic",
          "mountain",
          "nascar",
          "no opening credits",
          "obesity",
          "ocean",
          "one word title",
          "outer space",
          "outlaw gang",
          "overboard",
          "owl",
          "panther",
          "penguin",
          "pig",
          "pink",
          "pink panther",
          "plant",
          "princess",
          "principal",
          "punctuation in title",
          "queen",
          "rabbit",
          "rat",
          "reference to a thousand and one nights",
          "rescue",
          "robot",
          "satire",
          "sequel",
          "side saddle",
          "small town",
          "soil",
          "sorcerer",
          "street racing",
          "summer",
          "summer camp",
          "summer vacation",
          "taxi dancer",
          "tennis ball",
          "tiger",
          "toy",
          "tsunami",
          "ufo",
          "Plot keywords"
         ],
         "marker": {
          "coloraxis": "coloraxis",
          "colors": [
           1,
           1,
           3,
           1,
           1,
           1,
           1,
           1,
           1,
           1,
           2,
           1,
           1,
           2,
           2,
           1,
           1,
           1,
           1,
           1,
           2,
           1,
           1,
           2,
           1,
           2,
           1,
           1,
           1,
           1,
           2,
           4,
           2,
           1,
           1,
           2,
           1,
           2,
           1,
           1,
           1,
           1,
           3,
           1,
           1,
           1,
           1,
           1,
           1,
           1,
           1,
           1,
           1,
           1,
           1,
           3,
           1,
           1,
           1,
           1,
           1,
           1,
           1,
           2,
           2,
           1,
           1,
           1,
           1,
           1,
           1,
           2,
           1,
           1,
           1,
           4,
           1,
           1,
           1,
           2,
           2,
           1,
           4,
           1,
           1,
           2,
           1,
           1,
           1,
           1,
           1,
           1,
           1,
           1,
           1,
           1,
           1,
           5,
           1,
           1,
           1.7851851851851852
          ]
         },
         "name": "",
         "parents": [
          "Plot keywords",
          "Plot keywords",
          "Plot keywords",
          "Plot keywords",
          "Plot keywords",
          "Plot keywords",
          "Plot keywords",
          "Plot keywords",
          "Plot keywords",
          "Plot keywords",
          "Plot keywords",
          "Plot keywords",
          "Plot keywords",
          "Plot keywords",
          "Plot keywords",
          "Plot keywords",
          "Plot keywords",
          "Plot keywords",
          "Plot keywords",
          "Plot keywords",
          "Plot keywords",
          "Plot keywords",
          "Plot keywords",
          "Plot keywords",
          "Plot keywords",
          "Plot keywords",
          "Plot keywords",
          "Plot keywords",
          "Plot keywords",
          "Plot keywords",
          "Plot keywords",
          "Plot keywords",
          "Plot keywords",
          "Plot keywords",
          "Plot keywords",
          "Plot keywords",
          "Plot keywords",
          "Plot keywords",
          "Plot keywords",
          "Plot keywords",
          "Plot keywords",
          "Plot keywords",
          "Plot keywords",
          "Plot keywords",
          "Plot keywords",
          "Plot keywords",
          "Plot keywords",
          "Plot keywords",
          "Plot keywords",
          "Plot keywords",
          "Plot keywords",
          "Plot keywords",
          "Plot keywords",
          "Plot keywords",
          "Plot keywords",
          "Plot keywords",
          "Plot keywords",
          "Plot keywords",
          "Plot keywords",
          "Plot keywords",
          "Plot keywords",
          "Plot keywords",
          "Plot keywords",
          "Plot keywords",
          "Plot keywords",
          "Plot keywords",
          "Plot keywords",
          "Plot keywords",
          "Plot keywords",
          "Plot keywords",
          "Plot keywords",
          "Plot keywords",
          "Plot keywords",
          "Plot keywords",
          "Plot keywords",
          "Plot keywords",
          "Plot keywords",
          "Plot keywords",
          "Plot keywords",
          "Plot keywords",
          "Plot keywords",
          "Plot keywords",
          "Plot keywords",
          "Plot keywords",
          "Plot keywords",
          "Plot keywords",
          "Plot keywords",
          "Plot keywords",
          "Plot keywords",
          "Plot keywords",
          "Plot keywords",
          "Plot keywords",
          "Plot keywords",
          "Plot keywords",
          "Plot keywords",
          "Plot keywords",
          "Plot keywords",
          "Plot keywords",
          "Plot keywords",
          "Plot keywords",
          ""
         ],
         "type": "treemap",
         "values": [
          1,
          1,
          3,
          1,
          1,
          1,
          1,
          1,
          1,
          1,
          2,
          1,
          1,
          2,
          2,
          1,
          1,
          1,
          1,
          1,
          2,
          1,
          1,
          2,
          1,
          2,
          1,
          1,
          1,
          1,
          2,
          4,
          2,
          1,
          1,
          2,
          1,
          2,
          1,
          1,
          1,
          1,
          3,
          1,
          1,
          1,
          1,
          1,
          1,
          1,
          1,
          1,
          1,
          1,
          1,
          3,
          1,
          1,
          1,
          1,
          1,
          1,
          1,
          2,
          2,
          1,
          1,
          1,
          1,
          1,
          1,
          2,
          1,
          1,
          1,
          4,
          1,
          1,
          1,
          2,
          2,
          1,
          4,
          1,
          1,
          2,
          1,
          1,
          1,
          1,
          1,
          1,
          1,
          1,
          1,
          1,
          1,
          5,
          1,
          1,
          135
         ]
        }
       ],
       "layout": {
        "coloraxis": {
         "cmid": 1.148936170212766,
         "colorbar": {
          "title": {
           "text": "count"
          }
         },
         "colorscale": [
          [
           0,
           "#440154"
          ],
          [
           0.1111111111111111,
           "#482878"
          ],
          [
           0.2222222222222222,
           "#3e4989"
          ],
          [
           0.3333333333333333,
           "#31688e"
          ],
          [
           0.4444444444444444,
           "#26828e"
          ],
          [
           0.5555555555555556,
           "#1f9e89"
          ],
          [
           0.6666666666666666,
           "#35b779"
          ],
          [
           0.7777777777777778,
           "#6ece58"
          ],
          [
           0.8888888888888888,
           "#b5de2b"
          ],
          [
           1,
           "#fde725"
          ]
         ]
        },
        "legend": {
         "tracegroupgap": 0
        },
        "margin": {
         "b": 25,
         "l": 25,
         "r": 25,
         "t": 50
        },
        "template": {
         "data": {
          "bar": [
           {
            "error_x": {
             "color": "#2a3f5f"
            },
            "error_y": {
             "color": "#2a3f5f"
            },
            "marker": {
             "line": {
              "color": "#E5ECF6",
              "width": 0.5
             },
             "pattern": {
              "fillmode": "overlay",
              "size": 10,
              "solidity": 0.2
             }
            },
            "type": "bar"
           }
          ],
          "barpolar": [
           {
            "marker": {
             "line": {
              "color": "#E5ECF6",
              "width": 0.5
             },
             "pattern": {
              "fillmode": "overlay",
              "size": 10,
              "solidity": 0.2
             }
            },
            "type": "barpolar"
           }
          ],
          "carpet": [
           {
            "aaxis": {
             "endlinecolor": "#2a3f5f",
             "gridcolor": "white",
             "linecolor": "white",
             "minorgridcolor": "white",
             "startlinecolor": "#2a3f5f"
            },
            "baxis": {
             "endlinecolor": "#2a3f5f",
             "gridcolor": "white",
             "linecolor": "white",
             "minorgridcolor": "white",
             "startlinecolor": "#2a3f5f"
            },
            "type": "carpet"
           }
          ],
          "choropleth": [
           {
            "colorbar": {
             "outlinewidth": 0,
             "ticks": ""
            },
            "type": "choropleth"
           }
          ],
          "contour": [
           {
            "colorbar": {
             "outlinewidth": 0,
             "ticks": ""
            },
            "colorscale": [
             [
              0,
              "#0d0887"
             ],
             [
              0.1111111111111111,
              "#46039f"
             ],
             [
              0.2222222222222222,
              "#7201a8"
             ],
             [
              0.3333333333333333,
              "#9c179e"
             ],
             [
              0.4444444444444444,
              "#bd3786"
             ],
             [
              0.5555555555555556,
              "#d8576b"
             ],
             [
              0.6666666666666666,
              "#ed7953"
             ],
             [
              0.7777777777777778,
              "#fb9f3a"
             ],
             [
              0.8888888888888888,
              "#fdca26"
             ],
             [
              1,
              "#f0f921"
             ]
            ],
            "type": "contour"
           }
          ],
          "contourcarpet": [
           {
            "colorbar": {
             "outlinewidth": 0,
             "ticks": ""
            },
            "type": "contourcarpet"
           }
          ],
          "heatmap": [
           {
            "colorbar": {
             "outlinewidth": 0,
             "ticks": ""
            },
            "colorscale": [
             [
              0,
              "#0d0887"
             ],
             [
              0.1111111111111111,
              "#46039f"
             ],
             [
              0.2222222222222222,
              "#7201a8"
             ],
             [
              0.3333333333333333,
              "#9c179e"
             ],
             [
              0.4444444444444444,
              "#bd3786"
             ],
             [
              0.5555555555555556,
              "#d8576b"
             ],
             [
              0.6666666666666666,
              "#ed7953"
             ],
             [
              0.7777777777777778,
              "#fb9f3a"
             ],
             [
              0.8888888888888888,
              "#fdca26"
             ],
             [
              1,
              "#f0f921"
             ]
            ],
            "type": "heatmap"
           }
          ],
          "heatmapgl": [
           {
            "colorbar": {
             "outlinewidth": 0,
             "ticks": ""
            },
            "colorscale": [
             [
              0,
              "#0d0887"
             ],
             [
              0.1111111111111111,
              "#46039f"
             ],
             [
              0.2222222222222222,
              "#7201a8"
             ],
             [
              0.3333333333333333,
              "#9c179e"
             ],
             [
              0.4444444444444444,
              "#bd3786"
             ],
             [
              0.5555555555555556,
              "#d8576b"
             ],
             [
              0.6666666666666666,
              "#ed7953"
             ],
             [
              0.7777777777777778,
              "#fb9f3a"
             ],
             [
              0.8888888888888888,
              "#fdca26"
             ],
             [
              1,
              "#f0f921"
             ]
            ],
            "type": "heatmapgl"
           }
          ],
          "histogram": [
           {
            "marker": {
             "pattern": {
              "fillmode": "overlay",
              "size": 10,
              "solidity": 0.2
             }
            },
            "type": "histogram"
           }
          ],
          "histogram2d": [
           {
            "colorbar": {
             "outlinewidth": 0,
             "ticks": ""
            },
            "colorscale": [
             [
              0,
              "#0d0887"
             ],
             [
              0.1111111111111111,
              "#46039f"
             ],
             [
              0.2222222222222222,
              "#7201a8"
             ],
             [
              0.3333333333333333,
              "#9c179e"
             ],
             [
              0.4444444444444444,
              "#bd3786"
             ],
             [
              0.5555555555555556,
              "#d8576b"
             ],
             [
              0.6666666666666666,
              "#ed7953"
             ],
             [
              0.7777777777777778,
              "#fb9f3a"
             ],
             [
              0.8888888888888888,
              "#fdca26"
             ],
             [
              1,
              "#f0f921"
             ]
            ],
            "type": "histogram2d"
           }
          ],
          "histogram2dcontour": [
           {
            "colorbar": {
             "outlinewidth": 0,
             "ticks": ""
            },
            "colorscale": [
             [
              0,
              "#0d0887"
             ],
             [
              0.1111111111111111,
              "#46039f"
             ],
             [
              0.2222222222222222,
              "#7201a8"
             ],
             [
              0.3333333333333333,
              "#9c179e"
             ],
             [
              0.4444444444444444,
              "#bd3786"
             ],
             [
              0.5555555555555556,
              "#d8576b"
             ],
             [
              0.6666666666666666,
              "#ed7953"
             ],
             [
              0.7777777777777778,
              "#fb9f3a"
             ],
             [
              0.8888888888888888,
              "#fdca26"
             ],
             [
              1,
              "#f0f921"
             ]
            ],
            "type": "histogram2dcontour"
           }
          ],
          "mesh3d": [
           {
            "colorbar": {
             "outlinewidth": 0,
             "ticks": ""
            },
            "type": "mesh3d"
           }
          ],
          "parcoords": [
           {
            "line": {
             "colorbar": {
              "outlinewidth": 0,
              "ticks": ""
             }
            },
            "type": "parcoords"
           }
          ],
          "pie": [
           {
            "automargin": true,
            "type": "pie"
           }
          ],
          "scatter": [
           {
            "fillpattern": {
             "fillmode": "overlay",
             "size": 10,
             "solidity": 0.2
            },
            "type": "scatter"
           }
          ],
          "scatter3d": [
           {
            "line": {
             "colorbar": {
              "outlinewidth": 0,
              "ticks": ""
             }
            },
            "marker": {
             "colorbar": {
              "outlinewidth": 0,
              "ticks": ""
             }
            },
            "type": "scatter3d"
           }
          ],
          "scattercarpet": [
           {
            "marker": {
             "colorbar": {
              "outlinewidth": 0,
              "ticks": ""
             }
            },
            "type": "scattercarpet"
           }
          ],
          "scattergeo": [
           {
            "marker": {
             "colorbar": {
              "outlinewidth": 0,
              "ticks": ""
             }
            },
            "type": "scattergeo"
           }
          ],
          "scattergl": [
           {
            "marker": {
             "colorbar": {
              "outlinewidth": 0,
              "ticks": ""
             }
            },
            "type": "scattergl"
           }
          ],
          "scattermapbox": [
           {
            "marker": {
             "colorbar": {
              "outlinewidth": 0,
              "ticks": ""
             }
            },
            "type": "scattermapbox"
           }
          ],
          "scatterpolar": [
           {
            "marker": {
             "colorbar": {
              "outlinewidth": 0,
              "ticks": ""
             }
            },
            "type": "scatterpolar"
           }
          ],
          "scatterpolargl": [
           {
            "marker": {
             "colorbar": {
              "outlinewidth": 0,
              "ticks": ""
             }
            },
            "type": "scatterpolargl"
           }
          ],
          "scatterternary": [
           {
            "marker": {
             "colorbar": {
              "outlinewidth": 0,
              "ticks": ""
             }
            },
            "type": "scatterternary"
           }
          ],
          "surface": [
           {
            "colorbar": {
             "outlinewidth": 0,
             "ticks": ""
            },
            "colorscale": [
             [
              0,
              "#0d0887"
             ],
             [
              0.1111111111111111,
              "#46039f"
             ],
             [
              0.2222222222222222,
              "#7201a8"
             ],
             [
              0.3333333333333333,
              "#9c179e"
             ],
             [
              0.4444444444444444,
              "#bd3786"
             ],
             [
              0.5555555555555556,
              "#d8576b"
             ],
             [
              0.6666666666666666,
              "#ed7953"
             ],
             [
              0.7777777777777778,
              "#fb9f3a"
             ],
             [
              0.8888888888888888,
              "#fdca26"
             ],
             [
              1,
              "#f0f921"
             ]
            ],
            "type": "surface"
           }
          ],
          "table": [
           {
            "cells": {
             "fill": {
              "color": "#EBF0F8"
             },
             "line": {
              "color": "white"
             }
            },
            "header": {
             "fill": {
              "color": "#C8D4E3"
             },
             "line": {
              "color": "white"
             }
            },
            "type": "table"
           }
          ]
         },
         "layout": {
          "annotationdefaults": {
           "arrowcolor": "#2a3f5f",
           "arrowhead": 0,
           "arrowwidth": 1
          },
          "autotypenumbers": "strict",
          "coloraxis": {
           "colorbar": {
            "outlinewidth": 0,
            "ticks": ""
           }
          },
          "colorscale": {
           "diverging": [
            [
             0,
             "#8e0152"
            ],
            [
             0.1,
             "#c51b7d"
            ],
            [
             0.2,
             "#de77ae"
            ],
            [
             0.3,
             "#f1b6da"
            ],
            [
             0.4,
             "#fde0ef"
            ],
            [
             0.5,
             "#f7f7f7"
            ],
            [
             0.6,
             "#e6f5d0"
            ],
            [
             0.7,
             "#b8e186"
            ],
            [
             0.8,
             "#7fbc41"
            ],
            [
             0.9,
             "#4d9221"
            ],
            [
             1,
             "#276419"
            ]
           ],
           "sequential": [
            [
             0,
             "#0d0887"
            ],
            [
             0.1111111111111111,
             "#46039f"
            ],
            [
             0.2222222222222222,
             "#7201a8"
            ],
            [
             0.3333333333333333,
             "#9c179e"
            ],
            [
             0.4444444444444444,
             "#bd3786"
            ],
            [
             0.5555555555555556,
             "#d8576b"
            ],
            [
             0.6666666666666666,
             "#ed7953"
            ],
            [
             0.7777777777777778,
             "#fb9f3a"
            ],
            [
             0.8888888888888888,
             "#fdca26"
            ],
            [
             1,
             "#f0f921"
            ]
           ],
           "sequentialminus": [
            [
             0,
             "#0d0887"
            ],
            [
             0.1111111111111111,
             "#46039f"
            ],
            [
             0.2222222222222222,
             "#7201a8"
            ],
            [
             0.3333333333333333,
             "#9c179e"
            ],
            [
             0.4444444444444444,
             "#bd3786"
            ],
            [
             0.5555555555555556,
             "#d8576b"
            ],
            [
             0.6666666666666666,
             "#ed7953"
            ],
            [
             0.7777777777777778,
             "#fb9f3a"
            ],
            [
             0.8888888888888888,
             "#fdca26"
            ],
            [
             1,
             "#f0f921"
            ]
           ]
          },
          "colorway": [
           "#636efa",
           "#EF553B",
           "#00cc96",
           "#ab63fa",
           "#FFA15A",
           "#19d3f3",
           "#FF6692",
           "#B6E880",
           "#FF97FF",
           "#FECB52"
          ],
          "font": {
           "color": "#2a3f5f"
          },
          "geo": {
           "bgcolor": "white",
           "lakecolor": "white",
           "landcolor": "#E5ECF6",
           "showlakes": true,
           "showland": true,
           "subunitcolor": "white"
          },
          "hoverlabel": {
           "align": "left"
          },
          "hovermode": "closest",
          "mapbox": {
           "style": "light"
          },
          "paper_bgcolor": "white",
          "plot_bgcolor": "#E5ECF6",
          "polar": {
           "angularaxis": {
            "gridcolor": "white",
            "linecolor": "white",
            "ticks": ""
           },
           "bgcolor": "#E5ECF6",
           "radialaxis": {
            "gridcolor": "white",
            "linecolor": "white",
            "ticks": ""
           }
          },
          "scene": {
           "xaxis": {
            "backgroundcolor": "#E5ECF6",
            "gridcolor": "white",
            "gridwidth": 2,
            "linecolor": "white",
            "showbackground": true,
            "ticks": "",
            "zerolinecolor": "white"
           },
           "yaxis": {
            "backgroundcolor": "#E5ECF6",
            "gridcolor": "white",
            "gridwidth": 2,
            "linecolor": "white",
            "showbackground": true,
            "ticks": "",
            "zerolinecolor": "white"
           },
           "zaxis": {
            "backgroundcolor": "#E5ECF6",
            "gridcolor": "white",
            "gridwidth": 2,
            "linecolor": "white",
            "showbackground": true,
            "ticks": "",
            "zerolinecolor": "white"
           }
          },
          "shapedefaults": {
           "line": {
            "color": "#2a3f5f"
           }
          },
          "ternary": {
           "aaxis": {
            "gridcolor": "white",
            "linecolor": "white",
            "ticks": ""
           },
           "baxis": {
            "gridcolor": "white",
            "linecolor": "white",
            "ticks": ""
           },
           "bgcolor": "#E5ECF6",
           "caxis": {
            "gridcolor": "white",
            "linecolor": "white",
            "ticks": ""
           }
          },
          "title": {
           "x": 0.05
          },
          "xaxis": {
           "automargin": true,
           "gridcolor": "white",
           "linecolor": "white",
           "ticks": "",
           "title": {
            "standoff": 15
           },
           "zerolinecolor": "white",
           "zerolinewidth": 2
          },
          "yaxis": {
           "automargin": true,
           "gridcolor": "white",
           "linecolor": "white",
           "ticks": "",
           "title": {
            "standoff": 15
           },
           "zerolinecolor": "white",
           "zerolinewidth": 2
          }
         }
        }
       }
      }
     },
     "metadata": {},
     "output_type": "display_data"
    }
   ],
   "source": [
    "display_text_stat('content_rating == \"G\"')"
   ]
  },
  {
   "attachments": {},
   "cell_type": "markdown",
   "metadata": {},
   "source": [
    "\n",
    "It can be seen that the categories \"R\",\"PG-13\",\"PG\" account for a major proportion of movies produced.\n",
    "\n",
    "It can be seen in the box plot that :\n",
    "- gross sales beating projection, with a lot of outlier values is a prevalent thing in the 'R', 'PG-13', and 'PG' group.\n",
    "- the 'G' content rating category that the mean of gross sales surpasses other categories, although with less outliers.\n",
    "- there are no outliers in the \"Approved\" category, which also presents a safe option.\n",
    "\n",
    "A point worthy of note is the low count of movies in the \"G\" category and the high average gross sale within this category. This suggests that an average movie in the \"G\" category makes a certain number of sales. This option seems a safe,low-risk option.\n"
   ]
  },
  {
   "cell_type": "markdown",
   "metadata": {},
   "source": [
    "GROSS SALES VS COUNTRY OF PRODUCTION"
   ]
  },
  {
   "cell_type": "code",
   "execution_count": 7,
   "metadata": {},
   "outputs": [
    {
     "data": {
      "text/plain": [
       "Text(0.5, 1.0, 'gross sales vs country')"
      ]
     },
     "execution_count": 7,
     "metadata": {},
     "output_type": "execute_result"
    },
    {
     "data": {
      "image/png": "[encoded data removed]",
      "text/plain": [
       "<Figure size 432x288 with 1 Axes>"
      ]
     },
     "metadata": {},
     "output_type": "display_data"
    }
   ],
   "source": [
    "#Checking the amount of movies in the content_rating categories\n",
    "gross_df = modified_dev_list[['country','gross']].dropna()\n",
    "gross_df = gross_df.groupby('country').sum().sort_values(by = 'gross', ascending = False)\n",
    "gross_df.plot(kind = 'bar')\n",
    "plt.ylabel('gross')\n",
    "plt.title(\"gross sales vs country\")"
   ]
  },
  {
   "cell_type": "markdown",
   "metadata": {},
   "source": [
    "Above is a chart that shows the gross sales, by country of production. It shows that majority of the movies are produced in the United States of America, followed by United Kingdom. It does not provide more information on which countries are responsible for the gross sale of this products"
   ]
  },
  {
   "cell_type": "markdown",
   "metadata": {},
   "source": [
    "Budget Breakdown"
   ]
  },
  {
   "cell_type": "code",
   "execution_count": 105,
   "metadata": {},
   "outputs": [
    {
     "data": {
      "text/plain": [
       "count    2.278000e+03\n",
       "mean     4.379772e+07\n",
       "std      2.796587e+08\n",
       "min      1.100000e+03\n",
       "25%      6.000000e+06\n",
       "50%      2.000000e+07\n",
       "75%      4.500000e+07\n",
       "max      1.221550e+10\n",
       "Name: budget, dtype: float64"
      ]
     },
     "execution_count": 105,
     "metadata": {},
     "output_type": "execute_result"
    }
   ],
   "source": [
    "modified_dev_list['budget'].describe()"
   ]
  },
  {
   "attachments": {},
   "cell_type": "markdown",
   "metadata": {},
   "source": [
    "Above is a breakdown of the budget statistics. It shows a maximum budget of around 12 billion, a minimum of 1100 and a mean of 44 million. "
   ]
  },
  {
   "cell_type": "code",
   "execution_count": 114,
   "metadata": {},
   "outputs": [
    {
     "data": {
      "text/plain": [
       "Text(0.5, 1.0, 'Plot of Gross vs Budget')"
      ]
     },
     "execution_count": 114,
     "metadata": {},
     "output_type": "execute_result"
    },
    {
     "data": {
      "image/png": "[encoded data removed]",
      "text/plain": [
       "<Figure size 720x360 with 2 Axes>"
      ]
     },
     "metadata": {},
     "output_type": "display_data"
    }
   ],
   "source": [
    "#Check relationship between gross and budget of movies\n",
    "fig, ax = plt.subplots(1,2, figsize = (10,5))\n",
    "sns.scatterplot(x = np.log(modified_dev_list['budget']), y = np.log(modified_dev_list['gross']), ax = ax[1])\n",
    "ax[1].set_title(\"Log plot of Gross vs Budget\")\n",
    "\n",
    "sns.scatterplot(x = modified_dev_list['budget'], y = modified_dev_list['gross'], ax = ax[0])\n",
    "ax[0].set_title(\"Plot of Gross vs Budget\")"
   ]
  },
  {
   "cell_type": "code",
   "execution_count": 108,
   "metadata": {},
   "outputs": [
    {
     "name": "stdout",
     "output_type": "stream",
     "text": [
      "The pearson correlation between gross and budget is 0.06424386347185942 while the spearman correlation is 0.6302213956994931\n"
     ]
    }
   ],
   "source": [
    "modified_dev_list = modified_dev_list.dropna()\n",
    "pearson_corr, _ = scipy.stats.pearsonr(modified_dev_list['gross'], modified_dev_list['budget'])\n",
    "spearman_corr, _ = scipy.stats.spearmanr(modified_dev_list['gross'], modified_dev_list['budget'])\n",
    "\n",
    "print(\"The pearson correlation between gross and budget is {} while the spearman correlation is {}\".format(pearson_corr, spearman_corr))"
   ]
  },
  {
   "attachments": {},
   "cell_type": "markdown",
   "metadata": {},
   "source": [
    "The correlation above displays that although there is a correlation between the budget of a movie and the sales, it is not linear but monotoic as displayed by spearman"
   ]
  },
  {
   "cell_type": "code",
   "execution_count": 11,
   "metadata": {},
   "outputs": [
    {
     "name": "stdout",
     "output_type": "stream",
     "text": [
      "Here are the statistics of the gross sales in the development dataset :  \n",
      "Count is 2061.0, \n",
      "Mean is 47022531.91508976, \n",
      "standard_deviation value is 64899281.77086928, \n",
      "Minimum is 1111.0, \n",
      "25th percentile is 5773519.0, \n",
      "50th percentile is 26003149.0, and \n",
      "75th percentile is 60054449.0, \n",
      "Maximum value is 658672302.0\n"
     ]
    }
   ],
   "source": [
    "import numpy as np\n",
    "#Using the top 75 percentile of the dev_test to determine characteristics of our next movie,  by examining the top 75, we can assess the predominant features\n",
    "\n",
    "imdb_score = modified_dev_list['imdb_score']\n",
    "gross = modified_dev_list['gross'].dropna()\n",
    "\n",
    "imdb_75 = np.percentile(list(imdb_score), 75)\n",
    "gross_75 = np.percentile(list(gross), 75)\n",
    "gross_25 = np.percentile(list(gross), 25)\n",
    "\n",
    "summary_statistics = list(gross.describe())\n",
    "\n",
    "#Format output to be easily readable\n",
    "print (f\"Here are the statistics of the gross sales in the development dataset :  \\nCount is {summary_statistics[0]}, \\nMean is {summary_statistics[1]}, \\nstandard_deviation value is {summary_statistics[2]}, \\nMinimum is {summary_statistics[3]}, \\n25th percentile is {summary_statistics[4]}, \\n50th percentile is {summary_statistics[5]}, and \\n75th percentile is {summary_statistics[6]}, \\nMaximum value is {summary_statistics[7]}\")"
   ]
  },
  {
   "cell_type": "markdown",
   "metadata": {},
   "source": [
    "In the same way, we make a statistical analysis of the gross, to know the average gross sales per movie, the 25th percentile, the 75th percentile. This will enable us make a reasonable projection for our next movie at SussexBudgetProductions. "
   ]
  },
  {
   "cell_type": "markdown",
   "metadata": {},
   "source": [
    "Relationships between gross sales and Underlying factors can be seen below. "
   ]
  },
  {
   "cell_type": "code",
   "execution_count": 12,
   "metadata": {},
   "outputs": [
    {
     "data": {
      "text/plain": [
       "<AxesSubplot:xlabel='title_year'>"
      ]
     },
     "execution_count": 12,
     "metadata": {},
     "output_type": "execute_result"
    },
    {
     "data": {
      "image/png": "[encoded data removed]",
      "text/plain": [
       "<Figure size 432x288 with 1 Axes>"
      ]
     },
     "metadata": {},
     "output_type": "display_data"
    }
   ],
   "source": [
    "#Trend line to show gross over the years\n",
    "modified_dev_list.groupby('title_year')['gross'].sum().sort_values(ascending = False).plot(kind = 'line')"
   ]
  },
  {
   "attachments": {},
   "cell_type": "markdown",
   "metadata": {},
   "source": [
    "1st chart above shows the relationship between the title_year and gross sales. It can be seen to group exponential over a period of 20 years up until 2000, where it has staggered back and forth. This can be attributed to less friction between the viewer and TV show with the advent of online streams and other experience shaping platforms. Since we cannot rewind time, it is inconsequential"
   ]
  },
  {
   "cell_type": "code",
   "execution_count": 13,
   "metadata": {},
   "outputs": [
    {
     "data": {
      "image/png": "[encoded data removed]",
      "text/plain": [
       "<Figure size 432x432 with 3 Axes>"
      ]
     },
     "metadata": {},
     "output_type": "display_data"
    }
   ],
   "source": [
    "#Check relationship between gross and number of critic reviews\n",
    "\n",
    "ax1 = sns.jointplot(x = modified_dev_list['num_critic_for_reviews'], y = modified_dev_list['gross'], kind = \"hex\")"
   ]
  },
  {
   "cell_type": "code",
   "execution_count": 119,
   "metadata": {},
   "outputs": [
    {
     "name": "stderr",
     "output_type": "stream",
     "text": [
      "/opt/homebrew/lib/python3.9/site-packages/pandas/core/arraylike.py:397: RuntimeWarning:\n",
      "\n",
      "divide by zero encountered in log\n",
      "\n"
     ]
    },
    {
     "data": {
      "text/plain": [
       "Text(0.5, 1.0, 'Gross vs movie_facebook_likes')"
      ]
     },
     "execution_count": 119,
     "metadata": {},
     "output_type": "execute_result"
    },
    {
     "data": {
      "image/png": "[encoded data removed]",
      "text/plain": [
       "<Figure size 720x360 with 2 Axes>"
      ]
     },
     "metadata": {},
     "output_type": "display_data"
    }
   ],
   "source": [
    "#Check relationship between gross and number of critic reviews\n",
    "fig,ax = plt.subplots(1,2, figsize = (10,5))\n",
    "ax1 = sns.scatterplot(x = modified_dev_list['num_critic_for_reviews'], y = modified_dev_list['gross'], ax = ax[0])\n",
    "ax[0].set_title(\"Gross vs number of critic reviews\")\n",
    "\n",
    "ax1 = sns.scatterplot(x = np.log(modified_dev_list['movie_facebook_likes']), y = np.log(modified_dev_list['gross']), ax = ax[1])\n",
    "ax[1].set_title(\"Gross vs movie_facebook_likes\")"
   ]
  },
  {
   "cell_type": "markdown",
   "metadata": {},
   "source": [
    "Imdb score vs gross sales "
   ]
  },
  {
   "cell_type": "code",
   "execution_count": 15,
   "metadata": {},
   "outputs": [
    {
     "data": {
      "text/plain": [
       "Text(0, 0.5, 'gross_sales')"
      ]
     },
     "execution_count": 15,
     "metadata": {},
     "output_type": "execute_result"
    },
    {
     "data": {
      "image/png": "[encoded data removed]",
      "text/plain": [
       "<Figure size 432x288 with 1 Axes>"
      ]
     },
     "metadata": {},
     "output_type": "display_data"
    }
   ],
   "source": [
    "modified_dev_list.groupby('imdb_score')['gross'].sum().sort_values(ascending = True).plot(kind = 'bar')\n",
    "plt.ylabel(\"gross_sales\")"
   ]
  },
  {
   "attachments": {},
   "cell_type": "markdown",
   "metadata": {},
   "source": [
    "We can see from the above plot that the gross sale of a movie increases with the IMDB SCORE. This is good, as it's a "
   ]
  },
  {
   "cell_type": "markdown",
   "metadata": {},
   "source": [
    "Examining Imdb_score"
   ]
  },
  {
   "cell_type": "code",
   "execution_count": 17,
   "metadata": {},
   "outputs": [
    {
     "data": {
      "text/plain": [
       "<AxesSubplot:>"
      ]
     },
     "execution_count": 17,
     "metadata": {},
     "output_type": "execute_result"
    },
    {
     "data": {
      "image/png": "[encoded data removed]",
      "text/plain": [
       "<Figure size 432x288 with 1 Axes>"
      ]
     },
     "metadata": {},
     "output_type": "display_data"
    }
   ],
   "source": [
    "modified_dev_list['imdb_score'].plot(kind = 'box')"
   ]
  },
  {
   "cell_type": "code",
   "execution_count": 18,
   "metadata": {},
   "outputs": [
    {
     "data": {
      "text/plain": [
       "Text(0, 0.5, 'count')"
      ]
     },
     "execution_count": 18,
     "metadata": {},
     "output_type": "execute_result"
    },
    {
     "data": {
      "image/png": "[encoded data removed]",
      "text/plain": [
       "<Figure size 432x288 with 1 Axes>"
      ]
     },
     "metadata": {},
     "output_type": "display_data"
    }
   ],
   "source": [
    "sns.histplot(modified_dev_list['imdb_score'])\n",
    "plt.ylabel(\"count\")"
   ]
  },
  {
   "cell_type": "code",
   "execution_count": 19,
   "metadata": {},
   "outputs": [
    {
     "data": {
      "text/plain": [
       "count    2521.000000\n",
       "mean        6.469695\n",
       "std         1.090097\n",
       "min         1.700000\n",
       "25%         5.800000\n",
       "50%         6.600000\n",
       "75%         7.200000\n",
       "max         9.300000\n",
       "Name: imdb_score, dtype: float64"
      ]
     },
     "execution_count": 19,
     "metadata": {},
     "output_type": "execute_result"
    }
   ],
   "source": [
    "modified_dev_list['imdb_score'].describe()"
   ]
  },
  {
   "cell_type": "markdown",
   "metadata": {},
   "source": [
    "The boxplot is negatively skewed, we can use the value of the mean as a reasonable threshold as this covers a significant segment of the data.\n",
    "\n",
    "Examining the box plot of the modified list, we can use the mean value to arrive at a reasonable threshold to filter suitable actors, directors, and genres for the production of our next movie. \n",
    "\n",
    "We exclude directors and movies with a score lower than the MEAN which is approximately 6.5"
   ]
  },
  {
   "cell_type": "code",
   "execution_count": 20,
   "metadata": {},
   "outputs": [
    {
     "data": {
      "text/html": [
       "<div>\n",
       "<style scoped>\n",
       "    .dataframe tbody tr th:only-of-type {\n",
       "        vertical-align: middle;\n",
       "    }\n",
       "\n",
       "    .dataframe tbody tr th {\n",
       "        vertical-align: top;\n",
       "    }\n",
       "\n",
       "    .dataframe thead th {\n",
       "        text-align: right;\n",
       "    }\n",
       "</style>\n",
       "<table border=\"1\" class=\"dataframe\">\n",
       "  <thead>\n",
       "    <tr style=\"text-align: right;\">\n",
       "      <th></th>\n",
       "      <th>director_name</th>\n",
       "      <th>number of movies</th>\n",
       "    </tr>\n",
       "  </thead>\n",
       "  <tbody>\n",
       "    <tr>\n",
       "      <th>475</th>\n",
       "      <td>Martin Scorsese</td>\n",
       "      <td>11</td>\n",
       "    </tr>\n",
       "    <tr>\n",
       "      <th>802</th>\n",
       "      <td>Woody Allen</td>\n",
       "      <td>11</td>\n",
       "    </tr>\n",
       "    <tr>\n",
       "      <th>734</th>\n",
       "      <td>Steven Spielberg</td>\n",
       "      <td>9</td>\n",
       "    </tr>\n",
       "    <tr>\n",
       "      <th>595</th>\n",
       "      <td>Peter Jackson</td>\n",
       "      <td>8</td>\n",
       "    </tr>\n",
       "    <tr>\n",
       "      <th>641</th>\n",
       "      <td>Ridley Scott</td>\n",
       "      <td>8</td>\n",
       "    </tr>\n",
       "    <tr>\n",
       "      <th>116</th>\n",
       "      <td>Clint Eastwood</td>\n",
       "      <td>7</td>\n",
       "    </tr>\n",
       "    <tr>\n",
       "      <th>733</th>\n",
       "      <td>Steven Soderbergh</td>\n",
       "      <td>7</td>\n",
       "    </tr>\n",
       "    <tr>\n",
       "      <th>681</th>\n",
       "      <td>Sam Mendes</td>\n",
       "      <td>6</td>\n",
       "    </tr>\n",
       "    <tr>\n",
       "      <th>723</th>\n",
       "      <td>Stephen Frears</td>\n",
       "      <td>6</td>\n",
       "    </tr>\n",
       "    <tr>\n",
       "      <th>661</th>\n",
       "      <td>Robert Zemeckis</td>\n",
       "      <td>6</td>\n",
       "    </tr>\n",
       "  </tbody>\n",
       "</table>\n",
       "</div>"
      ],
      "text/plain": [
       "         director_name  number of movies\n",
       "475    Martin Scorsese                11\n",
       "802        Woody Allen                11\n",
       "734   Steven Spielberg                 9\n",
       "595      Peter Jackson                 8\n",
       "641       Ridley Scott                 8\n",
       "116     Clint Eastwood                 7\n",
       "733  Steven Soderbergh                 7\n",
       "681         Sam Mendes                 6\n",
       "723     Stephen Frears                 6\n",
       "661    Robert Zemeckis                 6"
      ]
     },
     "execution_count": 20,
     "metadata": {},
     "output_type": "execute_result"
    }
   ],
   "source": [
    "#filtere dev_list to imdb_score greater than 6.5\n",
    "imdb_above_6_5 = modified_dev_list[modified_dev_list['imdb_score'] > 6.5]\n",
    "imdb_score = imdb_above_6_5[['director_name','actor_2_name','actor_3_name','imdb_score','genres', 'gross', 'movie_title']]\n",
    "\n",
    "#imdb_score.sort_values('count')\n",
    "director_movies =imdb_score.loc[:,['director_name','movie_title']].groupby('director_name')\n",
    "\n",
    "#make a new dataframe indexed by director which stores director and counts of movie titles\n",
    "movie_counts=director_movies.count().reset_index('director_name')\n",
    "\n",
    "#change column name to reduce confusion\n",
    "movie_counts.columns = ['director_name','number of movies']\n",
    "\n",
    "#sort by appropriate column\n",
    "movie_counts = movie_counts.sort_values('number of movies', ascending=False)\n",
    "\n",
    "#put into object containing the top director by name\n",
    "movie_x_dir = movie_counts[0:10]['director_name']\n",
    "\n",
    "#take a look at the top of the sorted object with name and number of movies \n",
    "movie_counts[0:10]"
   ]
  },
  {
   "cell_type": "markdown",
   "metadata": {},
   "source": [
    "The above list shows the list of recommended directors for the next movie. These are directors with a number of movies with an IMDB score greater than 6.5"
   ]
  },
  {
   "cell_type": "code",
   "execution_count": 27,
   "metadata": {},
   "outputs": [
    {
     "data": {
      "text/html": [
       "<div>\n",
       "<style scoped>\n",
       "    .dataframe tbody tr th:only-of-type {\n",
       "        vertical-align: middle;\n",
       "    }\n",
       "\n",
       "    .dataframe tbody tr th {\n",
       "        vertical-align: top;\n",
       "    }\n",
       "\n",
       "    .dataframe thead th {\n",
       "        text-align: right;\n",
       "    }\n",
       "</style>\n",
       "<table border=\"1\" class=\"dataframe\">\n",
       "  <thead>\n",
       "    <tr style=\"text-align: right;\">\n",
       "      <th></th>\n",
       "      <th>Genre</th>\n",
       "      <th>Count</th>\n",
       "    </tr>\n",
       "  </thead>\n",
       "  <tbody>\n",
       "    <tr>\n",
       "      <th>0</th>\n",
       "      <td>Drama</td>\n",
       "      <td>843</td>\n",
       "    </tr>\n",
       "    <tr>\n",
       "      <th>7</th>\n",
       "      <td>Comedy</td>\n",
       "      <td>371</td>\n",
       "    </tr>\n",
       "    <tr>\n",
       "      <th>5</th>\n",
       "      <td>Thriller</td>\n",
       "      <td>316</td>\n",
       "    </tr>\n",
       "    <tr>\n",
       "      <th>1</th>\n",
       "      <td>Romance</td>\n",
       "      <td>278</td>\n",
       "    </tr>\n",
       "    <tr>\n",
       "      <th>3</th>\n",
       "      <td>Adventure</td>\n",
       "      <td>247</td>\n",
       "    </tr>\n",
       "    <tr>\n",
       "      <th>2</th>\n",
       "      <td>Action</td>\n",
       "      <td>243</td>\n",
       "    </tr>\n",
       "    <tr>\n",
       "      <th>13</th>\n",
       "      <td>Crime</td>\n",
       "      <td>243</td>\n",
       "    </tr>\n",
       "    <tr>\n",
       "      <th>4</th>\n",
       "      <td>Sci-Fi</td>\n",
       "      <td>154</td>\n",
       "    </tr>\n",
       "    <tr>\n",
       "      <th>9</th>\n",
       "      <td>Fantasy</td>\n",
       "      <td>142</td>\n",
       "    </tr>\n",
       "    <tr>\n",
       "      <th>10</th>\n",
       "      <td>Mystery</td>\n",
       "      <td>142</td>\n",
       "    </tr>\n",
       "    <tr>\n",
       "      <th>17</th>\n",
       "      <td>Biography</td>\n",
       "      <td>134</td>\n",
       "    </tr>\n",
       "    <tr>\n",
       "      <th>8</th>\n",
       "      <td>Family</td>\n",
       "      <td>116</td>\n",
       "    </tr>\n",
       "    <tr>\n",
       "      <th>11</th>\n",
       "      <td>Horror</td>\n",
       "      <td>80</td>\n",
       "    </tr>\n",
       "    <tr>\n",
       "      <th>15</th>\n",
       "      <td>History</td>\n",
       "      <td>74</td>\n",
       "    </tr>\n",
       "    <tr>\n",
       "      <th>16</th>\n",
       "      <td>War</td>\n",
       "      <td>73</td>\n",
       "    </tr>\n",
       "    <tr>\n",
       "      <th>6</th>\n",
       "      <td>Animation</td>\n",
       "      <td>64</td>\n",
       "    </tr>\n",
       "    <tr>\n",
       "      <th>18</th>\n",
       "      <td>Music</td>\n",
       "      <td>55</td>\n",
       "    </tr>\n",
       "    <tr>\n",
       "      <th>12</th>\n",
       "      <td>Sport</td>\n",
       "      <td>52</td>\n",
       "    </tr>\n",
       "    <tr>\n",
       "      <th>20</th>\n",
       "      <td>Documentary</td>\n",
       "      <td>43</td>\n",
       "    </tr>\n",
       "    <tr>\n",
       "      <th>19</th>\n",
       "      <td>Western</td>\n",
       "      <td>32</td>\n",
       "    </tr>\n",
       "    <tr>\n",
       "      <th>14</th>\n",
       "      <td>Musical</td>\n",
       "      <td>31</td>\n",
       "    </tr>\n",
       "    <tr>\n",
       "      <th>21</th>\n",
       "      <td>Film-Noir</td>\n",
       "      <td>2</td>\n",
       "    </tr>\n",
       "    <tr>\n",
       "      <th>23</th>\n",
       "      <td>News</td>\n",
       "      <td>2</td>\n",
       "    </tr>\n",
       "    <tr>\n",
       "      <th>22</th>\n",
       "      <td>Short</td>\n",
       "      <td>1</td>\n",
       "    </tr>\n",
       "  </tbody>\n",
       "</table>\n",
       "</div>"
      ],
      "text/plain": [
       "          Genre  Count\n",
       "0         Drama    843\n",
       "7        Comedy    371\n",
       "5      Thriller    316\n",
       "1       Romance    278\n",
       "3     Adventure    247\n",
       "2        Action    243\n",
       "13        Crime    243\n",
       "4        Sci-Fi    154\n",
       "9       Fantasy    142\n",
       "10      Mystery    142\n",
       "17    Biography    134\n",
       "8        Family    116\n",
       "11       Horror     80\n",
       "15      History     74\n",
       "16          War     73\n",
       "6     Animation     64\n",
       "18        Music     55\n",
       "12        Sport     52\n",
       "20  Documentary     43\n",
       "19      Western     32\n",
       "14      Musical     31\n",
       "21    Film-Noir      2\n",
       "23         News      2\n",
       "22        Short      1"
      ]
     },
     "execution_count": 27,
     "metadata": {},
     "output_type": "execute_result"
    }
   ],
   "source": [
    "#Examining the predominant genres in top grossing movies\n",
    "top_grossing = imdb_above_6_5.sort_values(by = 'gross', ascending = False)\n",
    "\n",
    "#Converts Pd.series to list\n",
    "rec_genres = list(top_grossing['genres'])\n",
    "new_rec_genres = []\n",
    "\n",
    "#Splits element into individual genre\n",
    "for element in rec_genres:\n",
    "    new = element.split('|')\n",
    "    new_rec_genres += new \n",
    "new_rec_genres\n",
    "\n",
    "#Computes frequency of genres from list\n",
    "from nltk.probability import FreqDist\n",
    "\n",
    "genre_distribution = FreqDist(new_rec_genres)\n",
    "genre_series = pd.Series(genre_distribution)\n",
    "\n",
    "genre_df = genre_series.to_frame().reset_index()\n",
    "genre_df.columns = ['Genre', 'Count']\n",
    "\n",
    "#Sort and view values \n",
    "genre_df.sort_values(by= [\"Count\"], ascending= False)"
   ]
  },
  {
   "attachments": {},
   "cell_type": "markdown",
   "metadata": {},
   "source": [
    "## Hypothesis"
   ]
  },
  {
   "cell_type": "markdown",
   "metadata": {},
   "source": [
    "To verify our hypothesis about the correlation between the budget of a movie and the gross value of sales, we perform a correlation test  on the test data using the pearson's and spearman's correlation test. Using a significance level of 5%, corresponding to a p-value of 0.05 as a standard. The p-value/significance level is the percentage that the occurence in your sample is by chance, thus a significance level of 5% shows that 5% of the happenings in our sample is by chance.\n",
    "\n",
    "Null Hypothesis,H0 : There is no correlation between the gross sales and budget.\n",
    "\n",
    "If p_value(test data) is less than 0.05. We fail to reject the null hypothesis. there's no correlation between the gross sales of a movie and the budget.\n",
    "\n",
    "Alternative Hypothesis, H1 :If p_value(test data) is greater than 0.05 We reject our null hypothesis, thus accepting there's a correlation between the gross sales of a movie and the budget."
   ]
  },
  {
   "cell_type": "markdown",
   "metadata": {},
   "source": [
    "From above, the predominant genres in the top grossing movies are shown above. It can be seen that Drama occured the most - 820 times, followed by Comedy which occured 377 times. Genres such as Thriller,Romance,Adventure,Action,Crime all have close numbers. \n",
    "\n",
    "Since the aim is to increase our chances of a top grossing movie, I'd advice a combination of the top grossing genres Drama and Comedy in addition to one of the rest,Adventure,Thriller,Drama, Comedy,Family,Fantasy, Family"
   ]
  },
  {
   "cell_type": "markdown",
   "metadata": {},
   "source": [
    "Hypotheses that been have designed relating to the overall aim of this analysis"
   ]
  },
  {
   "cell_type": "markdown",
   "metadata": {},
   "source": [
    "The third trend noticed in our dev set is that movies in the PG-13 content rating category record the highest average sales per movie. By confirming this hypothesis, we can make\n",
    "an informed decision on the category to aim our next movie at, this can help inform ideas on movie plots.\n",
    "\n",
    "To confirm this hypothesis, we perform a T-test on the test_data. Comparing the PG-13 content rating category with other categories."
   ]
  },
  {
   "attachments": {},
   "cell_type": "markdown",
   "metadata": {},
   "source": [
    "## Recommendations"
   ]
  },
  {
   "cell_type": "markdown",
   "metadata": {},
   "source": [
    "Actionable recommendations based on the analyses you have conducted."
   ]
  },
  {
   "cell_type": "markdown",
   "metadata": {},
   "source": [
    "Based on our analysis above, it can be seen that the performance the next movie doesn't entirely depend on how large our budget is. With a limited budget of 1.5million, we can optimize the spending of this budget by closely examining the genres,directors and actors involved.\n",
    "\n",
    "- Genres such as Action, Adventure, Fantasy, Sci-Fi have been seen to amass a lot of sales. A mixture of genres can be appealing to wider segments resulting in more sales. Regarding the country of production, movies from the USA have also been seen to amass a lot of sales.\n",
    "\n",
    "- The presence of directors such as \n",
    "Martin Scorses, \n",
    "Steven Spielberg, \n",
    "Woody Allen, \n",
    "Ridley Scott\t\n",
    "Peter Jackson\t\n",
    "Steven Soderbergh\n",
    "Ron Howard\t\n",
    "Yimou Zhang\t\n",
    "Spike Lee\t\n",
    "Stephen Frears\t have been associated with higher sales of the movie.\n",
    "\n",
    "- Since a high percentage of sales grouped by content rating comes from the PG-13, PG,R and G. It is advised that the content rating of our next movie should be within these categories to increase the probabilities reaching our gross projections."
   ]
  }
 ],
 "metadata": {
  "kernelspec": {
   "display_name": "Python 3.9.10 64-bit",
   "language": "python",
   "name": "python3"
  },
  "language_info": {
   "codemirror_mode": {
    "name": "ipython",
    "version": 3
   },
   "file_extension": ".py",
   "mimetype": "text/x-python",
   "name": "python",
   "nbconvert_exporter": "python",
   "pygments_lexer": "ipython3",
   "version": "3.9.10"
  },
  "orig_nbformat": 4,
  "vscode": {
   "interpreter": {
    "hash": "b0fa6594d8f4cbf19f97940f81e996739fb7646882a419484c72d19e05852a7e"
   }
  }
 },
 "nbformat": 4,
 "nbformat_minor": 2
}
