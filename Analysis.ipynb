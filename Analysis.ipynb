{
 "cells": [
  {
   "cell_type": "markdown",
   "metadata": {},
   "source": [
    "Due to the failure of the last comedy special from SussexBudgetProductions at the box office, we have been tasked with finding the root cause of this issue. \n",
    "\n",
    "This is an analysis on the IMDB data which obtain insights on how the next set of funds can be properly invested.\n",
    "This report explores previous data using the IMDB dataset and also recommends actionable plans "
   ]
  },
  {
   "cell_type": "markdown",
   "metadata": {},
   "source": [
    "The dataset provided contains metrics relating to each movie such as : \n",
    "\n",
    "Color, director_name, Number of reviews, Duration, director's facebook likes,actor's facebook likes, actor's name, actor facebook likes, gross, genres, movie title,number of voted users, cast's total facebook likes,facenumber in poster,keywords in the plot,imdb link of the movie, Number of user reviews, language, country, content rating, budget, year movie was released. imdb score,the aspect ratio, movie facebook likes.\n",
    "\n",
    "The dataset was wrangled and modified to include indicators with which we can project fututre sales. Metrics retained include the director's name, genres, country ,movie title, names of the top three actors in the movie, year of the movie, content_rating, imdb_score, movie_facebook_likes, budget, gross, number of critic reviews, duration, language of the movie. \n",
    "\n",
    "The key metric being analysed is the gross sales, and the relationships with the other metrics. Metrics such as the aspect ratio of a movie,keywords plot are discarded as they are deemed to have minimal relationship to gross sales. Duration of the movie is also not considered as we are ignoring the role the attention span of a viewer plays on the sales. We also discard facebook likes, as the number of critic reviews is a more encompassing metric and less prone to manipulation.\n",
    "\n",
    "To begin, I will split the dataset into two. One as an experimental dataset where we explore relationships between the metrics listed above, while the other as a test dataset to confirm our hypothesis. confirming our hypothesis will help reasonable and actionable recommendations."
   ]
  },
  {
   "cell_type": "code",
   "execution_count": 6,
   "metadata": {},
   "outputs": [],
   "source": [
    "import pandas as pd"
   ]
  },
  {
   "cell_type": "code",
   "execution_count": 7,
   "metadata": {},
   "outputs": [
    {
     "data": {
      "text/html": [
       "<div>\n",
       "<style scoped>\n",
       "    .dataframe tbody tr th:only-of-type {\n",
       "        vertical-align: middle;\n",
       "    }\n",
       "\n",
       "    .dataframe tbody tr th {\n",
       "        vertical-align: top;\n",
       "    }\n",
       "\n",
       "    .dataframe thead th {\n",
       "        text-align: right;\n",
       "    }\n",
       "</style>\n",
       "<table border=\"1\" class=\"dataframe\">\n",
       "  <thead>\n",
       "    <tr style=\"text-align: right;\">\n",
       "      <th></th>\n",
       "      <th>color</th>\n",
       "      <th>director_name</th>\n",
       "      <th>num_critic_for_reviews</th>\n",
       "      <th>duration</th>\n",
       "      <th>director_facebook_likes</th>\n",
       "      <th>actor_3_facebook_likes</th>\n",
       "      <th>actor_2_name</th>\n",
       "      <th>actor_1_facebook_likes</th>\n",
       "      <th>gross</th>\n",
       "      <th>genres</th>\n",
       "      <th>...</th>\n",
       "      <th>num_user_for_reviews</th>\n",
       "      <th>language</th>\n",
       "      <th>country</th>\n",
       "      <th>content_rating</th>\n",
       "      <th>budget</th>\n",
       "      <th>title_year</th>\n",
       "      <th>actor_2_facebook_likes</th>\n",
       "      <th>imdb_score</th>\n",
       "      <th>aspect_ratio</th>\n",
       "      <th>movie_facebook_likes</th>\n",
       "    </tr>\n",
       "  </thead>\n",
       "  <tbody>\n",
       "    <tr>\n",
       "      <th>265</th>\n",
       "      <td>Color</td>\n",
       "      <td>Shawn Levy</td>\n",
       "      <td>327.0</td>\n",
       "      <td>127.0</td>\n",
       "      <td>189.0</td>\n",
       "      <td>544.0</td>\n",
       "      <td>Torey Michael Adkins</td>\n",
       "      <td>20000.0</td>\n",
       "      <td>85463309.0</td>\n",
       "      <td>Action|Drama|Sci-Fi|Sport</td>\n",
       "      <td>...</td>\n",
       "      <td>426.0</td>\n",
       "      <td>English</td>\n",
       "      <td>USA</td>\n",
       "      <td>PG-13</td>\n",
       "      <td>110000000.0</td>\n",
       "      <td>2011.0</td>\n",
       "      <td>929.0</td>\n",
       "      <td>7.1</td>\n",
       "      <td>2.35</td>\n",
       "      <td>36000</td>\n",
       "    </tr>\n",
       "    <tr>\n",
       "      <th>2423</th>\n",
       "      <td>Color</td>\n",
       "      <td>Jody Hill</td>\n",
       "      <td>190.0</td>\n",
       "      <td>86.0</td>\n",
       "      <td>62.0</td>\n",
       "      <td>59.0</td>\n",
       "      <td>Celia Weston</td>\n",
       "      <td>390.0</td>\n",
       "      <td>23993605.0</td>\n",
       "      <td>Comedy|Crime|Drama</td>\n",
       "      <td>...</td>\n",
       "      <td>248.0</td>\n",
       "      <td>English</td>\n",
       "      <td>USA</td>\n",
       "      <td>R</td>\n",
       "      <td>18000000.0</td>\n",
       "      <td>2009.0</td>\n",
       "      <td>258.0</td>\n",
       "      <td>5.8</td>\n",
       "      <td>2.35</td>\n",
       "      <td>0</td>\n",
       "    </tr>\n",
       "    <tr>\n",
       "      <th>2137</th>\n",
       "      <td>Color</td>\n",
       "      <td>David O. Russell</td>\n",
       "      <td>539.0</td>\n",
       "      <td>122.0</td>\n",
       "      <td>737.0</td>\n",
       "      <td>14000.0</td>\n",
       "      <td>Robert De Niro</td>\n",
       "      <td>34000.0</td>\n",
       "      <td>132088910.0</td>\n",
       "      <td>Comedy|Drama|Romance</td>\n",
       "      <td>...</td>\n",
       "      <td>692.0</td>\n",
       "      <td>English</td>\n",
       "      <td>USA</td>\n",
       "      <td>R</td>\n",
       "      <td>21000000.0</td>\n",
       "      <td>2012.0</td>\n",
       "      <td>22000.0</td>\n",
       "      <td>7.8</td>\n",
       "      <td>2.35</td>\n",
       "      <td>117000</td>\n",
       "    </tr>\n",
       "    <tr>\n",
       "      <th>4505</th>\n",
       "      <td>Color</td>\n",
       "      <td>Tom Sanchez</td>\n",
       "      <td>1.0</td>\n",
       "      <td>110.0</td>\n",
       "      <td>0.0</td>\n",
       "      <td>0.0</td>\n",
       "      <td>Antonio Arrué</td>\n",
       "      <td>3.0</td>\n",
       "      <td>3830.0</td>\n",
       "      <td>Comedy|Drama</td>\n",
       "      <td>...</td>\n",
       "      <td>1.0</td>\n",
       "      <td>Spanish</td>\n",
       "      <td>USA</td>\n",
       "      <td>NaN</td>\n",
       "      <td>1200000.0</td>\n",
       "      <td>2013.0</td>\n",
       "      <td>2.0</td>\n",
       "      <td>7.2</td>\n",
       "      <td>NaN</td>\n",
       "      <td>75</td>\n",
       "    </tr>\n",
       "    <tr>\n",
       "      <th>4538</th>\n",
       "      <td>Color</td>\n",
       "      <td>Bradley Parker</td>\n",
       "      <td>270.0</td>\n",
       "      <td>86.0</td>\n",
       "      <td>18.0</td>\n",
       "      <td>300.0</td>\n",
       "      <td>Ingrid Bolsø Berdal</td>\n",
       "      <td>1000.0</td>\n",
       "      <td>18112929.0</td>\n",
       "      <td>Horror|Mystery|Sci-Fi|Thriller</td>\n",
       "      <td>...</td>\n",
       "      <td>271.0</td>\n",
       "      <td>English</td>\n",
       "      <td>USA</td>\n",
       "      <td>R</td>\n",
       "      <td>1000000.0</td>\n",
       "      <td>2012.0</td>\n",
       "      <td>466.0</td>\n",
       "      <td>5.0</td>\n",
       "      <td>1.85</td>\n",
       "      <td>24000</td>\n",
       "    </tr>\n",
       "    <tr>\n",
       "      <th>...</th>\n",
       "      <td>...</td>\n",
       "      <td>...</td>\n",
       "      <td>...</td>\n",
       "      <td>...</td>\n",
       "      <td>...</td>\n",
       "      <td>...</td>\n",
       "      <td>...</td>\n",
       "      <td>...</td>\n",
       "      <td>...</td>\n",
       "      <td>...</td>\n",
       "      <td>...</td>\n",
       "      <td>...</td>\n",
       "      <td>...</td>\n",
       "      <td>...</td>\n",
       "      <td>...</td>\n",
       "      <td>...</td>\n",
       "      <td>...</td>\n",
       "      <td>...</td>\n",
       "      <td>...</td>\n",
       "      <td>...</td>\n",
       "      <td>...</td>\n",
       "    </tr>\n",
       "    <tr>\n",
       "      <th>928</th>\n",
       "      <td>Color</td>\n",
       "      <td>George Nolfi</td>\n",
       "      <td>413.0</td>\n",
       "      <td>106.0</td>\n",
       "      <td>53.0</td>\n",
       "      <td>593.0</td>\n",
       "      <td>Michael Kelly</td>\n",
       "      <td>13000.0</td>\n",
       "      <td>62453315.0</td>\n",
       "      <td>Romance|Sci-Fi|Thriller</td>\n",
       "      <td>...</td>\n",
       "      <td>407.0</td>\n",
       "      <td>English</td>\n",
       "      <td>USA</td>\n",
       "      <td>PG-13</td>\n",
       "      <td>50200000.0</td>\n",
       "      <td>2011.0</td>\n",
       "      <td>963.0</td>\n",
       "      <td>7.1</td>\n",
       "      <td>1.85</td>\n",
       "      <td>36000</td>\n",
       "    </tr>\n",
       "    <tr>\n",
       "      <th>3591</th>\n",
       "      <td>Color</td>\n",
       "      <td>Rick Famuyiwa</td>\n",
       "      <td>18.0</td>\n",
       "      <td>106.0</td>\n",
       "      <td>44.0</td>\n",
       "      <td>328.0</td>\n",
       "      <td>Tamala Jones</td>\n",
       "      <td>865.0</td>\n",
       "      <td>25047631.0</td>\n",
       "      <td>Comedy|Drama|Romance</td>\n",
       "      <td>...</td>\n",
       "      <td>50.0</td>\n",
       "      <td>English</td>\n",
       "      <td>USA</td>\n",
       "      <td>R</td>\n",
       "      <td>6000000.0</td>\n",
       "      <td>1999.0</td>\n",
       "      <td>405.0</td>\n",
       "      <td>6.9</td>\n",
       "      <td>1.85</td>\n",
       "      <td>990</td>\n",
       "    </tr>\n",
       "    <tr>\n",
       "      <th>801</th>\n",
       "      <td>Color</td>\n",
       "      <td>Harald Zwart</td>\n",
       "      <td>212.0</td>\n",
       "      <td>130.0</td>\n",
       "      <td>91.0</td>\n",
       "      <td>1000.0</td>\n",
       "      <td>Kevin Zegers</td>\n",
       "      <td>5000.0</td>\n",
       "      <td>31165421.0</td>\n",
       "      <td>Fantasy|Horror|Mystery|Romance</td>\n",
       "      <td>...</td>\n",
       "      <td>457.0</td>\n",
       "      <td>English</td>\n",
       "      <td>USA</td>\n",
       "      <td>PG-13</td>\n",
       "      <td>60000000.0</td>\n",
       "      <td>2013.0</td>\n",
       "      <td>2000.0</td>\n",
       "      <td>6.0</td>\n",
       "      <td>2.35</td>\n",
       "      <td>44000</td>\n",
       "    </tr>\n",
       "    <tr>\n",
       "      <th>2714</th>\n",
       "      <td>Color</td>\n",
       "      <td>Peter Cattaneo</td>\n",
       "      <td>132.0</td>\n",
       "      <td>102.0</td>\n",
       "      <td>11.0</td>\n",
       "      <td>1000.0</td>\n",
       "      <td>Bradley Cooper</td>\n",
       "      <td>15000.0</td>\n",
       "      <td>6409206.0</td>\n",
       "      <td>Comedy|Music</td>\n",
       "      <td>...</td>\n",
       "      <td>104.0</td>\n",
       "      <td>English</td>\n",
       "      <td>USA</td>\n",
       "      <td>PG-13</td>\n",
       "      <td>15000000.0</td>\n",
       "      <td>2008.0</td>\n",
       "      <td>14000.0</td>\n",
       "      <td>6.2</td>\n",
       "      <td>1.85</td>\n",
       "      <td>0</td>\n",
       "    </tr>\n",
       "    <tr>\n",
       "      <th>2303</th>\n",
       "      <td>Color</td>\n",
       "      <td>NaN</td>\n",
       "      <td>26.0</td>\n",
       "      <td>42.0</td>\n",
       "      <td>NaN</td>\n",
       "      <td>376.0</td>\n",
       "      <td>Eric McCormack</td>\n",
       "      <td>1000.0</td>\n",
       "      <td>NaN</td>\n",
       "      <td>Crime|Drama|Mystery|Thriller</td>\n",
       "      <td>...</td>\n",
       "      <td>29.0</td>\n",
       "      <td>English</td>\n",
       "      <td>USA</td>\n",
       "      <td>TV-14</td>\n",
       "      <td>NaN</td>\n",
       "      <td>NaN</td>\n",
       "      <td>440.0</td>\n",
       "      <td>7.5</td>\n",
       "      <td>16.00</td>\n",
       "      <td>0</td>\n",
       "    </tr>\n",
       "  </tbody>\n",
       "</table>\n",
       "<p>2521 rows × 28 columns</p>\n",
       "</div>"
      ],
      "text/plain": [
       "      color     director_name  num_critic_for_reviews  duration  \\\n",
       "265   Color        Shawn Levy                   327.0     127.0   \n",
       "2423  Color         Jody Hill                   190.0      86.0   \n",
       "2137  Color  David O. Russell                   539.0     122.0   \n",
       "4505  Color       Tom Sanchez                     1.0     110.0   \n",
       "4538  Color    Bradley Parker                   270.0      86.0   \n",
       "...     ...               ...                     ...       ...   \n",
       "928   Color      George Nolfi                   413.0     106.0   \n",
       "3591  Color     Rick Famuyiwa                    18.0     106.0   \n",
       "801   Color      Harald Zwart                   212.0     130.0   \n",
       "2714  Color    Peter Cattaneo                   132.0     102.0   \n",
       "2303  Color               NaN                    26.0      42.0   \n",
       "\n",
       "      director_facebook_likes  actor_3_facebook_likes          actor_2_name  \\\n",
       "265                     189.0                   544.0  Torey Michael Adkins   \n",
       "2423                     62.0                    59.0          Celia Weston   \n",
       "2137                    737.0                 14000.0        Robert De Niro   \n",
       "4505                      0.0                     0.0         Antonio Arrué   \n",
       "4538                     18.0                   300.0   Ingrid Bolsø Berdal   \n",
       "...                       ...                     ...                   ...   \n",
       "928                      53.0                   593.0         Michael Kelly   \n",
       "3591                     44.0                   328.0          Tamala Jones   \n",
       "801                      91.0                  1000.0          Kevin Zegers   \n",
       "2714                     11.0                  1000.0        Bradley Cooper   \n",
       "2303                      NaN                   376.0        Eric McCormack   \n",
       "\n",
       "      actor_1_facebook_likes        gross                          genres  \\\n",
       "265                  20000.0   85463309.0       Action|Drama|Sci-Fi|Sport   \n",
       "2423                   390.0   23993605.0              Comedy|Crime|Drama   \n",
       "2137                 34000.0  132088910.0            Comedy|Drama|Romance   \n",
       "4505                     3.0       3830.0                    Comedy|Drama   \n",
       "4538                  1000.0   18112929.0  Horror|Mystery|Sci-Fi|Thriller   \n",
       "...                      ...          ...                             ...   \n",
       "928                  13000.0   62453315.0         Romance|Sci-Fi|Thriller   \n",
       "3591                   865.0   25047631.0            Comedy|Drama|Romance   \n",
       "801                   5000.0   31165421.0  Fantasy|Horror|Mystery|Romance   \n",
       "2714                 15000.0    6409206.0                    Comedy|Music   \n",
       "2303                  1000.0          NaN    Crime|Drama|Mystery|Thriller   \n",
       "\n",
       "      ... num_user_for_reviews language  country  content_rating       budget  \\\n",
       "265   ...                426.0  English      USA           PG-13  110000000.0   \n",
       "2423  ...                248.0  English      USA               R   18000000.0   \n",
       "2137  ...                692.0  English      USA               R   21000000.0   \n",
       "4505  ...                  1.0  Spanish      USA             NaN    1200000.0   \n",
       "4538  ...                271.0  English      USA               R    1000000.0   \n",
       "...   ...                  ...      ...      ...             ...          ...   \n",
       "928   ...                407.0  English      USA           PG-13   50200000.0   \n",
       "3591  ...                 50.0  English      USA               R    6000000.0   \n",
       "801   ...                457.0  English      USA           PG-13   60000000.0   \n",
       "2714  ...                104.0  English      USA           PG-13   15000000.0   \n",
       "2303  ...                 29.0  English      USA           TV-14          NaN   \n",
       "\n",
       "      title_year actor_2_facebook_likes imdb_score  aspect_ratio  \\\n",
       "265       2011.0                  929.0        7.1          2.35   \n",
       "2423      2009.0                  258.0        5.8          2.35   \n",
       "2137      2012.0                22000.0        7.8          2.35   \n",
       "4505      2013.0                    2.0        7.2           NaN   \n",
       "4538      2012.0                  466.0        5.0          1.85   \n",
       "...          ...                    ...        ...           ...   \n",
       "928       2011.0                  963.0        7.1          1.85   \n",
       "3591      1999.0                  405.0        6.9          1.85   \n",
       "801       2013.0                 2000.0        6.0          2.35   \n",
       "2714      2008.0                14000.0        6.2          1.85   \n",
       "2303         NaN                  440.0        7.5         16.00   \n",
       "\n",
       "     movie_facebook_likes  \n",
       "265                 36000  \n",
       "2423                    0  \n",
       "2137               117000  \n",
       "4505                   75  \n",
       "4538                24000  \n",
       "...                   ...  \n",
       "928                 36000  \n",
       "3591                  990  \n",
       "801                 44000  \n",
       "2714                    0  \n",
       "2303                    0  \n",
       "\n",
       "[2521 rows x 28 columns]"
      ]
     },
     "execution_count": 7,
     "metadata": {},
     "output_type": "execute_result"
    }
   ],
   "source": [
    "movie_data = \"movie_metadata.csv\"\n",
    "import random\n",
    "\n",
    "movie_data_df = pd.read_csv(movie_data)\n",
    "movie_data_df = movie_data_df.sample(frac =1.0)\n",
    "midpoint = len(movie_data_df)//2\n",
    "\n",
    "#Splitting dataset, one for Exploratory data analysis, one to test hypothesis\n",
    "\n",
    "dev_list = movie_data_df[:midpoint]   #For Exploratory data analysis.\n",
    "test_list = movie_data_df[midpoint:]   #To confirm our hypothesis \n",
    "dev_list\n"
   ]
  },
  {
   "cell_type": "code",
   "execution_count": 8,
   "metadata": {},
   "outputs": [
    {
     "data": {
      "text/html": [
       "<div>\n",
       "<style scoped>\n",
       "    .dataframe tbody tr th:only-of-type {\n",
       "        vertical-align: middle;\n",
       "    }\n",
       "\n",
       "    .dataframe tbody tr th {\n",
       "        vertical-align: top;\n",
       "    }\n",
       "\n",
       "    .dataframe thead th {\n",
       "        text-align: right;\n",
       "    }\n",
       "</style>\n",
       "<table border=\"1\" class=\"dataframe\">\n",
       "  <thead>\n",
       "    <tr style=\"text-align: right;\">\n",
       "      <th></th>\n",
       "      <th>director_name</th>\n",
       "      <th>genres</th>\n",
       "      <th>country</th>\n",
       "      <th>movie_title</th>\n",
       "      <th>actor_2_name</th>\n",
       "      <th>title_year</th>\n",
       "      <th>actor_3_name</th>\n",
       "      <th>content_rating</th>\n",
       "      <th>imdb_score</th>\n",
       "      <th>movie_facebook_likes</th>\n",
       "      <th>budget</th>\n",
       "      <th>gross</th>\n",
       "      <th>num_critic_for_reviews</th>\n",
       "      <th>duration</th>\n",
       "      <th>language</th>\n",
       "    </tr>\n",
       "  </thead>\n",
       "  <tbody>\n",
       "    <tr>\n",
       "      <th>265</th>\n",
       "      <td>Shawn Levy</td>\n",
       "      <td>Action|Drama|Sci-Fi|Sport</td>\n",
       "      <td>USA</td>\n",
       "      <td>Real Steel</td>\n",
       "      <td>Torey Michael Adkins</td>\n",
       "      <td>2011.0</td>\n",
       "      <td>Olga Fonda</td>\n",
       "      <td>PG-13</td>\n",
       "      <td>7.1</td>\n",
       "      <td>36000</td>\n",
       "      <td>110000000.0</td>\n",
       "      <td>85463309.0</td>\n",
       "      <td>327.0</td>\n",
       "      <td>127.0</td>\n",
       "      <td>English</td>\n",
       "    </tr>\n",
       "    <tr>\n",
       "      <th>2423</th>\n",
       "      <td>Jody Hill</td>\n",
       "      <td>Comedy|Crime|Drama</td>\n",
       "      <td>USA</td>\n",
       "      <td>Observe and Report</td>\n",
       "      <td>Celia Weston</td>\n",
       "      <td>2009.0</td>\n",
       "      <td>Dan Bakkedahl</td>\n",
       "      <td>R</td>\n",
       "      <td>5.8</td>\n",
       "      <td>0</td>\n",
       "      <td>18000000.0</td>\n",
       "      <td>23993605.0</td>\n",
       "      <td>190.0</td>\n",
       "      <td>86.0</td>\n",
       "      <td>English</td>\n",
       "    </tr>\n",
       "    <tr>\n",
       "      <th>2137</th>\n",
       "      <td>David O. Russell</td>\n",
       "      <td>Comedy|Drama|Romance</td>\n",
       "      <td>USA</td>\n",
       "      <td>Silver Linings Playbook</td>\n",
       "      <td>Robert De Niro</td>\n",
       "      <td>2012.0</td>\n",
       "      <td>Bradley Cooper</td>\n",
       "      <td>R</td>\n",
       "      <td>7.8</td>\n",
       "      <td>117000</td>\n",
       "      <td>21000000.0</td>\n",
       "      <td>132088910.0</td>\n",
       "      <td>539.0</td>\n",
       "      <td>122.0</td>\n",
       "      <td>English</td>\n",
       "    </tr>\n",
       "    <tr>\n",
       "      <th>4505</th>\n",
       "      <td>Tom Sanchez</td>\n",
       "      <td>Comedy|Drama</td>\n",
       "      <td>USA</td>\n",
       "      <td>The Knife of Don Juan</td>\n",
       "      <td>Antonio Arrué</td>\n",
       "      <td>2013.0</td>\n",
       "      <td>Juan Carlos Montoya</td>\n",
       "      <td>NaN</td>\n",
       "      <td>7.2</td>\n",
       "      <td>75</td>\n",
       "      <td>1200000.0</td>\n",
       "      <td>3830.0</td>\n",
       "      <td>1.0</td>\n",
       "      <td>110.0</td>\n",
       "      <td>Spanish</td>\n",
       "    </tr>\n",
       "    <tr>\n",
       "      <th>4538</th>\n",
       "      <td>Bradley Parker</td>\n",
       "      <td>Horror|Mystery|Sci-Fi|Thriller</td>\n",
       "      <td>USA</td>\n",
       "      <td>Chernobyl Diaries</td>\n",
       "      <td>Ingrid Bolsø Berdal</td>\n",
       "      <td>2012.0</td>\n",
       "      <td>Jonathan Sadowski</td>\n",
       "      <td>R</td>\n",
       "      <td>5.0</td>\n",
       "      <td>24000</td>\n",
       "      <td>1000000.0</td>\n",
       "      <td>18112929.0</td>\n",
       "      <td>270.0</td>\n",
       "      <td>86.0</td>\n",
       "      <td>English</td>\n",
       "    </tr>\n",
       "    <tr>\n",
       "      <th>...</th>\n",
       "      <td>...</td>\n",
       "      <td>...</td>\n",
       "      <td>...</td>\n",
       "      <td>...</td>\n",
       "      <td>...</td>\n",
       "      <td>...</td>\n",
       "      <td>...</td>\n",
       "      <td>...</td>\n",
       "      <td>...</td>\n",
       "      <td>...</td>\n",
       "      <td>...</td>\n",
       "      <td>...</td>\n",
       "      <td>...</td>\n",
       "      <td>...</td>\n",
       "      <td>...</td>\n",
       "    </tr>\n",
       "    <tr>\n",
       "      <th>928</th>\n",
       "      <td>George Nolfi</td>\n",
       "      <td>Romance|Sci-Fi|Thriller</td>\n",
       "      <td>USA</td>\n",
       "      <td>The Adjustment Bureau</td>\n",
       "      <td>Michael Kelly</td>\n",
       "      <td>2011.0</td>\n",
       "      <td>Jon Stewart</td>\n",
       "      <td>PG-13</td>\n",
       "      <td>7.1</td>\n",
       "      <td>36000</td>\n",
       "      <td>50200000.0</td>\n",
       "      <td>62453315.0</td>\n",
       "      <td>413.0</td>\n",
       "      <td>106.0</td>\n",
       "      <td>English</td>\n",
       "    </tr>\n",
       "    <tr>\n",
       "      <th>3591</th>\n",
       "      <td>Rick Famuyiwa</td>\n",
       "      <td>Comedy|Drama|Romance</td>\n",
       "      <td>USA</td>\n",
       "      <td>The Wood</td>\n",
       "      <td>Tamala Jones</td>\n",
       "      <td>1999.0</td>\n",
       "      <td>Richard T. Jones</td>\n",
       "      <td>R</td>\n",
       "      <td>6.9</td>\n",
       "      <td>990</td>\n",
       "      <td>6000000.0</td>\n",
       "      <td>25047631.0</td>\n",
       "      <td>18.0</td>\n",
       "      <td>106.0</td>\n",
       "      <td>English</td>\n",
       "    </tr>\n",
       "    <tr>\n",
       "      <th>801</th>\n",
       "      <td>Harald Zwart</td>\n",
       "      <td>Fantasy|Horror|Mystery|Romance</td>\n",
       "      <td>USA</td>\n",
       "      <td>The Mortal Instruments: City of Bones</td>\n",
       "      <td>Kevin Zegers</td>\n",
       "      <td>2013.0</td>\n",
       "      <td>CCH Pounder</td>\n",
       "      <td>PG-13</td>\n",
       "      <td>6.0</td>\n",
       "      <td>44000</td>\n",
       "      <td>60000000.0</td>\n",
       "      <td>31165421.0</td>\n",
       "      <td>212.0</td>\n",
       "      <td>130.0</td>\n",
       "      <td>English</td>\n",
       "    </tr>\n",
       "    <tr>\n",
       "      <th>2714</th>\n",
       "      <td>Peter Cattaneo</td>\n",
       "      <td>Comedy|Music</td>\n",
       "      <td>USA</td>\n",
       "      <td>The Rocker</td>\n",
       "      <td>Bradley Cooper</td>\n",
       "      <td>2008.0</td>\n",
       "      <td>Josh Gad</td>\n",
       "      <td>PG-13</td>\n",
       "      <td>6.2</td>\n",
       "      <td>0</td>\n",
       "      <td>15000000.0</td>\n",
       "      <td>6409206.0</td>\n",
       "      <td>132.0</td>\n",
       "      <td>102.0</td>\n",
       "      <td>English</td>\n",
       "    </tr>\n",
       "    <tr>\n",
       "      <th>2303</th>\n",
       "      <td>NaN</td>\n",
       "      <td>Crime|Drama|Mystery|Thriller</td>\n",
       "      <td>USA</td>\n",
       "      <td>Perception</td>\n",
       "      <td>Eric McCormack</td>\n",
       "      <td>NaN</td>\n",
       "      <td>Scott Wolf</td>\n",
       "      <td>TV-14</td>\n",
       "      <td>7.5</td>\n",
       "      <td>0</td>\n",
       "      <td>NaN</td>\n",
       "      <td>NaN</td>\n",
       "      <td>26.0</td>\n",
       "      <td>42.0</td>\n",
       "      <td>English</td>\n",
       "    </tr>\n",
       "  </tbody>\n",
       "</table>\n",
       "<p>2521 rows × 15 columns</p>\n",
       "</div>"
      ],
      "text/plain": [
       "         director_name                          genres country  \\\n",
       "265         Shawn Levy       Action|Drama|Sci-Fi|Sport     USA   \n",
       "2423         Jody Hill              Comedy|Crime|Drama     USA   \n",
       "2137  David O. Russell            Comedy|Drama|Romance     USA   \n",
       "4505       Tom Sanchez                    Comedy|Drama     USA   \n",
       "4538    Bradley Parker  Horror|Mystery|Sci-Fi|Thriller     USA   \n",
       "...                ...                             ...     ...   \n",
       "928       George Nolfi         Romance|Sci-Fi|Thriller     USA   \n",
       "3591     Rick Famuyiwa            Comedy|Drama|Romance     USA   \n",
       "801       Harald Zwart  Fantasy|Horror|Mystery|Romance     USA   \n",
       "2714    Peter Cattaneo                    Comedy|Music     USA   \n",
       "2303               NaN    Crime|Drama|Mystery|Thriller     USA   \n",
       "\n",
       "                                 movie_title          actor_2_name  \\\n",
       "265                              Real Steel   Torey Michael Adkins   \n",
       "2423                     Observe and Report           Celia Weston   \n",
       "2137                Silver Linings Playbook         Robert De Niro   \n",
       "4505                  The Knife of Don Juan          Antonio Arrué   \n",
       "4538                      Chernobyl Diaries    Ingrid Bolsø Berdal   \n",
       "...                                      ...                   ...   \n",
       "928                   The Adjustment Bureau          Michael Kelly   \n",
       "3591                               The Wood           Tamala Jones   \n",
       "801   The Mortal Instruments: City of Bones           Kevin Zegers   \n",
       "2714                             The Rocker         Bradley Cooper   \n",
       "2303                 Perception                     Eric McCormack   \n",
       "\n",
       "      title_year         actor_3_name content_rating  imdb_score  \\\n",
       "265       2011.0           Olga Fonda          PG-13         7.1   \n",
       "2423      2009.0        Dan Bakkedahl              R         5.8   \n",
       "2137      2012.0       Bradley Cooper              R         7.8   \n",
       "4505      2013.0  Juan Carlos Montoya            NaN         7.2   \n",
       "4538      2012.0    Jonathan Sadowski              R         5.0   \n",
       "...          ...                  ...            ...         ...   \n",
       "928       2011.0          Jon Stewart          PG-13         7.1   \n",
       "3591      1999.0     Richard T. Jones              R         6.9   \n",
       "801       2013.0          CCH Pounder          PG-13         6.0   \n",
       "2714      2008.0             Josh Gad          PG-13         6.2   \n",
       "2303         NaN           Scott Wolf          TV-14         7.5   \n",
       "\n",
       "      movie_facebook_likes       budget        gross  num_critic_for_reviews  \\\n",
       "265                  36000  110000000.0   85463309.0                   327.0   \n",
       "2423                     0   18000000.0   23993605.0                   190.0   \n",
       "2137                117000   21000000.0  132088910.0                   539.0   \n",
       "4505                    75    1200000.0       3830.0                     1.0   \n",
       "4538                 24000    1000000.0   18112929.0                   270.0   \n",
       "...                    ...          ...          ...                     ...   \n",
       "928                  36000   50200000.0   62453315.0                   413.0   \n",
       "3591                   990    6000000.0   25047631.0                    18.0   \n",
       "801                  44000   60000000.0   31165421.0                   212.0   \n",
       "2714                     0   15000000.0    6409206.0                   132.0   \n",
       "2303                     0          NaN          NaN                    26.0   \n",
       "\n",
       "      duration language  \n",
       "265      127.0  English  \n",
       "2423      86.0  English  \n",
       "2137     122.0  English  \n",
       "4505     110.0  Spanish  \n",
       "4538      86.0  English  \n",
       "...        ...      ...  \n",
       "928      106.0  English  \n",
       "3591     106.0  English  \n",
       "801      130.0  English  \n",
       "2714     102.0  English  \n",
       "2303      42.0  English  \n",
       "\n",
       "[2521 rows x 15 columns]"
      ]
     },
     "execution_count": 8,
     "metadata": {},
     "output_type": "execute_result"
    }
   ],
   "source": [
    "#Selecting Columns of interest \n",
    "\n",
    "modified_dev_list = dev_list[['director_name', 'genres','country','movie_title', 'actor_2_name','title_year', 'actor_3_name', 'content_rating','imdb_score', 'movie_facebook_likes','budget', 'gross','num_critic_for_reviews', 'duration', 'language']]\n",
    "modified_dev_list.sort_values( by = 'gross', ascending= True)\n",
    "modified_dev_list"
   ]
  },
  {
   "cell_type": "code",
   "execution_count": 9,
   "metadata": {},
   "outputs": [],
   "source": [
    "#Analysing particular columns such as duration, director_name, num_critic_for_reviews_, Actor_2_name, content_rating,country, content_rating, imdb_score, movie_facebook_likes\n",
    "\n",
    "#columns such as movie_facebook_likes,imdb_score,gross,num_user_for_reviews are lagging indicators and dependent variables. (describe lagging indicators) \n",
    "# columns such as budget, actor_name, country are leading indicators\n",
    "# Check relationship with EDAs"
   ]
  },
  {
   "cell_type": "markdown",
   "metadata": {},
   "source": [
    "The relationship between gross sales and imdb_score is examined. Content rating and genres are also analysed as it helps us figure out which niche to target for our next movie at  SussexBudgetProductions. \n",
    "\n",
    "The gross sales is the major value being analysed, thus examination of the value helps arrive at a reasonable projection."
   ]
  },
  {
   "cell_type": "markdown",
   "metadata": {},
   "source": [
    "Examination of the gross sales"
   ]
  },
  {
   "cell_type": "code",
   "execution_count": 11,
   "metadata": {},
   "outputs": [
    {
     "data": {
      "text/plain": [
       "<AxesSubplot:>"
      ]
     },
     "execution_count": 11,
     "metadata": {},
     "output_type": "execute_result"
    },
    {
     "data": {
      "image/png": "[encoded data removed]",
      "text/plain": [
       "<Figure size 432x288 with 1 Axes>"
      ]
     },
     "metadata": {
      "needs_background": "light"
     },
     "output_type": "display_data"
    }
   ],
   "source": [
    "modified_dev_list['gross'].plot(kind = 'box', sym = '*', whis = 1.5)"
   ]
  },
  {
   "cell_type": "markdown",
   "metadata": {},
   "source": [
    "As it can be seen above, the chart of the gross plot is extremely positively skewed with a lot of outliers. \n",
    "\n",
    "This means the gross sales of movie datasets is not normally distributed and using central tendency measures such as mean,mode and median to obtain a threshold may be misleading."
   ]
  },
  {
   "cell_type": "markdown",
   "metadata": {},
   "source": [
    "Gross sales vs Content rating "
   ]
  },
  {
   "cell_type": "code",
   "execution_count": 10,
   "metadata": {},
   "outputs": [
    {
     "data": {
      "text/plain": [
       "(array([ 0,  1,  2,  3,  4,  5,  6,  7,  8,  9, 10, 11, 12, 13, 14, 15, 16]),\n",
       " [Text(0, 0, 'PG-13'),\n",
       "  Text(1, 0, 'R'),\n",
       "  Text(2, 0, 'Unrated'),\n",
       "  Text(3, 0, 'PG'),\n",
       "  Text(4, 0, 'G'),\n",
       "  Text(5, 0, 'TV-MA'),\n",
       "  Text(6, 0, 'Not Rated'),\n",
       "  Text(7, 0, 'Approved'),\n",
       "  Text(8, 0, 'GP'),\n",
       "  Text(9, 0, 'TV-G'),\n",
       "  Text(10, 0, 'TV-14'),\n",
       "  Text(11, 0, 'X'),\n",
       "  Text(12, 0, 'Passed'),\n",
       "  Text(13, 0, 'TV-PG'),\n",
       "  Text(14, 0, 'NC-17'),\n",
       "  Text(15, 0, 'TV-Y'),\n",
       "  Text(16, 0, 'M')])"
      ]
     },
     "execution_count": 10,
     "metadata": {},
     "output_type": "execute_result"
    },
    {
     "data": {
      "image/png": "[encoded data removed]",
      "text/plain": [
       "<Figure size 432x288 with 1 Axes>"
      ]
     },
     "metadata": {
      "needs_background": "light"
     },
     "output_type": "display_data"
    }
   ],
   "source": [
    "import matplotlib.pyplot as plt\n",
    "import seaborn as sns\n",
    "\n",
    "#Checking the relationship between the content rating and gross \n",
    "ax1 = sns.boxplot(y = modified_dev_list['gross'].dropna(), x = modified_dev_list['content_rating'].dropna(),)\n",
    "plt.xticks(rotation = 45 )"
   ]
  },
  {
   "cell_type": "markdown",
   "metadata": {},
   "source": [
    "Above is a box-plot of the gross against the content_rating. This chart helps visualise the statistical details of each content rating group against the gross. ( Outliers are shown with the symbol *.)\n",
    "\n",
    "It can be seen that gross sales beating projection, with a lot of outlier values is a prevalent thing in the 'R', 'PG-13', and 'PG' group. It can also be seen that in the 'G' content rating category that the mean of gross sales surpasses other categories, although with less outliers.\n",
    "\n"
   ]
  },
  {
   "cell_type": "markdown",
   "metadata": {},
   "source": [
    "Movie count vs content type"
   ]
  },
  {
   "cell_type": "code",
   "execution_count": 12,
   "metadata": {},
   "outputs": [
    {
     "data": {
      "text/plain": [
       "Text(0, 0.5, 'count')"
      ]
     },
     "execution_count": 12,
     "metadata": {},
     "output_type": "execute_result"
    },
    {
     "data": {
      "image/png": "[encoded data removed]",
      "text/plain": [
       "<Figure size 432x288 with 1 Axes>"
      ]
     },
     "metadata": {
      "needs_background": "light"
     },
     "output_type": "display_data"
    }
   ],
   "source": [
    "#Checking the amount of movies in the content_rating categories\n",
    "content_rating_df = modified_dev_list[['movie_title','content_rating']].dropna()\n",
    "count_content_rating_df = content_rating_df.groupby('content_rating').count().sort_values(by = 'movie_title', ascending = False)\n",
    "count_content_rating_df.plot(kind = 'bar')\n",
    "plt.ylabel('count')\n",
    "plt.title('Movie count vs content type')"
   ]
  },
  {
   "cell_type": "markdown",
   "metadata": {},
   "source": [
    "Above is also a chart showing the the count of movies in each content rating category. It can be seen that the categories \"R\",\"PG-13\",\"PG\" have a higher count of movies. This possibly explains the reason for high number outliers. \n",
    "\n",
    "A point worthy of note is the low count of movies in the \"G\" category and the high average gross sale within this category."
   ]
  },
  {
   "cell_type": "markdown",
   "metadata": {},
   "source": [
    "Gross sales vs Country of Production"
   ]
  },
  {
   "cell_type": "code",
   "execution_count": 13,
   "metadata": {},
   "outputs": [
    {
     "data": {
      "text/plain": [
       "Text(0, 0.5, 'gross')"
      ]
     },
     "execution_count": 13,
     "metadata": {},
     "output_type": "execute_result"
    },
    {
     "data": {
      "image/png": "[encoded data removed]",
      "text/plain": [
       "<Figure size 432x288 with 1 Axes>"
      ]
     },
     "metadata": {
      "needs_background": "light"
     },
     "output_type": "display_data"
    }
   ],
   "source": [
    "#Checking the amount of movies in the content_rating categories\n",
    "gross_df = modified_dev_list[['country','gross']].dropna()\n",
    "gross_df = gross_df.groupby('country').sum().sort_values(by = 'gross', ascending = False)\n",
    "gross_df.plot(kind = 'bar')\n",
    "plt.ylabel('gross')"
   ]
  },
  {
   "cell_type": "markdown",
   "metadata": {},
   "source": [
    "Above is a chart that shows the gross sales, by country of production. \n",
    "\n",
    "It shows that majority of the movies are produced in the United States of America, followed by United Kingdom. It does not provide more information on which countries are responsible for the gross sale of this products"
   ]
  },
  {
   "cell_type": "markdown",
   "metadata": {},
   "source": [
    "Budget Breakdown"
   ]
  },
  {
   "cell_type": "code",
   "execution_count": 14,
   "metadata": {},
   "outputs": [
    {
     "data": {
      "text/plain": [
       "count    2.264000e+03\n",
       "mean     4.412635e+07\n",
       "std      2.836402e+08\n",
       "min      2.180000e+02\n",
       "25%      6.000000e+06\n",
       "50%      2.000000e+07\n",
       "75%      4.500000e+07\n",
       "max      1.221550e+10\n",
       "Name: budget, dtype: float64"
      ]
     },
     "execution_count": 14,
     "metadata": {},
     "output_type": "execute_result"
    }
   ],
   "source": [
    "modified_dev_list['budget'].describe()"
   ]
  },
  {
   "cell_type": "markdown",
   "metadata": {},
   "source": [
    "Above is a breakdown of the budget statistics. It shows a maximum budget of around 12 billion, a minimum of 218 and a mean of 44 million. Further exploration is performed(scatterplot shown below) to examine the relationship between gross sales and budget"
   ]
  },
  {
   "cell_type": "code",
   "execution_count": 17,
   "metadata": {},
   "outputs": [
    {
     "data": {
      "image/png": "[encoded data removed]",
      "text/plain": [
       "<Figure size 432x288 with 1 Axes>"
      ]
     },
     "metadata": {
      "needs_background": "light"
     },
     "output_type": "display_data"
    }
   ],
   "source": [
    "#Check relationship between gross and budget of movies\n",
    "ax1 = sns.scatterplot(x = modified_dev_list['budget'], y = modified_dev_list['gross'])\n",
    "ax1.title(\"Gross vs Budget\")"
   ]
  },
  {
   "cell_type": "markdown",
   "metadata": {},
   "source": [
    "The chart above shows the relationship between the budget and gross sales of a movie. \n",
    "\n",
    "From this chart, it can be seen that there exists no correlation between the budget of a movie and the gross sale of the movie. \n",
    "\n",
    "We can not conclude on this just yet, and this is an hypothesis which is yet to be verified."
   ]
  },
  {
   "cell_type": "markdown",
   "metadata": {},
   "source": [
    "To verify our hypothesis about the correlation between the budget of a movie and the gross value of sales, we perform a correlation test  on the test data using the pearman's and spearman's correlation test. Using a significance level of 5%, corresponding to a p-value of 0.05 as a standard. The p-value/significance level is the percentage that the occurence in your sample is by chance, thus a significance level of 5% shows that 5% of the happenings in our sample is by chance.\n",
    "\n",
    "Based on this, we make two hypotheses- Null hypothesis,H0, and Alternative hypothesis,H1, which will be verified based on how the p-value from the test data compares with our standard of 0.05\n",
    "\n",
    "Null Hypothesis,H0 : If p_value(test data) is less than 0.05. We accept that there's no correlation between the gross sales of a movie and the budget.\n",
    "Alternative Hypothesis, H1 :If p_value(test data) is greater than 0.05 We reject our null hypothesis, thus accepting there's a correlation between the gross sales of a movie and the budget.\n",
    "\n"
   ]
  },
  {
   "cell_type": "code",
   "execution_count": 30,
   "metadata": {},
   "outputs": [
    {
     "name": "stdout",
     "output_type": "stream",
     "text": [
      "The pearson correlation coefficient between the gross and budget is 0.33956580451015383 while the p_value is 4.913568039563872e-52\n",
      "The spearman correlation coefficient between the gross and budget is 0.6362486102843073 while the p_value is 3.3324560674751762e-214\n"
     ]
    }
   ],
   "source": [
    "import scipy.stats\n",
    "test_list_df = pd.DataFrame(test_list)\n",
    "\n",
    "new_test_list_df = test_list_df.sort_values(by= 'gross', ascending= False).dropna()\n",
    "\n",
    "\n",
    "pearson_corr, pearson_p_value = scipy.stats.pearsonr(new_test_list_df['gross'], new_test_list_df['budget'])\n",
    "spearman_corr, spearman_p_value = scipy.stats.spearmanr(new_test_list_df['gross'], new_test_list_df['budget'])\n",
    "\n",
    "print(f\"The pearson correlation coefficient between the gross and budget is {pearson_corr} while the p_value is {pearson_p_value}\")\n",
    "print(f\"The spearman correlation coefficient between the gross and budget is {spearman_corr} while the p_value is {spearman_p_value}\")\n"
   ]
  },
  {
   "cell_type": "markdown",
   "metadata": {},
   "source": [
    "From the scientific calculations above, it can be seen that the p_value of both the pearson and spearman's test, corresponding to 3.65 x 10^-16 and 1.254 x 10^-203 are both less than 0.05. \n",
    "\n",
    "Thus we reject our null hypothesis, and conclude that the relationship between the gross sales of a movie and the budget is statistically significant."
   ]
  },
  {
   "cell_type": "code",
   "execution_count": 15,
   "metadata": {},
   "outputs": [
    {
     "name": "stdout",
     "output_type": "stream",
     "text": [
      "Here are the statistics of the gross sales in the development dataset :  \n",
      "Count is 2072.0, \n",
      "Mean is 48937112.04584942, \n",
      "standard_deviation value is 69258775.91409169, \n",
      "mininmumn is 721.0, \n",
      "25th percentile is 5539594.0, \n",
      "50th percentile is 26262461.5, and \n",
      "75th percentile is 63994570.25, \n",
      "Maximum value is 760505847.0\n"
     ]
    }
   ],
   "source": [
    "import numpy as np\n",
    "#Using the top 75 percentile of the dev_test to determine characteristics of our next movie,  by examining the top 75, we can assess the predominant features\n",
    "\n",
    "imdb_score = modified_dev_list['imdb_score']\n",
    "gross = modified_dev_list['gross'].dropna()\n",
    "\n",
    "imdb_75 = np.percentile(list(imdb_score), 75)\n",
    "gross_75 = np.percentile(list(gross), 75)\n",
    "gross_25 = np.percentile(list(gross), 25)\n",
    "\n",
    "summary_statistics = list(gross.describe())\n",
    "\n",
    "#Format output to be easily readable\n",
    "print (f\"Here are the statistics of the gross sales in the development dataset :  \\nCount is {summary_statistics[0]}, \\nMean is {summary_statistics[1]}, \\nstandard_deviation value is {summary_statistics[2]}, \\nMinimum is {summary_statistics[3]}, \\n25th percentile is {summary_statistics[4]}, \\n50th percentile is {summary_statistics[5]}, and \\n75th percentile is {summary_statistics[6]}, \\nMaximum value is {summary_statistics[7]}\")"
   ]
  },
  {
   "cell_type": "markdown",
   "metadata": {},
   "source": [
    "In the same way, we make a statistical analysis of the gross, to know the average gross sales per movie, the 25th percentile, the 75th percentile. This will enable us make a reasonable projection for our next movie at SussexBudgetProductions. \n",
    "\n",
    "THE AVERAGE GROSS SALES IS  48,607,720\n",
    "THE 75TH PERCENTILE IS 62,361,151\n",
    "\n",
    "To enable us make a close estimate of projection, we need to check if there exists a correlation between the budget of a movie and the gross sales"
   ]
  },
  {
   "cell_type": "markdown",
   "metadata": {},
   "source": [
    "Other relationships between gross sales and Underlying factors can be seen below. "
   ]
  },
  {
   "cell_type": "code",
   "execution_count": 18,
   "metadata": {},
   "outputs": [
    {
     "data": {
      "text/plain": [
       "<AxesSubplot:xlabel='title_year'>"
      ]
     },
     "execution_count": 18,
     "metadata": {},
     "output_type": "execute_result"
    },
    {
     "data": {
      "image/png": "[encoded data removed]",
      "text/plain": [
       "<Figure size 432x288 with 1 Axes>"
      ]
     },
     "metadata": {
      "needs_background": "light"
     },
     "output_type": "display_data"
    }
   ],
   "source": [
    "#Trend line to show gross over the years\n",
    "modified_dev_list.groupby('title_year')['gross'].sum().sort_values(ascending = False).plot(kind = 'line')\n"
   ]
  },
  {
   "cell_type": "code",
   "execution_count": 19,
   "metadata": {},
   "outputs": [
    {
     "data": {
      "image/png": "[encoded data removed]",
      "text/plain": [
       "<Figure size 432x288 with 1 Axes>"
      ]
     },
     "metadata": {
      "needs_background": "light"
     },
     "output_type": "display_data"
    }
   ],
   "source": [
    "#Check relationship between gross and number of critic reviews\n",
    "ax1 = sns.scatterplot(x = modified_dev_list['num_critic_for_reviews'], y = modified_dev_list['gross'])"
   ]
  },
  {
   "cell_type": "markdown",
   "metadata": {},
   "source": [
    "1st chart above shows the relationship between the title_year and gross sales. It can be seen to group exponential over a period of 20 years up until 2000, where it has staggered back and forth. This can be attributed to less friction between the viewer and TV show with the advent of online streams and other experience shaping platforms."
   ]
  },
  {
   "cell_type": "markdown",
   "metadata": {},
   "source": [
    "2nd chart above is a scatterplot which shows the distribution of the number of critic reviews with gross sales. It shows a pattern that movies with high gross sales are likely to have high number of critic reviews."
   ]
  },
  {
   "cell_type": "markdown",
   "metadata": {},
   "source": [
    "Imdb score vs gross sales "
   ]
  },
  {
   "cell_type": "code",
   "execution_count": 20,
   "metadata": {},
   "outputs": [
    {
     "data": {
      "text/plain": [
       "Text(0, 0.5, 'gross')"
      ]
     },
     "execution_count": 20,
     "metadata": {},
     "output_type": "execute_result"
    },
    {
     "data": {
      "image/png": "[encoded data removed]",
      "text/plain": [
       "<Figure size 432x288 with 1 Axes>"
      ]
     },
     "metadata": {
      "needs_background": "light"
     },
     "output_type": "display_data"
    }
   ],
   "source": [
    "modified_dev_list.groupby('imdb_score')['gross'].sum().sort_values(ascending = True).plot(kind = 'bar')\n",
    "plt.ylabel(\"gross\")\n",
    "#Reformat for pleasant viewing"
   ]
  },
  {
   "cell_type": "markdown",
   "metadata": {},
   "source": [
    "We can see from the above plot that the gross sale of a movie increases with the IMDB SCORE. This is good, as it's a reasonable metric to base our projections on We investigate this further to validate our hypothesis before progressing.\n",
    "\n",
    "Similar to the correlation test, we check the test data for correlations.\n",
    "\n",
    "Null Hypothesis,H0 : If p_value(test data) is less than 0.05. We accept that there's no correlation between the gross sales of a movie and the budget.\n",
    "Alternative Hypothesis, H1 :If p_value(test data) is greater than 0.05 We reject our null hypothesis, thus accepting there's a correlation between the gross sales of a movie and the budget."
   ]
  },
  {
   "cell_type": "code",
   "execution_count": 31,
   "metadata": {},
   "outputs": [
    {
     "name": "stdout",
     "output_type": "stream",
     "text": [
      "The pearson correlation coefficient between the gross and budget is 0.21876928870526613 while the p_value is 7.732856207383963e-22\n",
      "The spearman correlation coefficient between the gross and budget is 0.10502853147271352 while the p_value is 4.9435153652537295e-06\n"
     ]
    }
   ],
   "source": [
    "import scipy.stats\n",
    "\n",
    "pearson_corr, pearson_p_value = scipy.stats.pearsonr(new_test_list_df['gross'], new_test_list_df['imdb_score'])\n",
    "spearman_corr, spearman_p_value = scipy.stats.spearmanr(new_test_list_df['gross'], new_test_list_df['imdb_score'])\n",
    "\n",
    "print(f\"The pearson correlation coefficient between the gross and budget is {pearson_corr} while the p_value is {pearson_p_value}\")\n",
    "print(f\"The spearman correlation coefficient between the gross and budget is {spearman_corr} while the p_value is {spearman_p_value}\")"
   ]
  },
  {
   "cell_type": "markdown",
   "metadata": {},
   "source": [
    "From the scientific calculations above, it can be seen that the p_value of both the pearson and spearman's test is less than 0.05\n",
    "\n",
    "Thus we reject our null hypothesis, and conclude that the relationship between the gross sales of a movie and the budget is statistically significant."
   ]
  },
  {
   "cell_type": "markdown",
   "metadata": {},
   "source": [
    "We've verified the relationship between the imdb_score and the gross sales in the developmental dataset and the test dataset and can conclude that the gross sales of our next movie is going to depend on the imdb_score of the next movie.\n",
    "\n",
    "\n",
    "Now to explore other key nuances in the gross_sale of the movie, we  filter by the imdb_score and examine the genres, the actors involved and the directors to be credited."
   ]
  },
  {
   "cell_type": "markdown",
   "metadata": {},
   "source": [
    "Examining Imdb_score"
   ]
  },
  {
   "cell_type": "code",
   "execution_count": 21,
   "metadata": {},
   "outputs": [
    {
     "data": {
      "text/plain": [
       "<AxesSubplot:>"
      ]
     },
     "execution_count": 21,
     "metadata": {},
     "output_type": "execute_result"
    },
    {
     "data": {
      "image/png": "[encoded data removed]",
      "text/plain": [
       "<Figure size 432x288 with 1 Axes>"
      ]
     },
     "metadata": {
      "needs_background": "light"
     },
     "output_type": "display_data"
    }
   ],
   "source": [
    "modified_dev_list['imdb_score'].plot(kind = 'box')"
   ]
  },
  {
   "cell_type": "code",
   "execution_count": 22,
   "metadata": {},
   "outputs": [
    {
     "data": {
      "text/plain": [
       "count    2521.000000\n",
       "mean        6.443395\n",
       "std         1.112667\n",
       "min         1.600000\n",
       "25%         5.800000\n",
       "50%         6.600000\n",
       "75%         7.200000\n",
       "max         9.100000\n",
       "Name: imdb_score, dtype: float64"
      ]
     },
     "execution_count": 22,
     "metadata": {},
     "output_type": "execute_result"
    }
   ],
   "source": [
    "modified_dev_list['imdb_score'].describe()"
   ]
  },
  {
   "cell_type": "markdown",
   "metadata": {},
   "source": [
    "The boxplot is negatively skewed, we can use the value of the mean as a reasonable estimate.\n",
    "\n",
    "Examining the box plot of the modified list, we can use the mean value to arrive at a reasonable threshold to filter suitable actors and directors from. We exclude directors and movies with a score lower than the MEAN which is 6.5"
   ]
  },
  {
   "cell_type": "code",
   "execution_count": 32,
   "metadata": {},
   "outputs": [
    {
     "data": {
      "text/html": [
       "<div>\n",
       "<style scoped>\n",
       "    .dataframe tbody tr th:only-of-type {\n",
       "        vertical-align: middle;\n",
       "    }\n",
       "\n",
       "    .dataframe tbody tr th {\n",
       "        vertical-align: top;\n",
       "    }\n",
       "\n",
       "    .dataframe thead th {\n",
       "        text-align: right;\n",
       "    }\n",
       "</style>\n",
       "<table border=\"1\" class=\"dataframe\">\n",
       "  <thead>\n",
       "    <tr style=\"text-align: right;\">\n",
       "      <th></th>\n",
       "      <th>director_name</th>\n",
       "      <th>number of movies</th>\n",
       "    </tr>\n",
       "  </thead>\n",
       "  <tbody>\n",
       "    <tr>\n",
       "      <th>488</th>\n",
       "      <td>Martin Scorsese</td>\n",
       "      <td>15</td>\n",
       "    </tr>\n",
       "    <tr>\n",
       "      <th>734</th>\n",
       "      <td>Steven Spielberg</td>\n",
       "      <td>11</td>\n",
       "    </tr>\n",
       "    <tr>\n",
       "      <th>122</th>\n",
       "      <td>Clint Eastwood</td>\n",
       "      <td>7</td>\n",
       "    </tr>\n",
       "    <tr>\n",
       "      <th>638</th>\n",
       "      <td>Richard Linklater</td>\n",
       "      <td>7</td>\n",
       "    </tr>\n",
       "    <tr>\n",
       "      <th>748</th>\n",
       "      <td>Tim Burton</td>\n",
       "      <td>7</td>\n",
       "    </tr>\n",
       "    <tr>\n",
       "      <th>630</th>\n",
       "      <td>Richard Donner</td>\n",
       "      <td>7</td>\n",
       "    </tr>\n",
       "    <tr>\n",
       "      <th>686</th>\n",
       "      <td>Sam Raimi</td>\n",
       "      <td>7</td>\n",
       "    </tr>\n",
       "    <tr>\n",
       "      <th>714</th>\n",
       "      <td>Spike Lee</td>\n",
       "      <td>7</td>\n",
       "    </tr>\n",
       "    <tr>\n",
       "      <th>599</th>\n",
       "      <td>Peter Jackson</td>\n",
       "      <td>6</td>\n",
       "    </tr>\n",
       "    <tr>\n",
       "      <th>660</th>\n",
       "      <td>Robert Zemeckis</td>\n",
       "      <td>6</td>\n",
       "    </tr>\n",
       "  </tbody>\n",
       "</table>\n",
       "</div>"
      ],
      "text/plain": [
       "         director_name  number of movies\n",
       "488    Martin Scorsese                15\n",
       "734   Steven Spielberg                11\n",
       "122     Clint Eastwood                 7\n",
       "638  Richard Linklater                 7\n",
       "748         Tim Burton                 7\n",
       "630     Richard Donner                 7\n",
       "686          Sam Raimi                 7\n",
       "714          Spike Lee                 7\n",
       "599      Peter Jackson                 6\n",
       "660    Robert Zemeckis                 6"
      ]
     },
     "execution_count": 32,
     "metadata": {},
     "output_type": "execute_result"
    }
   ],
   "source": [
    "imdb_above_6_5 = modified_dev_list[modified_dev_list['imdb_score'] > 6.5]\n",
    "imdb_score = imdb_above_6_5[['director_name','actor_2_name','actor_3_name','imdb_score','genres', 'gross', 'movie_title']]\n",
    "\n",
    "#imdb_score.sort_values('count')\n",
    "director_movies =imdb_score.loc[:,['director_name','movie_title']].groupby('director_name')\n",
    "\n",
    "#make a new dataframe indexed by director which stores director and counts of movie titles\n",
    "movie_counts=director_movies.count().reset_index('director_name')\n",
    "\n",
    "#change column name to reduce confusion\n",
    "movie_counts.columns = ['director_name','number of movies']\n",
    "\n",
    "#sort by appropriate column\n",
    "movie_counts = movie_counts.sort_values('number of movies', ascending=False)\n",
    "\n",
    "#put into object containing the top director by name\n",
    "movie_x_dir = movie_counts[0:10]['director_name']\n",
    "\n",
    "#take a look at the top of the sorted object with name and number of movies \n",
    "movie_counts[0:10]"
   ]
  },
  {
   "cell_type": "markdown",
   "metadata": {},
   "source": [
    "The above list shows the list of recommended directors for the next movie. These are directors with a number of movies with an IMDB score greater than 6.5"
   ]
  },
  {
   "cell_type": "code",
   "execution_count": null,
   "metadata": {},
   "outputs": [
    {
     "data": {
      "text/html": [
       "<div>\n",
       "<style scoped>\n",
       "    .dataframe tbody tr th:only-of-type {\n",
       "        vertical-align: middle;\n",
       "    }\n",
       "\n",
       "    .dataframe tbody tr th {\n",
       "        vertical-align: top;\n",
       "    }\n",
       "\n",
       "    .dataframe thead th {\n",
       "        text-align: right;\n",
       "    }\n",
       "</style>\n",
       "<table border=\"1\" class=\"dataframe\">\n",
       "  <thead>\n",
       "    <tr style=\"text-align: right;\">\n",
       "      <th></th>\n",
       "      <th>index</th>\n",
       "      <th>0</th>\n",
       "    </tr>\n",
       "  </thead>\n",
       "  <tbody>\n",
       "    <tr>\n",
       "      <th>0</th>\n",
       "      <td>Action</td>\n",
       "      <td>224</td>\n",
       "    </tr>\n",
       "    <tr>\n",
       "      <th>1</th>\n",
       "      <td>Adventure</td>\n",
       "      <td>227</td>\n",
       "    </tr>\n",
       "    <tr>\n",
       "      <th>2</th>\n",
       "      <td>Fantasy</td>\n",
       "      <td>150</td>\n",
       "    </tr>\n",
       "    <tr>\n",
       "      <th>3</th>\n",
       "      <td>Sci-Fi</td>\n",
       "      <td>123</td>\n",
       "    </tr>\n",
       "    <tr>\n",
       "      <th>4</th>\n",
       "      <td>Drama</td>\n",
       "      <td>820</td>\n",
       "    </tr>\n",
       "    <tr>\n",
       "      <th>5</th>\n",
       "      <td>Romance</td>\n",
       "      <td>290</td>\n",
       "    </tr>\n",
       "    <tr>\n",
       "      <th>6</th>\n",
       "      <td>Crime</td>\n",
       "      <td>236</td>\n",
       "    </tr>\n",
       "    <tr>\n",
       "      <th>7</th>\n",
       "      <td>Thriller</td>\n",
       "      <td>299</td>\n",
       "    </tr>\n",
       "    <tr>\n",
       "      <th>8</th>\n",
       "      <td>Family</td>\n",
       "      <td>123</td>\n",
       "    </tr>\n",
       "    <tr>\n",
       "      <th>9</th>\n",
       "      <td>Animation</td>\n",
       "      <td>74</td>\n",
       "    </tr>\n",
       "    <tr>\n",
       "      <th>10</th>\n",
       "      <td>Comedy</td>\n",
       "      <td>377</td>\n",
       "    </tr>\n",
       "    <tr>\n",
       "      <th>11</th>\n",
       "      <td>Musical</td>\n",
       "      <td>44</td>\n",
       "    </tr>\n",
       "    <tr>\n",
       "      <th>12</th>\n",
       "      <td>Biography</td>\n",
       "      <td>137</td>\n",
       "    </tr>\n",
       "    <tr>\n",
       "      <th>13</th>\n",
       "      <td>History</td>\n",
       "      <td>86</td>\n",
       "    </tr>\n",
       "    <tr>\n",
       "      <th>14</th>\n",
       "      <td>War</td>\n",
       "      <td>84</td>\n",
       "    </tr>\n",
       "    <tr>\n",
       "      <th>15</th>\n",
       "      <td>Mystery</td>\n",
       "      <td>127</td>\n",
       "    </tr>\n",
       "    <tr>\n",
       "      <th>16</th>\n",
       "      <td>Horror</td>\n",
       "      <td>75</td>\n",
       "    </tr>\n",
       "    <tr>\n",
       "      <th>17</th>\n",
       "      <td>Sport</td>\n",
       "      <td>51</td>\n",
       "    </tr>\n",
       "    <tr>\n",
       "      <th>18</th>\n",
       "      <td>Western</td>\n",
       "      <td>25</td>\n",
       "    </tr>\n",
       "    <tr>\n",
       "      <th>19</th>\n",
       "      <td>Music</td>\n",
       "      <td>54</td>\n",
       "    </tr>\n",
       "    <tr>\n",
       "      <th>20</th>\n",
       "      <td>Documentary</td>\n",
       "      <td>59</td>\n",
       "    </tr>\n",
       "    <tr>\n",
       "      <th>21</th>\n",
       "      <td>News</td>\n",
       "      <td>3</td>\n",
       "    </tr>\n",
       "    <tr>\n",
       "      <th>22</th>\n",
       "      <td>Short</td>\n",
       "      <td>2</td>\n",
       "    </tr>\n",
       "    <tr>\n",
       "      <th>23</th>\n",
       "      <td>Film-Noir</td>\n",
       "      <td>2</td>\n",
       "    </tr>\n",
       "  </tbody>\n",
       "</table>\n",
       "</div>"
      ],
      "text/plain": [
       "          index    0\n",
       "0        Action  224\n",
       "1     Adventure  227\n",
       "2       Fantasy  150\n",
       "3        Sci-Fi  123\n",
       "4         Drama  820\n",
       "5       Romance  290\n",
       "6         Crime  236\n",
       "7      Thriller  299\n",
       "8        Family  123\n",
       "9     Animation   74\n",
       "10       Comedy  377\n",
       "11      Musical   44\n",
       "12    Biography  137\n",
       "13      History   86\n",
       "14          War   84\n",
       "15      Mystery  127\n",
       "16       Horror   75\n",
       "17        Sport   51\n",
       "18      Western   25\n",
       "19        Music   54\n",
       "20  Documentary   59\n",
       "21         News    3\n",
       "22        Short    2\n",
       "23    Film-Noir    2"
      ]
     },
     "metadata": {},
     "output_type": "display_data"
    }
   ],
   "source": [
    "#Examining the predominant genres in top grossing movies\n",
    "top_grossing = imdb_above_6_5.sort_values(by = 'gross', ascending = False)\n",
    "\n",
    "#Converts Pd.series to list\n",
    "rec_genres = list(top_grossing['genres'])\n",
    "new_rec_genres = []\n",
    "\n",
    "#Splits element into individual genre\n",
    "for element in rec_genres:\n",
    "    new = element.split('|')\n",
    "    new_rec_genres += new \n",
    "new_rec_genres\n",
    "\n",
    "#Computes frequency of genres from list\n",
    "from nltk.probability import FreqDist\n",
    "\n",
    "genre_distribution = FreqDist(new_rec_genres)\n",
    "genre_series = pd.Series(genre_distribution)\n",
    "genre_df = genre_series.to_frame().reset_index()\n",
    "genre_df.columns = ['Genre', 'Count']\n",
    "genre_df"
   ]
  },
  {
   "cell_type": "markdown",
   "metadata": {},
   "source": [
    "From above, the predominant genres in the top grossing movies are shown above. It can be seen that Drama occured the most - 820 times, followed by Comedy which occured 377 times. Genres such as Thriller,Romance,Adventure,Action,Crime all have close numbers. \n",
    "\n",
    "Since the aim is to increase our chances of a top grossing movie, I'd advice a combination of the top grossing genres Drama and Comedy in addition to one of the rest,Adventure,Thriller,Drama, Comedy,Family,Fantasy, Family"
   ]
  },
  {
   "cell_type": "markdown",
   "metadata": {},
   "source": [
    "Hypotheses that you have designed relating to the overall aim of this assignment and the experiments that you have carried out to test whether they are supported by the data."
   ]
  },
  {
   "cell_type": "markdown",
   "metadata": {},
   "source": [
    "- There's no correlation between the budget of a movie and gross value of sales"
   ]
  },
  {
   "cell_type": "markdown",
   "metadata": {},
   "source": [
    "- There's a relationship between the imdb_score of a movie and the gross value of sales."
   ]
  },
  {
   "cell_type": "markdown",
   "metadata": {},
   "source": [
    "This is to confirm the relationship between the imdb_score of a movie and the gross value of sale. i.e If our movie has a high imdb_score, does this mean that the we should expect a gross value sale for our movie?\n",
    "\n",
    "Our hypothesis is that the imdb_score of a movie and the gross value of sales are related, which means if a movie has a high imdb_score, we should expect a greater than average gross sales. To confirm this, we use a method similar to the one above\n",
    ".We perform both a pearson's and spearman's test on the data and compare the p_value obtained to the standard of 0.05."
   ]
  },
  {
   "cell_type": "code",
   "execution_count": null,
   "metadata": {},
   "outputs": [
    {
     "name": "stdout",
     "output_type": "stream",
     "text": [
      "The pearson correlation coefficient between the gross and budget is 0.22197778961680523 while the p_value is 1.07445058418354e-22\n",
      "The spearman correlation coefficient between the gross and budget is 0.13920887262093437 while the p_value is 1.0494853438658203e-09\n"
     ]
    }
   ],
   "source": [
    "pearson_corr_1, pearson_p_value_1 = scipy.stats.pearsonr(new_test_list_df['gross'], new_test_list_df['imdb_score'])\n",
    "spearman_corr_1, spearman_p_value_1 = scipy.stats.spearmanr(new_test_list_df['gross'], new_test_list_df['imdb_score'])\n",
    "\n",
    "print(f\"The pearson correlation coefficient between the gross and imdb_score is {pearson_corr_1} while the p_value is {pearson_p_value_1}\")\n",
    "print(f\"The spearman correlation coefficient between the gross and imdb_score is {spearman_corr_1} while the p_value is {spearman_p_value_1}\")\n"
   ]
  },
  {
   "cell_type": "markdown",
   "metadata": {},
   "source": [
    "From the scientific calculations above, it can be seen that the p_value of both the pearson and spearman's test, corresponding to 1.07 x 10^-22 and 1.045 x 10^-9 are both less than 0.05. Thus we reject our null hypothesis, and conclude that the relationship between the imdb_score of a movie and the gross value of sales is statistically significant.\n",
    "\n",
    "This means that if our movie has a high imdb_score, we should expect a corresponding increase in sales."
   ]
  },
  {
   "cell_type": "markdown",
   "metadata": {},
   "source": [
    "Movies in the 'PG-13' content rating record the highest average sales per movie."
   ]
  },
  {
   "cell_type": "markdown",
   "metadata": {},
   "source": [
    "The third trend noticed in our dev set is that movies in the PG-13 content rating category record the highest average sales per movie. By confirming this hypothesis, we can make\n",
    "an informed decision on the category to aim our next movie at, this can help inform ideas on movie plots.\n",
    "\n",
    "To confirm this hypothesis, we perform a T-test on the test_data. Comparing the PG-13 content rating category with other categories."
   ]
  },
  {
   "cell_type": "code",
   "execution_count": null,
   "metadata": {},
   "outputs": [
    {
     "data": {
      "text/plain": [
       "{'Approved': 46613440.625,\n",
       " 'G': 86604731.46666667,\n",
       " 'GP': 43800000.0,\n",
       " 'M': 62554450.0,\n",
       " 'NC-17': 658644.3333333334,\n",
       " 'Not Rated': 3777736.388888889,\n",
       " 'PG': 80144358.89438944,\n",
       " 'PG-13': 71571071.97916667,\n",
       " 'Passed': 8000000.0,\n",
       " 'R': 33707142.18682635,\n",
       " 'Unrated': 961144.2727272727,\n",
       " 'X': 19775845.333333332}"
      ]
     },
     "execution_count": 65,
     "metadata": {},
     "output_type": "execute_result"
    }
   ],
   "source": [
    "import numpy as np\n",
    "\n",
    "#Calculating mean of each category\n",
    "test_data_category_sum = dict(new_test_list_df.groupby('content_rating')['gross'].sum())\n",
    "\n",
    "test_data_category_count = dict(new_test_list_df.groupby('content_rating')['gross'].count())\n",
    "\n",
    "mean = {}\n",
    "\n",
    "for a,b,c in zip(test_data_category_sum.keys(), test_data_category_sum.values(), test_data_category_count.values()):\n",
    "    mean[a] = b/c\n",
    "\n",
    "mean"
   ]
  },
  {
   "cell_type": "markdown",
   "metadata": {},
   "source": [
    "Actionable recommendations based on the analyses you have conducted."
   ]
  },
  {
   "cell_type": "markdown",
   "metadata": {},
   "source": [
    "Based on our analysis above, it can be seen that the performance of our next movie at Sussex Productions doesn't entirely depend on how large our budget is. With a limited budget of 1.5million, we can optimize the spending of this budget by closely examining the genres,directors and actors involved.\n",
    "\n",
    "- Genres such as Action, Adventure, Fantasy, Sci-Fi have been seen to amasss a lot of sales have been to pique users interest. A mixture of genres can be appealing to wider segments resulting in more sales. Regarding the country of production, movies from the USA have also been seen to amass a lot of sales.\n",
    "\n",
    "- The presence of directors such as Martin Scorses, steven Spielberg, Woody Allen, Ridley Scott\t\n",
    "Peter Jackson\t\n",
    "Steven Soderbergh\n",
    "Ron Howard\t\n",
    "Yimou Zhang\t\n",
    "Spike Lee\t\n",
    "Stephen Frears\t have been associated with higher sales of the movie.\n",
    "\n",
    "- Since a high percentage of sales grouped by content rating comes from the PG-13, PG,R and G. It is advised that the content rating of our next movie should be within these categories to increase the probabilities reaching our gross projections."
   ]
  }
 ],
 "metadata": {
  "interpreter": {
   "hash": "8f0b0387341158368e76e37e041ace2634b8300c178d0bf8661e3da462a1a4ca"
  },
  "kernelspec": {
   "display_name": "Python 3.9.4 64-bit",
   "name": "python3"
  },
  "language_info": {
   "codemirror_mode": {
    "name": "ipython",
    "version": 3
   },
   "file_extension": ".py",
   "mimetype": "text/x-python",
   "name": "python",
   "nbconvert_exporter": "python",
   "pygments_lexer": "ipython3",
   "version": "3.9.4"
  },
  "orig_nbformat": 4
 },
 "nbformat": 4,
 "nbformat_minor": 2
}
