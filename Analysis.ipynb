{
 "cells": [
  {
   "cell_type": "markdown",
   "metadata": {},
   "source": [
    "Due to the failure of the last comedy special from SussexBudgetProductions at the box office, we have been tasked with finding the root cause of this issue. \n",
    "\n",
    "This is an analysis on the IMDB movie data which obtain insights on how the next set of funds can be properly invested. This report explores previous data using the IMDB dataset and also recommends actionable plans."
   ]
  },
  {
   "cell_type": "markdown",
   "metadata": {},
   "source": [
    "The dataset provided contains metrics relating to each movie such as : \n",
    "\n",
    "Color, director_name, Number of reviews, Duration, director's facebook likes,actor's facebook likes, actor's name, actor facebook likes, gross, genres, movie title,number of voted users, cast's total facebook likes,facenumber in poster,keywords in the plot,imdb link of the movie, Number of user reviews, language, country, content rating, budget, year movie was released. imdb score,the aspect ratio, movie facebook likes.\n",
    "\n",
    "The dataset was wrangled and modified to include indicators with which we can project fututre sales: \n",
    "\n",
    "- Metrics retained include the director's name, genres, country ,movie title, names of the top three actors in the movie, year of the movie, content_rating, imdb_score, movie_facebook_likes, budget, gross, number of critic reviews, duration, language of the movie. The key metric being analysed is the gross sales,and the relationships with other metrics. \n",
    "\n",
    "- Metrics such as the aspect ratio of a movie,keywords plot are discarded as they are deemed to have minimal relationship to gross sales. \n",
    "\n",
    "- Duration of the movie is also not considered as we are ignoring the role the attention span of a viewer plays on the sales. \n",
    "\n",
    "- We also discard facebook likes, as the number of critic reviews is a more encompassing metric and less prone to manipulation.\n",
    "\n",
    "To begin, I will split the dataset into two. One as an experimental dataset where we explore relationships between the metrics listed above, while the other as a test dataset to confirm our hypothesis. Confirming/rejecting our hypothesis will help make reasonable and actionable recommendations."
   ]
  },
  {
   "cell_type": "code",
   "execution_count": 1,
   "metadata": {},
   "outputs": [],
   "source": [
    "import pandas as pd\n",
    "import matplotlib.pyplot as plt\n",
    "import seaborn as sns\n",
    "\n",
    "\n",
    "sns.set_style(\"whitegrid\")"
   ]
  },
  {
   "cell_type": "code",
   "execution_count": 2,
   "metadata": {},
   "outputs": [
    {
     "data": {
      "text/html": [
       "<div>\n",
       "<style scoped>\n",
       "    .dataframe tbody tr th:only-of-type {\n",
       "        vertical-align: middle;\n",
       "    }\n",
       "\n",
       "    .dataframe tbody tr th {\n",
       "        vertical-align: top;\n",
       "    }\n",
       "\n",
       "    .dataframe thead th {\n",
       "        text-align: right;\n",
       "    }\n",
       "</style>\n",
       "<table border=\"1\" class=\"dataframe\">\n",
       "  <thead>\n",
       "    <tr style=\"text-align: right;\">\n",
       "      <th></th>\n",
       "      <th>color</th>\n",
       "      <th>director_name</th>\n",
       "      <th>num_critic_for_reviews</th>\n",
       "      <th>duration</th>\n",
       "      <th>director_facebook_likes</th>\n",
       "      <th>actor_3_facebook_likes</th>\n",
       "      <th>actor_2_name</th>\n",
       "      <th>actor_1_facebook_likes</th>\n",
       "      <th>gross</th>\n",
       "      <th>genres</th>\n",
       "      <th>...</th>\n",
       "      <th>num_user_for_reviews</th>\n",
       "      <th>language</th>\n",
       "      <th>country</th>\n",
       "      <th>content_rating</th>\n",
       "      <th>budget</th>\n",
       "      <th>title_year</th>\n",
       "      <th>actor_2_facebook_likes</th>\n",
       "      <th>imdb_score</th>\n",
       "      <th>aspect_ratio</th>\n",
       "      <th>movie_facebook_likes</th>\n",
       "    </tr>\n",
       "  </thead>\n",
       "  <tbody>\n",
       "    <tr>\n",
       "      <th>1427</th>\n",
       "      <td>Color</td>\n",
       "      <td>Nicholas Stoller</td>\n",
       "      <td>177.0</td>\n",
       "      <td>92.0</td>\n",
       "      <td>89.0</td>\n",
       "      <td>190.0</td>\n",
       "      <td>Ike Barinholtz</td>\n",
       "      <td>17000.0</td>\n",
       "      <td>55291815.0</td>\n",
       "      <td>Comedy</td>\n",
       "      <td>...</td>\n",
       "      <td>111.0</td>\n",
       "      <td>English</td>\n",
       "      <td>USA</td>\n",
       "      <td>R</td>\n",
       "      <td>35000000.0</td>\n",
       "      <td>2016.0</td>\n",
       "      <td>329.0</td>\n",
       "      <td>6.0</td>\n",
       "      <td>2.35</td>\n",
       "      <td>0</td>\n",
       "    </tr>\n",
       "    <tr>\n",
       "      <th>842</th>\n",
       "      <td>Color</td>\n",
       "      <td>Andy Tennant</td>\n",
       "      <td>171.0</td>\n",
       "      <td>118.0</td>\n",
       "      <td>72.0</td>\n",
       "      <td>681.0</td>\n",
       "      <td>Michael Rapaport</td>\n",
       "      <td>10000.0</td>\n",
       "      <td>177575142.0</td>\n",
       "      <td>Comedy|Romance</td>\n",
       "      <td>...</td>\n",
       "      <td>372.0</td>\n",
       "      <td>English</td>\n",
       "      <td>USA</td>\n",
       "      <td>PG-13</td>\n",
       "      <td>70000000.0</td>\n",
       "      <td>2005.0</td>\n",
       "      <td>975.0</td>\n",
       "      <td>6.6</td>\n",
       "      <td>2.35</td>\n",
       "      <td>0</td>\n",
       "    </tr>\n",
       "    <tr>\n",
       "      <th>3867</th>\n",
       "      <td>Color</td>\n",
       "      <td>Milos Forman</td>\n",
       "      <td>149.0</td>\n",
       "      <td>133.0</td>\n",
       "      <td>869.0</td>\n",
       "      <td>425.0</td>\n",
       "      <td>Michael Berryman</td>\n",
       "      <td>888.0</td>\n",
       "      <td>112000000.0</td>\n",
       "      <td>Drama</td>\n",
       "      <td>...</td>\n",
       "      <td>760.0</td>\n",
       "      <td>English</td>\n",
       "      <td>USA</td>\n",
       "      <td>R</td>\n",
       "      <td>4400000.0</td>\n",
       "      <td>1975.0</td>\n",
       "      <td>721.0</td>\n",
       "      <td>8.7</td>\n",
       "      <td>1.85</td>\n",
       "      <td>32000</td>\n",
       "    </tr>\n",
       "    <tr>\n",
       "      <th>4443</th>\n",
       "      <td>Color</td>\n",
       "      <td>David Winning</td>\n",
       "      <td>4.0</td>\n",
       "      <td>82.0</td>\n",
       "      <td>65.0</td>\n",
       "      <td>146.0</td>\n",
       "      <td>Amber Marshall</td>\n",
       "      <td>341.0</td>\n",
       "      <td>NaN</td>\n",
       "      <td>Sci-Fi</td>\n",
       "      <td>...</td>\n",
       "      <td>10.0</td>\n",
       "      <td>English</td>\n",
       "      <td>Canada</td>\n",
       "      <td>NaN</td>\n",
       "      <td>1500000.0</td>\n",
       "      <td>2014.0</td>\n",
       "      <td>265.0</td>\n",
       "      <td>2.8</td>\n",
       "      <td>NaN</td>\n",
       "      <td>236</td>\n",
       "    </tr>\n",
       "    <tr>\n",
       "      <th>772</th>\n",
       "      <td>Color</td>\n",
       "      <td>Clint Eastwood</td>\n",
       "      <td>306.0</td>\n",
       "      <td>134.0</td>\n",
       "      <td>16000.0</td>\n",
       "      <td>204.0</td>\n",
       "      <td>Morgan Freeman</td>\n",
       "      <td>13000.0</td>\n",
       "      <td>37479778.0</td>\n",
       "      <td>Biography|Drama|History|Sport</td>\n",
       "      <td>...</td>\n",
       "      <td>259.0</td>\n",
       "      <td>English</td>\n",
       "      <td>USA</td>\n",
       "      <td>PG-13</td>\n",
       "      <td>60000000.0</td>\n",
       "      <td>2009.0</td>\n",
       "      <td>11000.0</td>\n",
       "      <td>7.4</td>\n",
       "      <td>2.35</td>\n",
       "      <td>23000</td>\n",
       "    </tr>\n",
       "    <tr>\n",
       "      <th>...</th>\n",
       "      <td>...</td>\n",
       "      <td>...</td>\n",
       "      <td>...</td>\n",
       "      <td>...</td>\n",
       "      <td>...</td>\n",
       "      <td>...</td>\n",
       "      <td>...</td>\n",
       "      <td>...</td>\n",
       "      <td>...</td>\n",
       "      <td>...</td>\n",
       "      <td>...</td>\n",
       "      <td>...</td>\n",
       "      <td>...</td>\n",
       "      <td>...</td>\n",
       "      <td>...</td>\n",
       "      <td>...</td>\n",
       "      <td>...</td>\n",
       "      <td>...</td>\n",
       "      <td>...</td>\n",
       "      <td>...</td>\n",
       "      <td>...</td>\n",
       "    </tr>\n",
       "    <tr>\n",
       "      <th>4583</th>\n",
       "      <td>Color</td>\n",
       "      <td>Efram Potelle</td>\n",
       "      <td>29.0</td>\n",
       "      <td>79.0</td>\n",
       "      <td>2.0</td>\n",
       "      <td>551.0</td>\n",
       "      <td>Elden Henson</td>\n",
       "      <td>855.0</td>\n",
       "      <td>279282.0</td>\n",
       "      <td>Comedy|Drama|Romance</td>\n",
       "      <td>...</td>\n",
       "      <td>49.0</td>\n",
       "      <td>English</td>\n",
       "      <td>USA</td>\n",
       "      <td>PG-13</td>\n",
       "      <td>1000000.0</td>\n",
       "      <td>2003.0</td>\n",
       "      <td>577.0</td>\n",
       "      <td>6.1</td>\n",
       "      <td>1.85</td>\n",
       "      <td>150</td>\n",
       "    </tr>\n",
       "    <tr>\n",
       "      <th>2053</th>\n",
       "      <td>Color</td>\n",
       "      <td>David Zucker</td>\n",
       "      <td>43.0</td>\n",
       "      <td>85.0</td>\n",
       "      <td>119.0</td>\n",
       "      <td>144.0</td>\n",
       "      <td>Priscilla Presley</td>\n",
       "      <td>3000.0</td>\n",
       "      <td>86930411.0</td>\n",
       "      <td>Comedy|Crime</td>\n",
       "      <td>...</td>\n",
       "      <td>87.0</td>\n",
       "      <td>English</td>\n",
       "      <td>USA</td>\n",
       "      <td>PG-13</td>\n",
       "      <td>23000000.0</td>\n",
       "      <td>1991.0</td>\n",
       "      <td>348.0</td>\n",
       "      <td>6.8</td>\n",
       "      <td>1.85</td>\n",
       "      <td>0</td>\n",
       "    </tr>\n",
       "    <tr>\n",
       "      <th>1163</th>\n",
       "      <td>Color</td>\n",
       "      <td>Barbra Streisand</td>\n",
       "      <td>27.0</td>\n",
       "      <td>122.0</td>\n",
       "      <td>0.0</td>\n",
       "      <td>292.0</td>\n",
       "      <td>Austin Pendleton</td>\n",
       "      <td>12000.0</td>\n",
       "      <td>41252428.0</td>\n",
       "      <td>Comedy|Drama|Romance</td>\n",
       "      <td>...</td>\n",
       "      <td>71.0</td>\n",
       "      <td>English</td>\n",
       "      <td>USA</td>\n",
       "      <td>PG-13</td>\n",
       "      <td>42000000.0</td>\n",
       "      <td>1996.0</td>\n",
       "      <td>592.0</td>\n",
       "      <td>6.5</td>\n",
       "      <td>1.85</td>\n",
       "      <td>0</td>\n",
       "    </tr>\n",
       "    <tr>\n",
       "      <th>1860</th>\n",
       "      <td>Color</td>\n",
       "      <td>Michael Cohn</td>\n",
       "      <td>22.0</td>\n",
       "      <td>100.0</td>\n",
       "      <td>2.0</td>\n",
       "      <td>512.0</td>\n",
       "      <td>Chris Bauer</td>\n",
       "      <td>642.0</td>\n",
       "      <td>NaN</td>\n",
       "      <td>Fantasy|Horror</td>\n",
       "      <td>...</td>\n",
       "      <td>69.0</td>\n",
       "      <td>English</td>\n",
       "      <td>USA</td>\n",
       "      <td>R</td>\n",
       "      <td>26000000.0</td>\n",
       "      <td>1997.0</td>\n",
       "      <td>638.0</td>\n",
       "      <td>6.3</td>\n",
       "      <td>1.85</td>\n",
       "      <td>0</td>\n",
       "    </tr>\n",
       "    <tr>\n",
       "      <th>1362</th>\n",
       "      <td>Color</td>\n",
       "      <td>Steve Miner</td>\n",
       "      <td>31.0</td>\n",
       "      <td>110.0</td>\n",
       "      <td>49.0</td>\n",
       "      <td>427.0</td>\n",
       "      <td>Usher Raymond</td>\n",
       "      <td>1000.0</td>\n",
       "      <td>623374.0</td>\n",
       "      <td>Action|Adventure|Drama|Thriller|Western</td>\n",
       "      <td>...</td>\n",
       "      <td>67.0</td>\n",
       "      <td>English</td>\n",
       "      <td>USA</td>\n",
       "      <td>PG-13</td>\n",
       "      <td>38000000.0</td>\n",
       "      <td>2001.0</td>\n",
       "      <td>569.0</td>\n",
       "      <td>5.2</td>\n",
       "      <td>2.35</td>\n",
       "      <td>474</td>\n",
       "    </tr>\n",
       "  </tbody>\n",
       "</table>\n",
       "<p>2521 rows × 28 columns</p>\n",
       "</div>"
      ],
      "text/plain": [
       "      color     director_name  num_critic_for_reviews  duration  \\\n",
       "1427  Color  Nicholas Stoller                   177.0      92.0   \n",
       "842   Color      Andy Tennant                   171.0     118.0   \n",
       "3867  Color      Milos Forman                   149.0     133.0   \n",
       "4443  Color     David Winning                     4.0      82.0   \n",
       "772   Color    Clint Eastwood                   306.0     134.0   \n",
       "...     ...               ...                     ...       ...   \n",
       "4583  Color     Efram Potelle                    29.0      79.0   \n",
       "2053  Color      David Zucker                    43.0      85.0   \n",
       "1163  Color  Barbra Streisand                    27.0     122.0   \n",
       "1860  Color      Michael Cohn                    22.0     100.0   \n",
       "1362  Color       Steve Miner                    31.0     110.0   \n",
       "\n",
       "      director_facebook_likes  actor_3_facebook_likes       actor_2_name  \\\n",
       "1427                     89.0                   190.0     Ike Barinholtz   \n",
       "842                      72.0                   681.0   Michael Rapaport   \n",
       "3867                    869.0                   425.0   Michael Berryman   \n",
       "4443                     65.0                   146.0     Amber Marshall   \n",
       "772                   16000.0                   204.0     Morgan Freeman   \n",
       "...                       ...                     ...                ...   \n",
       "4583                      2.0                   551.0       Elden Henson   \n",
       "2053                    119.0                   144.0  Priscilla Presley   \n",
       "1163                      0.0                   292.0   Austin Pendleton   \n",
       "1860                      2.0                   512.0        Chris Bauer   \n",
       "1362                     49.0                   427.0      Usher Raymond   \n",
       "\n",
       "      actor_1_facebook_likes        gross  \\\n",
       "1427                 17000.0   55291815.0   \n",
       "842                  10000.0  177575142.0   \n",
       "3867                   888.0  112000000.0   \n",
       "4443                   341.0          NaN   \n",
       "772                  13000.0   37479778.0   \n",
       "...                      ...          ...   \n",
       "4583                   855.0     279282.0   \n",
       "2053                  3000.0   86930411.0   \n",
       "1163                 12000.0   41252428.0   \n",
       "1860                   642.0          NaN   \n",
       "1362                  1000.0     623374.0   \n",
       "\n",
       "                                       genres  ... num_user_for_reviews  \\\n",
       "1427                                   Comedy  ...                111.0   \n",
       "842                            Comedy|Romance  ...                372.0   \n",
       "3867                                    Drama  ...                760.0   \n",
       "4443                                   Sci-Fi  ...                 10.0   \n",
       "772             Biography|Drama|History|Sport  ...                259.0   \n",
       "...                                       ...  ...                  ...   \n",
       "4583                     Comedy|Drama|Romance  ...                 49.0   \n",
       "2053                             Comedy|Crime  ...                 87.0   \n",
       "1163                     Comedy|Drama|Romance  ...                 71.0   \n",
       "1860                           Fantasy|Horror  ...                 69.0   \n",
       "1362  Action|Adventure|Drama|Thriller|Western  ...                 67.0   \n",
       "\n",
       "     language  country  content_rating      budget  title_year  \\\n",
       "1427  English      USA               R  35000000.0      2016.0   \n",
       "842   English      USA           PG-13  70000000.0      2005.0   \n",
       "3867  English      USA               R   4400000.0      1975.0   \n",
       "4443  English   Canada             NaN   1500000.0      2014.0   \n",
       "772   English      USA           PG-13  60000000.0      2009.0   \n",
       "...       ...      ...             ...         ...         ...   \n",
       "4583  English      USA           PG-13   1000000.0      2003.0   \n",
       "2053  English      USA           PG-13  23000000.0      1991.0   \n",
       "1163  English      USA           PG-13  42000000.0      1996.0   \n",
       "1860  English      USA               R  26000000.0      1997.0   \n",
       "1362  English      USA           PG-13  38000000.0      2001.0   \n",
       "\n",
       "     actor_2_facebook_likes imdb_score  aspect_ratio movie_facebook_likes  \n",
       "1427                  329.0        6.0          2.35                    0  \n",
       "842                   975.0        6.6          2.35                    0  \n",
       "3867                  721.0        8.7          1.85                32000  \n",
       "4443                  265.0        2.8           NaN                  236  \n",
       "772                 11000.0        7.4          2.35                23000  \n",
       "...                     ...        ...           ...                  ...  \n",
       "4583                  577.0        6.1          1.85                  150  \n",
       "2053                  348.0        6.8          1.85                    0  \n",
       "1163                  592.0        6.5          1.85                    0  \n",
       "1860                  638.0        6.3          1.85                    0  \n",
       "1362                  569.0        5.2          2.35                  474  \n",
       "\n",
       "[2521 rows x 28 columns]"
      ]
     },
     "execution_count": 2,
     "metadata": {},
     "output_type": "execute_result"
    }
   ],
   "source": [
    "movie_data = \"movie_metadata.csv\"\n",
    "\n",
    "movie_data_df = pd.read_csv(movie_data)\n",
    "movie_data_df = movie_data_df.sample(frac =1.0, random_state= 32) #shuffles dataset\n",
    "midpoint = len(movie_data_df)//2\n",
    "\n",
    "#Splitting dataset, one for Exploratory data analysis, one to test hypothesis\n",
    "dev_list = movie_data_df[:midpoint]   #For Exploratory data analysis.\n",
    "test_list = movie_data_df[midpoint:]   #To confirm our hypothesis \n",
    "\n",
    "dev_list"
   ]
  },
  {
   "cell_type": "code",
   "execution_count": 3,
   "metadata": {},
   "outputs": [
    {
     "data": {
      "text/html": [
       "<div>\n",
       "<style scoped>\n",
       "    .dataframe tbody tr th:only-of-type {\n",
       "        vertical-align: middle;\n",
       "    }\n",
       "\n",
       "    .dataframe tbody tr th {\n",
       "        vertical-align: top;\n",
       "    }\n",
       "\n",
       "    .dataframe thead th {\n",
       "        text-align: right;\n",
       "    }\n",
       "</style>\n",
       "<table border=\"1\" class=\"dataframe\">\n",
       "  <thead>\n",
       "    <tr style=\"text-align: right;\">\n",
       "      <th></th>\n",
       "      <th>director_name</th>\n",
       "      <th>genres</th>\n",
       "      <th>country</th>\n",
       "      <th>movie_title</th>\n",
       "      <th>actor_2_name</th>\n",
       "      <th>title_year</th>\n",
       "      <th>actor_3_name</th>\n",
       "      <th>content_rating</th>\n",
       "      <th>imdb_score</th>\n",
       "      <th>movie_facebook_likes</th>\n",
       "      <th>budget</th>\n",
       "      <th>gross</th>\n",
       "      <th>num_critic_for_reviews</th>\n",
       "      <th>duration</th>\n",
       "      <th>language</th>\n",
       "    </tr>\n",
       "  </thead>\n",
       "  <tbody>\n",
       "    <tr>\n",
       "      <th>1427</th>\n",
       "      <td>Nicholas Stoller</td>\n",
       "      <td>Comedy</td>\n",
       "      <td>USA</td>\n",
       "      <td>Neighbors 2: Sorority Rising</td>\n",
       "      <td>Ike Barinholtz</td>\n",
       "      <td>2016.0</td>\n",
       "      <td>Kiersey Clemons</td>\n",
       "      <td>R</td>\n",
       "      <td>6.0</td>\n",
       "      <td>0</td>\n",
       "      <td>35000000.0</td>\n",
       "      <td>55291815.0</td>\n",
       "      <td>177.0</td>\n",
       "      <td>92.0</td>\n",
       "      <td>English</td>\n",
       "    </tr>\n",
       "    <tr>\n",
       "      <th>842</th>\n",
       "      <td>Andy Tennant</td>\n",
       "      <td>Comedy|Romance</td>\n",
       "      <td>USA</td>\n",
       "      <td>Hitch</td>\n",
       "      <td>Michael Rapaport</td>\n",
       "      <td>2005.0</td>\n",
       "      <td>Kevin Sussman</td>\n",
       "      <td>PG-13</td>\n",
       "      <td>6.6</td>\n",
       "      <td>0</td>\n",
       "      <td>70000000.0</td>\n",
       "      <td>177575142.0</td>\n",
       "      <td>171.0</td>\n",
       "      <td>118.0</td>\n",
       "      <td>English</td>\n",
       "    </tr>\n",
       "    <tr>\n",
       "      <th>3867</th>\n",
       "      <td>Milos Forman</td>\n",
       "      <td>Drama</td>\n",
       "      <td>USA</td>\n",
       "      <td>One Flew Over the Cuckoo's Nest</td>\n",
       "      <td>Michael Berryman</td>\n",
       "      <td>1975.0</td>\n",
       "      <td>Louise Fletcher</td>\n",
       "      <td>R</td>\n",
       "      <td>8.7</td>\n",
       "      <td>32000</td>\n",
       "      <td>4400000.0</td>\n",
       "      <td>112000000.0</td>\n",
       "      <td>149.0</td>\n",
       "      <td>133.0</td>\n",
       "      <td>English</td>\n",
       "    </tr>\n",
       "    <tr>\n",
       "      <th>4443</th>\n",
       "      <td>David Winning</td>\n",
       "      <td>Sci-Fi</td>\n",
       "      <td>Canada</td>\n",
       "      <td>Mutant World</td>\n",
       "      <td>Amber Marshall</td>\n",
       "      <td>2014.0</td>\n",
       "      <td>John DeSantis</td>\n",
       "      <td>NaN</td>\n",
       "      <td>2.8</td>\n",
       "      <td>236</td>\n",
       "      <td>1500000.0</td>\n",
       "      <td>NaN</td>\n",
       "      <td>4.0</td>\n",
       "      <td>82.0</td>\n",
       "      <td>English</td>\n",
       "    </tr>\n",
       "    <tr>\n",
       "      <th>772</th>\n",
       "      <td>Clint Eastwood</td>\n",
       "      <td>Biography|Drama|History|Sport</td>\n",
       "      <td>USA</td>\n",
       "      <td>Invictus</td>\n",
       "      <td>Morgan Freeman</td>\n",
       "      <td>2009.0</td>\n",
       "      <td>Leleti Khumalo</td>\n",
       "      <td>PG-13</td>\n",
       "      <td>7.4</td>\n",
       "      <td>23000</td>\n",
       "      <td>60000000.0</td>\n",
       "      <td>37479778.0</td>\n",
       "      <td>306.0</td>\n",
       "      <td>134.0</td>\n",
       "      <td>English</td>\n",
       "    </tr>\n",
       "    <tr>\n",
       "      <th>...</th>\n",
       "      <td>...</td>\n",
       "      <td>...</td>\n",
       "      <td>...</td>\n",
       "      <td>...</td>\n",
       "      <td>...</td>\n",
       "      <td>...</td>\n",
       "      <td>...</td>\n",
       "      <td>...</td>\n",
       "      <td>...</td>\n",
       "      <td>...</td>\n",
       "      <td>...</td>\n",
       "      <td>...</td>\n",
       "      <td>...</td>\n",
       "      <td>...</td>\n",
       "      <td>...</td>\n",
       "    </tr>\n",
       "    <tr>\n",
       "      <th>4583</th>\n",
       "      <td>Efram Potelle</td>\n",
       "      <td>Comedy|Drama|Romance</td>\n",
       "      <td>USA</td>\n",
       "      <td>The Battle of Shaker Heights</td>\n",
       "      <td>Elden Henson</td>\n",
       "      <td>2003.0</td>\n",
       "      <td>Kathleen Quinlan</td>\n",
       "      <td>PG-13</td>\n",
       "      <td>6.1</td>\n",
       "      <td>150</td>\n",
       "      <td>1000000.0</td>\n",
       "      <td>279282.0</td>\n",
       "      <td>29.0</td>\n",
       "      <td>79.0</td>\n",
       "      <td>English</td>\n",
       "    </tr>\n",
       "    <tr>\n",
       "      <th>2053</th>\n",
       "      <td>David Zucker</td>\n",
       "      <td>Comedy|Crime</td>\n",
       "      <td>USA</td>\n",
       "      <td>The Naked Gun 2½: The Smell of Fear</td>\n",
       "      <td>Priscilla Presley</td>\n",
       "      <td>1991.0</td>\n",
       "      <td>O.J. Simpson</td>\n",
       "      <td>PG-13</td>\n",
       "      <td>6.8</td>\n",
       "      <td>0</td>\n",
       "      <td>23000000.0</td>\n",
       "      <td>86930411.0</td>\n",
       "      <td>43.0</td>\n",
       "      <td>85.0</td>\n",
       "      <td>English</td>\n",
       "    </tr>\n",
       "    <tr>\n",
       "      <th>1163</th>\n",
       "      <td>Barbra Streisand</td>\n",
       "      <td>Comedy|Drama|Romance</td>\n",
       "      <td>USA</td>\n",
       "      <td>The Mirror Has Two Faces</td>\n",
       "      <td>Austin Pendleton</td>\n",
       "      <td>1996.0</td>\n",
       "      <td>Mimi Rogers</td>\n",
       "      <td>PG-13</td>\n",
       "      <td>6.5</td>\n",
       "      <td>0</td>\n",
       "      <td>42000000.0</td>\n",
       "      <td>41252428.0</td>\n",
       "      <td>27.0</td>\n",
       "      <td>122.0</td>\n",
       "      <td>English</td>\n",
       "    </tr>\n",
       "    <tr>\n",
       "      <th>1860</th>\n",
       "      <td>Michael Cohn</td>\n",
       "      <td>Fantasy|Horror</td>\n",
       "      <td>USA</td>\n",
       "      <td>Snow White: A Tale of Terror</td>\n",
       "      <td>Chris Bauer</td>\n",
       "      <td>1997.0</td>\n",
       "      <td>Monica Keena</td>\n",
       "      <td>R</td>\n",
       "      <td>6.3</td>\n",
       "      <td>0</td>\n",
       "      <td>26000000.0</td>\n",
       "      <td>NaN</td>\n",
       "      <td>22.0</td>\n",
       "      <td>100.0</td>\n",
       "      <td>English</td>\n",
       "    </tr>\n",
       "    <tr>\n",
       "      <th>1362</th>\n",
       "      <td>Steve Miner</td>\n",
       "      <td>Action|Adventure|Drama|Thriller|Western</td>\n",
       "      <td>USA</td>\n",
       "      <td>Texas Rangers</td>\n",
       "      <td>Usher Raymond</td>\n",
       "      <td>2001.0</td>\n",
       "      <td>Leonor Varela</td>\n",
       "      <td>PG-13</td>\n",
       "      <td>5.2</td>\n",
       "      <td>474</td>\n",
       "      <td>38000000.0</td>\n",
       "      <td>623374.0</td>\n",
       "      <td>31.0</td>\n",
       "      <td>110.0</td>\n",
       "      <td>English</td>\n",
       "    </tr>\n",
       "  </tbody>\n",
       "</table>\n",
       "<p>2521 rows × 15 columns</p>\n",
       "</div>"
      ],
      "text/plain": [
       "         director_name                                   genres country  \\\n",
       "1427  Nicholas Stoller                                   Comedy     USA   \n",
       "842       Andy Tennant                           Comedy|Romance     USA   \n",
       "3867      Milos Forman                                    Drama     USA   \n",
       "4443     David Winning                                   Sci-Fi  Canada   \n",
       "772     Clint Eastwood            Biography|Drama|History|Sport     USA   \n",
       "...                ...                                      ...     ...   \n",
       "4583     Efram Potelle                     Comedy|Drama|Romance     USA   \n",
       "2053      David Zucker                             Comedy|Crime     USA   \n",
       "1163  Barbra Streisand                     Comedy|Drama|Romance     USA   \n",
       "1860      Michael Cohn                           Fantasy|Horror     USA   \n",
       "1362       Steve Miner  Action|Adventure|Drama|Thriller|Western     USA   \n",
       "\n",
       "                               movie_title       actor_2_name  title_year  \\\n",
       "1427         Neighbors 2: Sorority Rising      Ike Barinholtz      2016.0   \n",
       "842                                 Hitch    Michael Rapaport      2005.0   \n",
       "3867      One Flew Over the Cuckoo's Nest    Michael Berryman      1975.0   \n",
       "4443                         Mutant World      Amber Marshall      2014.0   \n",
       "772                              Invictus      Morgan Freeman      2009.0   \n",
       "...                                    ...                ...         ...   \n",
       "4583         The Battle of Shaker Heights        Elden Henson      2003.0   \n",
       "2053  The Naked Gun 2½: The Smell of Fear   Priscilla Presley      1991.0   \n",
       "1163             The Mirror Has Two Faces    Austin Pendleton      1996.0   \n",
       "1860         Snow White: A Tale of Terror         Chris Bauer      1997.0   \n",
       "1362                        Texas Rangers       Usher Raymond      2001.0   \n",
       "\n",
       "          actor_3_name content_rating  imdb_score  movie_facebook_likes  \\\n",
       "1427   Kiersey Clemons              R         6.0                     0   \n",
       "842      Kevin Sussman          PG-13         6.6                     0   \n",
       "3867   Louise Fletcher              R         8.7                 32000   \n",
       "4443     John DeSantis            NaN         2.8                   236   \n",
       "772     Leleti Khumalo          PG-13         7.4                 23000   \n",
       "...                ...            ...         ...                   ...   \n",
       "4583  Kathleen Quinlan          PG-13         6.1                   150   \n",
       "2053      O.J. Simpson          PG-13         6.8                     0   \n",
       "1163       Mimi Rogers          PG-13         6.5                     0   \n",
       "1860      Monica Keena              R         6.3                     0   \n",
       "1362     Leonor Varela          PG-13         5.2                   474   \n",
       "\n",
       "          budget        gross  num_critic_for_reviews  duration language  \n",
       "1427  35000000.0   55291815.0                   177.0      92.0  English  \n",
       "842   70000000.0  177575142.0                   171.0     118.0  English  \n",
       "3867   4400000.0  112000000.0                   149.0     133.0  English  \n",
       "4443   1500000.0          NaN                     4.0      82.0  English  \n",
       "772   60000000.0   37479778.0                   306.0     134.0  English  \n",
       "...          ...          ...                     ...       ...      ...  \n",
       "4583   1000000.0     279282.0                    29.0      79.0  English  \n",
       "2053  23000000.0   86930411.0                    43.0      85.0  English  \n",
       "1163  42000000.0   41252428.0                    27.0     122.0  English  \n",
       "1860  26000000.0          NaN                    22.0     100.0  English  \n",
       "1362  38000000.0     623374.0                    31.0     110.0  English  \n",
       "\n",
       "[2521 rows x 15 columns]"
      ]
     },
     "execution_count": 3,
     "metadata": {},
     "output_type": "execute_result"
    }
   ],
   "source": [
    "#Selecting Columns of interest \n",
    "\n",
    "modified_dev_list = dev_list[['director_name', 'genres','country','movie_title', 'actor_2_name','title_year', 'actor_3_name', 'content_rating','imdb_score', 'movie_facebook_likes','budget', 'gross','num_critic_for_reviews', 'duration', 'language']]\n",
    "modified_dev_list.sort_values( by = 'gross', ascending= True)\n",
    "\n",
    "modified_dev_list"
   ]
  },
  {
   "cell_type": "markdown",
   "metadata": {},
   "source": [
    "EXAMINATION OF GROSS SALES : \n",
    "\n",
    "The gross sales is the key metric with which performance of the next movie will be judged. The examination of previous sales of movies will assist in making a projected outcome."
   ]
  },
  {
   "cell_type": "code",
   "execution_count": 4,
   "metadata": {},
   "outputs": [
    {
     "data": {
      "text/plain": [
       "Text(0.5, 1.0, 'Box plot of gross sales')"
      ]
     },
     "execution_count": 4,
     "metadata": {},
     "output_type": "execute_result"
    },
    {
     "data": {
      "image/png": "[encoded data removed]",
      "text/plain": [
       "<Figure size 432x288 with 1 Axes>"
      ]
     },
     "metadata": {},
     "output_type": "display_data"
    }
   ],
   "source": [
    "modified_dev_list['gross'].plot(kind = 'box', sym = '*', whis = 1.5)\n",
    "plt.title(\"Box plot of gross sales\")"
   ]
  },
  {
   "cell_type": "markdown",
   "metadata": {},
   "source": [
    "From the above chart,  it can be seen above, the chart of the gross plot is extremely positively skewed with a lot of outliers. This means the gross sales of movie datasets is not normally distributed and using central tendency measures such as mean,mode and median to obtain a threshold may be misleading."
   ]
  },
  {
   "cell_type": "markdown",
   "metadata": {},
   "source": [
    "Gross sales vs Content rating "
   ]
  },
  {
   "cell_type": "code",
   "execution_count": 5,
   "metadata": {},
   "outputs": [
    {
     "data": {
      "text/plain": [
       "Text(0.5, 1.0, 'Gross sales vs Content_rating')"
      ]
     },
     "execution_count": 5,
     "metadata": {},
     "output_type": "execute_result"
    },
    {
     "data": {
      "image/png": "[encoded data removed]",
      "text/plain": [
       "<Figure size 432x288 with 1 Axes>"
      ]
     },
     "metadata": {},
     "output_type": "display_data"
    }
   ],
   "source": [
    "\n",
    "#Checking the relationship between the content rating and gross \n",
    "ax1 = sns.boxplot(y = modified_dev_list['gross'].dropna(), x = modified_dev_list['content_rating'].dropna(),)\n",
    "plt.xticks(rotation = 90 )\n",
    "plt.title(\"Gross sales vs Content_rating\")"
   ]
  },
  {
   "cell_type": "markdown",
   "metadata": {},
   "source": [
    "Above is a box-plot of the gross against the content_rating. This chart helps visualise the statistical details of each content rating group against the gross. ( Outliers are shown with the symbol *.)\n",
    "\n",
    "It can be seen that :\n",
    "- gross sales beating projection, with a lot of outlier values is a prevalent thing in the 'R', 'PG-13', and 'PG' group.\n",
    "- the 'G' content rating category that the mean of gross sales surpasses other categories, although with less outliers.\n",
    "- there are no outliers in the \"Approved\" category and skewed boxplot\n",
    "\n"
   ]
  },
  {
   "cell_type": "markdown",
   "metadata": {},
   "source": [
    "Movie count vs content type"
   ]
  },
  {
   "cell_type": "code",
   "execution_count": 6,
   "metadata": {},
   "outputs": [
    {
     "data": {
      "text/plain": [
       "Text(0.5, 1.0, 'Number of movies in each rating')"
      ]
     },
     "execution_count": 6,
     "metadata": {},
     "output_type": "execute_result"
    },
    {
     "data": {
      "image/png": "[encoded data removed]",
      "text/plain": [
       "<Figure size 432x288 with 1 Axes>"
      ]
     },
     "metadata": {},
     "output_type": "display_data"
    }
   ],
   "source": [
    "#Checking the amount of movies in the content_rating categories\n",
    "content_rating_df = modified_dev_list[['movie_title','content_rating']].dropna()\n",
    "count_content_rating_df = content_rating_df.groupby('content_rating').count().sort_values(by = 'movie_title', ascending = False)\n",
    "count_content_rating_df.plot(kind = 'bar')\n",
    "plt.ylabel('count')\n",
    "plt.title('Number of movies in each rating')"
   ]
  },
  {
   "cell_type": "markdown",
   "metadata": {},
   "source": [
    "The above is also a chart showing the the count of movies in each content rating category. It can be seen that the categories \"R\",\"PG-13\",\"PG\" have a higher count of movies. This possibly explains the reason for high number outliers. \n",
    "\n",
    "A point worthy of note is the low count of movies in the \"G\" category and the high average gross sale within this category. This suggests that an average movie in the \"G\" category makes a certain number of sales. This option is a safe,low-risk option that will be further explored"
   ]
  },
  {
   "cell_type": "markdown",
   "metadata": {},
   "source": [
    "GROSS SALES VS COUNTRY OF PRODUCTION"
   ]
  },
  {
   "cell_type": "code",
   "execution_count": 7,
   "metadata": {},
   "outputs": [
    {
     "data": {
      "text/plain": [
       "Text(0.5, 1.0, 'gross sales vs country')"
      ]
     },
     "execution_count": 7,
     "metadata": {},
     "output_type": "execute_result"
    },
    {
     "data": {
      "image/png": "[encoded data removed]",
      "text/plain": [
       "<Figure size 432x288 with 1 Axes>"
      ]
     },
     "metadata": {},
     "output_type": "display_data"
    }
   ],
   "source": [
    "#Checking the amount of movies in the content_rating categories\n",
    "gross_df = modified_dev_list[['country','gross']].dropna()\n",
    "gross_df = gross_df.groupby('country').sum().sort_values(by = 'gross', ascending = False)\n",
    "gross_df.plot(kind = 'bar')\n",
    "plt.ylabel('gross')\n",
    "plt.title(\"gross sales vs country\")"
   ]
  },
  {
   "cell_type": "markdown",
   "metadata": {},
   "source": [
    "Above is a chart that shows the gross sales, by country of production. It shows that majority of the movies are produced in the United States of America, followed by United Kingdom. It does not provide more information on which countries are responsible for the gross sale of this products"
   ]
  },
  {
   "cell_type": "markdown",
   "metadata": {},
   "source": [
    "Budget Breakdown"
   ]
  },
  {
   "cell_type": "code",
   "execution_count": 8,
   "metadata": {},
   "outputs": [
    {
     "data": {
      "text/plain": [
       "count    2.276000e+03\n",
       "mean     4.222588e+07\n",
       "std      2.688178e+08\n",
       "min      1.400000e+03\n",
       "25%      6.000000e+06\n",
       "50%      1.946500e+07\n",
       "75%      4.300000e+07\n",
       "max      1.221550e+10\n",
       "Name: budget, dtype: float64"
      ]
     },
     "execution_count": 8,
     "metadata": {},
     "output_type": "execute_result"
    }
   ],
   "source": [
    "modified_dev_list['budget'].describe()"
   ]
  },
  {
   "cell_type": "markdown",
   "metadata": {},
   "source": [
    "Above is a breakdown of the budget statistics. It shows a maximum budget of around 12 billion, a minimum of 218 and a mean of 44 million. Further exploration is performed(scatterplot shown below) to examine the relationship between gross sales and budget"
   ]
  },
  {
   "cell_type": "code",
   "execution_count": 9,
   "metadata": {},
   "outputs": [
    {
     "data": {
      "text/plain": [
       "Text(0.5, 1.0, 'Gross vs Budget')"
      ]
     },
     "execution_count": 9,
     "metadata": {},
     "output_type": "execute_result"
    },
    {
     "data": {
      "image/png": "[encoded data removed]",
      "text/plain": [
       "<Figure size 432x288 with 1 Axes>"
      ]
     },
     "metadata": {},
     "output_type": "display_data"
    }
   ],
   "source": [
    "#Check relationship between gross and budget of movies\n",
    "ax1 = sns.scatterplot(x = modified_dev_list['budget'], y = modified_dev_list['gross'])\n",
    "plt.title(\"Gross vs Budget\")"
   ]
  },
  {
   "cell_type": "markdown",
   "metadata": {},
   "source": [
    "The chart above shows the relationship between the budget and gross sales of a movie. \n",
    "\n",
    "From this chart, it can be seen that there exists no correlation between the budget of a movie and the gross sale of the movie. \n",
    "\n",
    "This is a current hypothesis."
   ]
  },
  {
   "cell_type": "markdown",
   "metadata": {},
   "source": [
    "To verify our hypothesis about the correlation between the budget of a movie and the gross value of sales, we perform a correlation test  on the test data using the pearson's and spearman's correlation test. Using a significance level of 5%, corresponding to a p-value of 0.05 as a standard. The p-value/significance level is the percentage that the occurence in your sample is by chance, thus a significance level of 5% shows that 5% of the happenings in our sample is by chance.\n",
    "\n",
    "Null Hypothesis,H0 : There is no correlation between the gross sales and budget.\n",
    "\n",
    "If p_value(test data) is less than 0.05. We fail to reject the null hypothesis. there's no correlation between the gross sales of a movie and the budget.\n",
    "\n",
    "Alternative Hypothesis, H1 :If p_value(test data) is greater than 0.05 We reject our null hypothesis, thus accepting there's a correlation between the gross sales of a movie and the budget."
   ]
  },
  {
   "cell_type": "markdown",
   "metadata": {},
   "source": [
    "VERIFYING HYPOTHESIS ON TEST DATA"
   ]
  },
  {
   "cell_type": "code",
   "execution_count": 10,
   "metadata": {},
   "outputs": [
    {
     "name": "stdout",
     "output_type": "stream",
     "text": [
      "The pearson correlation coefficient between the gross and budget is 0.208346380356098 while the p_value is 4.763037239767701e-20\n",
      "The spearman correlation coefficient between the gross and budget is 0.6504984165443066 while the p_value is 1.1426322055565285e-228\n"
     ]
    }
   ],
   "source": [
    "import scipy.stats\n",
    "test_list_df = pd.DataFrame(test_list)\n",
    "\n",
    "new_test_list_df = test_list_df.sort_values(by= 'gross', ascending= False).dropna()\n",
    "\n",
    "\n",
    "pearson_corr, pearson_p_value = scipy.stats.pearsonr(new_test_list_df['gross'], new_test_list_df['budget'])\n",
    "spearman_corr, spearman_p_value = scipy.stats.spearmanr(new_test_list_df['gross'], new_test_list_df['budget'])\n",
    "\n",
    "print(f\"The pearson correlation coefficient between the gross and budget is {pearson_corr} while the p_value is {pearson_p_value}\")\n",
    "print(f\"The spearman correlation coefficient between the gross and budget is {spearman_corr} while the p_value is {spearman_p_value}\")"
   ]
  },
  {
   "cell_type": "markdown",
   "metadata": {},
   "source": [
    "From the scientific calculations above, it can be seen that the p_value of both the pearson and spearman's test are both less than 0.05\n",
    "\n",
    "Thus we accept our null hypothesis, and conclude that there is no significant relationship between the gross sales of a movie and the budget."
   ]
  },
  {
   "cell_type": "code",
   "execution_count": 11,
   "metadata": {},
   "outputs": [
    {
     "name": "stdout",
     "output_type": "stream",
     "text": [
      "Here are the statistics of the gross sales in the development dataset :  \n",
      "Count is 2061.0, \n",
      "Mean is 47022531.91508976, \n",
      "standard_deviation value is 64899281.77086928, \n",
      "Minimum is 1111.0, \n",
      "25th percentile is 5773519.0, \n",
      "50th percentile is 26003149.0, and \n",
      "75th percentile is 60054449.0, \n",
      "Maximum value is 658672302.0\n"
     ]
    }
   ],
   "source": [
    "import numpy as np\n",
    "#Using the top 75 percentile of the dev_test to determine characteristics of our next movie,  by examining the top 75, we can assess the predominant features\n",
    "\n",
    "imdb_score = modified_dev_list['imdb_score']\n",
    "gross = modified_dev_list['gross'].dropna()\n",
    "\n",
    "imdb_75 = np.percentile(list(imdb_score), 75)\n",
    "gross_75 = np.percentile(list(gross), 75)\n",
    "gross_25 = np.percentile(list(gross), 25)\n",
    "\n",
    "summary_statistics = list(gross.describe())\n",
    "\n",
    "#Format output to be easily readable\n",
    "print (f\"Here are the statistics of the gross sales in the development dataset :  \\nCount is {summary_statistics[0]}, \\nMean is {summary_statistics[1]}, \\nstandard_deviation value is {summary_statistics[2]}, \\nMinimum is {summary_statistics[3]}, \\n25th percentile is {summary_statistics[4]}, \\n50th percentile is {summary_statistics[5]}, and \\n75th percentile is {summary_statistics[6]}, \\nMaximum value is {summary_statistics[7]}\")"
   ]
  },
  {
   "cell_type": "markdown",
   "metadata": {},
   "source": [
    "In the same way, we make a statistical analysis of the gross, to know the average gross sales per movie, the 25th percentile, the 75th percentile. This will enable us make a reasonable projection for our next movie at SussexBudgetProductions. "
   ]
  },
  {
   "cell_type": "markdown",
   "metadata": {},
   "source": [
    "Relationships between gross sales and Underlying factors can be seen below. "
   ]
  },
  {
   "cell_type": "code",
   "execution_count": 12,
   "metadata": {},
   "outputs": [
    {
     "data": {
      "text/plain": [
       "<AxesSubplot:xlabel='title_year'>"
      ]
     },
     "execution_count": 12,
     "metadata": {},
     "output_type": "execute_result"
    },
    {
     "data": {
      "image/png": "[encoded data removed]",
      "text/plain": [
       "<Figure size 432x288 with 1 Axes>"
      ]
     },
     "metadata": {},
     "output_type": "display_data"
    }
   ],
   "source": [
    "#Trend line to show gross over the years\n",
    "modified_dev_list.groupby('title_year')['gross'].sum().sort_values(ascending = False).plot(kind = 'line')"
   ]
  },
  {
   "cell_type": "code",
   "execution_count": 13,
   "metadata": {},
   "outputs": [
    {
     "data": {
      "image/png": "[encoded data removed]",
      "text/plain": [
       "<Figure size 432x432 with 3 Axes>"
      ]
     },
     "metadata": {},
     "output_type": "display_data"
    }
   ],
   "source": [
    "#Check relationship between gross and number of critic reviews\n",
    "ax1 = sns.jointplot(x = modified_dev_list['num_critic_for_reviews'], y = modified_dev_list['gross'], kind = \"hex\")"
   ]
  },
  {
   "cell_type": "code",
   "execution_count": 14,
   "metadata": {},
   "outputs": [
    {
     "data": {
      "image/png": "[encoded data removed]",
      "text/plain": [
       "<Figure size 432x288 with 1 Axes>"
      ]
     },
     "metadata": {},
     "output_type": "display_data"
    }
   ],
   "source": [
    "#Check relationship between gross and number of critic reviews\n",
    "ax1 = sns.scatterplot(x = modified_dev_list['num_critic_for_reviews'], y = modified_dev_list['gross'])"
   ]
  },
  {
   "cell_type": "markdown",
   "metadata": {},
   "source": [
    "1st chart above shows the relationship between the title_year and gross sales. It can be seen to group exponential over a period of 20 years up until 2000, where it has staggered back and forth. This can be attributed to less friction between the viewer and TV show with the advent of online streams and other experience shaping platforms."
   ]
  },
  {
   "cell_type": "markdown",
   "metadata": {},
   "source": [
    "2nd chart above is a scatterplot which shows the distribution of the number of critic reviews with gross sales. It shows a pattern that movies with high gross sales are likely to have high number of critic reviews."
   ]
  },
  {
   "cell_type": "markdown",
   "metadata": {},
   "source": [
    "Imdb score vs gross sales "
   ]
  },
  {
   "cell_type": "code",
   "execution_count": 15,
   "metadata": {},
   "outputs": [
    {
     "data": {
      "text/plain": [
       "Text(0, 0.5, 'gross_sales')"
      ]
     },
     "execution_count": 15,
     "metadata": {},
     "output_type": "execute_result"
    },
    {
     "data": {
      "image/png": "[encoded data removed]",
      "text/plain": [
       "<Figure size 432x288 with 1 Axes>"
      ]
     },
     "metadata": {},
     "output_type": "display_data"
    }
   ],
   "source": [
    "modified_dev_list.groupby('imdb_score')['gross'].sum().sort_values(ascending = True).plot(kind = 'bar')\n",
    "plt.ylabel(\"gross_sales\")"
   ]
  },
  {
   "cell_type": "markdown",
   "metadata": {},
   "source": [
    "We can see from the above plot that the gross sale of a movie increases with the IMDB SCORE. This is good, as it's a reasonable metric to base our projections on We investigate this further to validate our hypothesis before progressing.\n",
    "\n",
    "Similar to the correlation test, we check the test data for correlations.\n",
    "\n",
    "Null Hypothesis,H0 : There is no relationship between the imdb_score and gross sales of a movie \n",
    "\n",
    "If p_value(test data) is less than 0.05. We fail to reject the null hypothesis, and accept that there is a relationship between the gross sales of a movie and the budget.\n",
    "\n",
    "Alternative Hypothesis, H1 :If p_value(test data) is greater than 0.05 We reject our null hypothesis, thus accepting there's a rejecting the relationship between the gross sales of a movie and the budget."
   ]
  },
  {
   "cell_type": "code",
   "execution_count": 16,
   "metadata": {},
   "outputs": [
    {
     "name": "stdout",
     "output_type": "stream",
     "text": [
      "The pearson correlation coefficient between the gross and budget is 0.22044525648161917 while the p_value is 2.6071690890040306e-22\n",
      "The spearman correlation coefficient between the gross and budget is 0.11683977519675308 while the p_value is 3.3424415706494233e-07\n"
     ]
    }
   ],
   "source": [
    "import scipy.stats\n",
    "\n",
    "pearson_corr, pearson_p_value = scipy.stats.pearsonr(new_test_list_df['gross'], new_test_list_df['imdb_score'])\n",
    "spearman_corr, spearman_p_value = scipy.stats.spearmanr(new_test_list_df['gross'], new_test_list_df['imdb_score'])\n",
    "\n",
    "print(f\"The pearson correlation coefficient between the gross and budget is {pearson_corr} while the p_value is {pearson_p_value}\")\n",
    "print(f\"The spearman correlation coefficient between the gross and budget is {spearman_corr} while the p_value is {spearman_p_value}\")"
   ]
  },
  {
   "cell_type": "markdown",
   "metadata": {},
   "source": [
    "From the scientific calculations above, it can be seen that the p_value of both the pearson and spearman's test is less than 0.05\n",
    "\n",
    "Thus we reject  our null hypothesis, and conclude that the relationship between the gross sales of a movie and the budget is statistically significant."
   ]
  },
  {
   "cell_type": "markdown",
   "metadata": {},
   "source": [
    "We've verified the relationship between the imdb_score and the gross sales in the developmental dataset and the test dataset and can conclude that the gross sales of our next movie is going to depend on the imdb_score of the next movie.\n",
    "\n",
    "\n",
    "Now to explore other key nuances in the gross_sale of the movie, we  filter by the imdb_score and examine the genres, the actors involved and the directors to be credited."
   ]
  },
  {
   "cell_type": "markdown",
   "metadata": {},
   "source": [
    "Examining Imdb_score"
   ]
  },
  {
   "cell_type": "code",
   "execution_count": 17,
   "metadata": {},
   "outputs": [
    {
     "data": {
      "text/plain": [
       "<AxesSubplot:>"
      ]
     },
     "execution_count": 17,
     "metadata": {},
     "output_type": "execute_result"
    },
    {
     "data": {
      "image/png": "[encoded data removed]",
      "text/plain": [
       "<Figure size 432x288 with 1 Axes>"
      ]
     },
     "metadata": {},
     "output_type": "display_data"
    }
   ],
   "source": [
    "modified_dev_list['imdb_score'].plot(kind = 'box')"
   ]
  },
  {
   "cell_type": "code",
   "execution_count": 18,
   "metadata": {},
   "outputs": [
    {
     "data": {
      "text/plain": [
       "Text(0, 0.5, 'count')"
      ]
     },
     "execution_count": 18,
     "metadata": {},
     "output_type": "execute_result"
    },
    {
     "data": {
      "image/png": "[encoded data removed]",
      "text/plain": [
       "<Figure size 432x288 with 1 Axes>"
      ]
     },
     "metadata": {},
     "output_type": "display_data"
    }
   ],
   "source": [
    "sns.histplot(modified_dev_list['imdb_score'])\n",
    "plt.ylabel(\"count\")"
   ]
  },
  {
   "cell_type": "code",
   "execution_count": 19,
   "metadata": {},
   "outputs": [
    {
     "data": {
      "text/plain": [
       "count    2521.000000\n",
       "mean        6.469695\n",
       "std         1.090097\n",
       "min         1.700000\n",
       "25%         5.800000\n",
       "50%         6.600000\n",
       "75%         7.200000\n",
       "max         9.300000\n",
       "Name: imdb_score, dtype: float64"
      ]
     },
     "execution_count": 19,
     "metadata": {},
     "output_type": "execute_result"
    }
   ],
   "source": [
    "modified_dev_list['imdb_score'].describe()"
   ]
  },
  {
   "cell_type": "markdown",
   "metadata": {},
   "source": [
    "The boxplot is negatively skewed, we can use the value of the mean as a reasonable threshold as this covers a significant segment of the data.\n",
    "\n",
    "Examining the box plot of the modified list, we can use the mean value to arrive at a reasonable threshold to filter suitable actors, directors, and genres for the production of our next movie. \n",
    "\n",
    "We exclude directors and movies with a score lower than the MEAN which is approximately 6.5"
   ]
  },
  {
   "cell_type": "code",
   "execution_count": 20,
   "metadata": {},
   "outputs": [
    {
     "data": {
      "text/html": [
       "<div>\n",
       "<style scoped>\n",
       "    .dataframe tbody tr th:only-of-type {\n",
       "        vertical-align: middle;\n",
       "    }\n",
       "\n",
       "    .dataframe tbody tr th {\n",
       "        vertical-align: top;\n",
       "    }\n",
       "\n",
       "    .dataframe thead th {\n",
       "        text-align: right;\n",
       "    }\n",
       "</style>\n",
       "<table border=\"1\" class=\"dataframe\">\n",
       "  <thead>\n",
       "    <tr style=\"text-align: right;\">\n",
       "      <th></th>\n",
       "      <th>director_name</th>\n",
       "      <th>number of movies</th>\n",
       "    </tr>\n",
       "  </thead>\n",
       "  <tbody>\n",
       "    <tr>\n",
       "      <th>475</th>\n",
       "      <td>Martin Scorsese</td>\n",
       "      <td>11</td>\n",
       "    </tr>\n",
       "    <tr>\n",
       "      <th>802</th>\n",
       "      <td>Woody Allen</td>\n",
       "      <td>11</td>\n",
       "    </tr>\n",
       "    <tr>\n",
       "      <th>734</th>\n",
       "      <td>Steven Spielberg</td>\n",
       "      <td>9</td>\n",
       "    </tr>\n",
       "    <tr>\n",
       "      <th>595</th>\n",
       "      <td>Peter Jackson</td>\n",
       "      <td>8</td>\n",
       "    </tr>\n",
       "    <tr>\n",
       "      <th>641</th>\n",
       "      <td>Ridley Scott</td>\n",
       "      <td>8</td>\n",
       "    </tr>\n",
       "    <tr>\n",
       "      <th>116</th>\n",
       "      <td>Clint Eastwood</td>\n",
       "      <td>7</td>\n",
       "    </tr>\n",
       "    <tr>\n",
       "      <th>733</th>\n",
       "      <td>Steven Soderbergh</td>\n",
       "      <td>7</td>\n",
       "    </tr>\n",
       "    <tr>\n",
       "      <th>681</th>\n",
       "      <td>Sam Mendes</td>\n",
       "      <td>6</td>\n",
       "    </tr>\n",
       "    <tr>\n",
       "      <th>723</th>\n",
       "      <td>Stephen Frears</td>\n",
       "      <td>6</td>\n",
       "    </tr>\n",
       "    <tr>\n",
       "      <th>661</th>\n",
       "      <td>Robert Zemeckis</td>\n",
       "      <td>6</td>\n",
       "    </tr>\n",
       "  </tbody>\n",
       "</table>\n",
       "</div>"
      ],
      "text/plain": [
       "         director_name  number of movies\n",
       "475    Martin Scorsese                11\n",
       "802        Woody Allen                11\n",
       "734   Steven Spielberg                 9\n",
       "595      Peter Jackson                 8\n",
       "641       Ridley Scott                 8\n",
       "116     Clint Eastwood                 7\n",
       "733  Steven Soderbergh                 7\n",
       "681         Sam Mendes                 6\n",
       "723     Stephen Frears                 6\n",
       "661    Robert Zemeckis                 6"
      ]
     },
     "execution_count": 20,
     "metadata": {},
     "output_type": "execute_result"
    }
   ],
   "source": [
    "\n",
    "#filtere dev_list to imdb_score greater than 6.5\n",
    "imdb_above_6_5 = modified_dev_list[modified_dev_list['imdb_score'] > 6.5]\n",
    "imdb_score = imdb_above_6_5[['director_name','actor_2_name','actor_3_name','imdb_score','genres', 'gross', 'movie_title']]\n",
    "\n",
    "#imdb_score.sort_values('count')\n",
    "director_movies =imdb_score.loc[:,['director_name','movie_title']].groupby('director_name')\n",
    "\n",
    "#make a new dataframe indexed by director which stores director and counts of movie titles\n",
    "movie_counts=director_movies.count().reset_index('director_name')\n",
    "\n",
    "#change column name to reduce confusion\n",
    "movie_counts.columns = ['director_name','number of movies']\n",
    "\n",
    "#sort by appropriate column\n",
    "movie_counts = movie_counts.sort_values('number of movies', ascending=False)\n",
    "\n",
    "#put into object containing the top director by name\n",
    "movie_x_dir = movie_counts[0:10]['director_name']\n",
    "\n",
    "#take a look at the top of the sorted object with name and number of movies \n",
    "movie_counts[0:10]"
   ]
  },
  {
   "cell_type": "markdown",
   "metadata": {},
   "source": [
    "The above list shows the list of recommended directors for the next movie. These are directors with a number of movies with an IMDB score greater than 6.5"
   ]
  },
  {
   "cell_type": "code",
   "execution_count": 21,
   "metadata": {},
   "outputs": [
    {
     "name": "stdout",
     "output_type": "stream",
     "text": [
      "\u001b[33mDEPRECATION: Configuring installation scheme with distutils config files is deprecated and will no longer work in the near future. If you are using a Homebrew or Linuxbrew Python, please see discussion at https://github.com/Homebrew/homebrew-core/issues/76621\u001b[0m\u001b[33m\n",
      "\u001b[0mRequirement already satisfied: nltk in /opt/homebrew/lib/python3.9/site-packages (3.7)\n",
      "Requirement already satisfied: regex>=2021.8.3 in /opt/homebrew/lib/python3.9/site-packages (from nltk) (2022.3.15)\n",
      "Requirement already satisfied: joblib in /opt/homebrew/lib/python3.9/site-packages (from nltk) (1.1.0)\n",
      "Requirement already satisfied: tqdm in /opt/homebrew/lib/python3.9/site-packages (from nltk) (4.64.0)\n",
      "Requirement already satisfied: click in /opt/homebrew/lib/python3.9/site-packages (from nltk) (8.1.2)\n",
      "\u001b[33mDEPRECATION: Configuring installation scheme with distutils config files is deprecated and will no longer work in the near future. If you are using a Homebrew or Linuxbrew Python, please see discussion at https://github.com/Homebrew/homebrew-core/issues/76621\u001b[0m\u001b[33m\n",
      "\u001b[0mNote: you may need to restart the kernel to use updated packages.\n"
     ]
    }
   ],
   "source": [
    "%pip install nltk"
   ]
  },
  {
   "cell_type": "code",
   "execution_count": 27,
   "metadata": {},
   "outputs": [
    {
     "data": {
      "text/html": [
       "<div>\n",
       "<style scoped>\n",
       "    .dataframe tbody tr th:only-of-type {\n",
       "        vertical-align: middle;\n",
       "    }\n",
       "\n",
       "    .dataframe tbody tr th {\n",
       "        vertical-align: top;\n",
       "    }\n",
       "\n",
       "    .dataframe thead th {\n",
       "        text-align: right;\n",
       "    }\n",
       "</style>\n",
       "<table border=\"1\" class=\"dataframe\">\n",
       "  <thead>\n",
       "    <tr style=\"text-align: right;\">\n",
       "      <th></th>\n",
       "      <th>Genre</th>\n",
       "      <th>Count</th>\n",
       "    </tr>\n",
       "  </thead>\n",
       "  <tbody>\n",
       "    <tr>\n",
       "      <th>0</th>\n",
       "      <td>Drama</td>\n",
       "      <td>843</td>\n",
       "    </tr>\n",
       "    <tr>\n",
       "      <th>7</th>\n",
       "      <td>Comedy</td>\n",
       "      <td>371</td>\n",
       "    </tr>\n",
       "    <tr>\n",
       "      <th>5</th>\n",
       "      <td>Thriller</td>\n",
       "      <td>316</td>\n",
       "    </tr>\n",
       "    <tr>\n",
       "      <th>1</th>\n",
       "      <td>Romance</td>\n",
       "      <td>278</td>\n",
       "    </tr>\n",
       "    <tr>\n",
       "      <th>3</th>\n",
       "      <td>Adventure</td>\n",
       "      <td>247</td>\n",
       "    </tr>\n",
       "    <tr>\n",
       "      <th>2</th>\n",
       "      <td>Action</td>\n",
       "      <td>243</td>\n",
       "    </tr>\n",
       "    <tr>\n",
       "      <th>13</th>\n",
       "      <td>Crime</td>\n",
       "      <td>243</td>\n",
       "    </tr>\n",
       "    <tr>\n",
       "      <th>4</th>\n",
       "      <td>Sci-Fi</td>\n",
       "      <td>154</td>\n",
       "    </tr>\n",
       "    <tr>\n",
       "      <th>9</th>\n",
       "      <td>Fantasy</td>\n",
       "      <td>142</td>\n",
       "    </tr>\n",
       "    <tr>\n",
       "      <th>10</th>\n",
       "      <td>Mystery</td>\n",
       "      <td>142</td>\n",
       "    </tr>\n",
       "    <tr>\n",
       "      <th>17</th>\n",
       "      <td>Biography</td>\n",
       "      <td>134</td>\n",
       "    </tr>\n",
       "    <tr>\n",
       "      <th>8</th>\n",
       "      <td>Family</td>\n",
       "      <td>116</td>\n",
       "    </tr>\n",
       "    <tr>\n",
       "      <th>11</th>\n",
       "      <td>Horror</td>\n",
       "      <td>80</td>\n",
       "    </tr>\n",
       "    <tr>\n",
       "      <th>15</th>\n",
       "      <td>History</td>\n",
       "      <td>74</td>\n",
       "    </tr>\n",
       "    <tr>\n",
       "      <th>16</th>\n",
       "      <td>War</td>\n",
       "      <td>73</td>\n",
       "    </tr>\n",
       "    <tr>\n",
       "      <th>6</th>\n",
       "      <td>Animation</td>\n",
       "      <td>64</td>\n",
       "    </tr>\n",
       "    <tr>\n",
       "      <th>18</th>\n",
       "      <td>Music</td>\n",
       "      <td>55</td>\n",
       "    </tr>\n",
       "    <tr>\n",
       "      <th>12</th>\n",
       "      <td>Sport</td>\n",
       "      <td>52</td>\n",
       "    </tr>\n",
       "    <tr>\n",
       "      <th>20</th>\n",
       "      <td>Documentary</td>\n",
       "      <td>43</td>\n",
       "    </tr>\n",
       "    <tr>\n",
       "      <th>19</th>\n",
       "      <td>Western</td>\n",
       "      <td>32</td>\n",
       "    </tr>\n",
       "    <tr>\n",
       "      <th>14</th>\n",
       "      <td>Musical</td>\n",
       "      <td>31</td>\n",
       "    </tr>\n",
       "    <tr>\n",
       "      <th>21</th>\n",
       "      <td>Film-Noir</td>\n",
       "      <td>2</td>\n",
       "    </tr>\n",
       "    <tr>\n",
       "      <th>23</th>\n",
       "      <td>News</td>\n",
       "      <td>2</td>\n",
       "    </tr>\n",
       "    <tr>\n",
       "      <th>22</th>\n",
       "      <td>Short</td>\n",
       "      <td>1</td>\n",
       "    </tr>\n",
       "  </tbody>\n",
       "</table>\n",
       "</div>"
      ],
      "text/plain": [
       "          Genre  Count\n",
       "0         Drama    843\n",
       "7        Comedy    371\n",
       "5      Thriller    316\n",
       "1       Romance    278\n",
       "3     Adventure    247\n",
       "2        Action    243\n",
       "13        Crime    243\n",
       "4        Sci-Fi    154\n",
       "9       Fantasy    142\n",
       "10      Mystery    142\n",
       "17    Biography    134\n",
       "8        Family    116\n",
       "11       Horror     80\n",
       "15      History     74\n",
       "16          War     73\n",
       "6     Animation     64\n",
       "18        Music     55\n",
       "12        Sport     52\n",
       "20  Documentary     43\n",
       "19      Western     32\n",
       "14      Musical     31\n",
       "21    Film-Noir      2\n",
       "23         News      2\n",
       "22        Short      1"
      ]
     },
     "execution_count": 27,
     "metadata": {},
     "output_type": "execute_result"
    }
   ],
   "source": [
    "#Examining the predominant genres in top grossing movies\n",
    "top_grossing = imdb_above_6_5.sort_values(by = 'gross', ascending = False)\n",
    "\n",
    "#Converts Pd.series to list\n",
    "rec_genres = list(top_grossing['genres'])\n",
    "new_rec_genres = []\n",
    "\n",
    "#Splits element into individual genre\n",
    "for element in rec_genres:\n",
    "    new = element.split('|')\n",
    "    new_rec_genres += new \n",
    "new_rec_genres\n",
    "\n",
    "#Computes frequency of genres from list\n",
    "from nltk.probability import FreqDist\n",
    "\n",
    "genre_distribution = FreqDist(new_rec_genres)\n",
    "genre_series = pd.Series(genre_distribution)\n",
    "\n",
    "genre_df = genre_series.to_frame().reset_index()\n",
    "genre_df.columns = ['Genre', 'Count']\n",
    "\n",
    "#Sort and view values \n",
    "genre_df.sort_values(by= [\"Count\"], ascending= False)"
   ]
  },
  {
   "cell_type": "markdown",
   "metadata": {},
   "source": [
    "From above, the predominant genres in the top grossing movies are shown above. It can be seen that Drama occured the most - 820 times, followed by Comedy which occured 377 times. Genres such as Thriller,Romance,Adventure,Action,Crime all have close numbers. \n",
    "\n",
    "Since the aim is to increase our chances of a top grossing movie, I'd advice a combination of the top grossing genres Drama and Comedy in addition to one of the rest,Adventure,Thriller,Drama, Comedy,Family,Fantasy, Family"
   ]
  },
  {
   "cell_type": "markdown",
   "metadata": {},
   "source": [
    "Hypotheses that been have designed relating to the overall aim of this analysis"
   ]
  },
  {
   "cell_type": "markdown",
   "metadata": {},
   "source": [
    "- There's no correlation between the budget of a movie and gross value of sales"
   ]
  },
  {
   "cell_type": "markdown",
   "metadata": {},
   "source": [
    "- There's a relationship between the imdb_score of a movie and the gross value of sales."
   ]
  },
  {
   "cell_type": "markdown",
   "metadata": {},
   "source": [
    "This is to confirm the relationship between the imdb_score of a movie and the gross value of sale. i.e If our movie has a high imdb_score, does this mean that the we should expect a gross value sale for our movie?\n",
    "\n",
    "Our hypothesis is that the imdb_score of a movie and the gross value of sales are related, which means if a movie has a high imdb_score, we should expect a greater than average gross sales. To confirm this, we use a method similar to the one above\n",
    ".We perform both a pearson's and spearman's test on the data and compare the p_value obtained to the standard of 0.05."
   ]
  },
  {
   "cell_type": "code",
   "execution_count": null,
   "metadata": {},
   "outputs": [
    {
     "name": "stdout",
     "output_type": "stream",
     "text": [
      "The pearson correlation coefficient between the gross and budget is 0.22197778961680523 while the p_value is 1.07445058418354e-22\n",
      "The spearman correlation coefficient between the gross and budget is 0.13920887262093437 while the p_value is 1.0494853438658203e-09\n"
     ]
    }
   ],
   "source": [
    "pearson_corr_1, pearson_p_value_1 = scipy.stats.pearsonr(new_test_list_df['gross'], new_test_list_df['imdb_score'])\n",
    "spearman_corr_1, spearman_p_value_1 = scipy.stats.spearmanr(new_test_list_df['gross'], new_test_list_df['imdb_score'])\n",
    "\n",
    "print(f\"The pearson correlation coefficient between the gross and imdb_score is {pearson_corr_1} while the p_value is {pearson_p_value_1}\")\n",
    "print(f\"The spearman correlation coefficient between the gross and imdb_score is {spearman_corr_1} while the p_value is {spearman_p_value_1}\")\n"
   ]
  },
  {
   "cell_type": "markdown",
   "metadata": {},
   "source": [
    "From the scientific calculations above, it can be seen that the p_value of both the pearson and spearman's test, corresponding to 1.07 x 10^-22 and 1.045 x 10^-9 are both less than 0.05. Thus we reject our null hypothesis, and conclude that the relationship between the imdb_score of a movie and the gross value of sales is statistically significant.\n",
    "\n",
    "This means that if our movie has a high imdb_score, we should expect a corresponding increase in sales."
   ]
  },
  {
   "cell_type": "markdown",
   "metadata": {},
   "source": [
    "Movies in the 'PG-13' content rating record the highest average sales per movie."
   ]
  },
  {
   "cell_type": "markdown",
   "metadata": {},
   "source": [
    "The third trend noticed in our dev set is that movies in the PG-13 content rating category record the highest average sales per movie. By confirming this hypothesis, we can make\n",
    "an informed decision on the category to aim our next movie at, this can help inform ideas on movie plots.\n",
    "\n",
    "To confirm this hypothesis, we perform a T-test on the test_data. Comparing the PG-13 content rating category with other categories."
   ]
  },
  {
   "cell_type": "code",
   "execution_count": null,
   "metadata": {},
   "outputs": [
    {
     "data": {
      "text/plain": [
       "{'Approved': 46613440.625,\n",
       " 'G': 86604731.46666667,\n",
       " 'GP': 43800000.0,\n",
       " 'M': 62554450.0,\n",
       " 'NC-17': 658644.3333333334,\n",
       " 'Not Rated': 3777736.388888889,\n",
       " 'PG': 80144358.89438944,\n",
       " 'PG-13': 71571071.97916667,\n",
       " 'Passed': 8000000.0,\n",
       " 'R': 33707142.18682635,\n",
       " 'Unrated': 961144.2727272727,\n",
       " 'X': 19775845.333333332}"
      ]
     },
     "execution_count": 65,
     "metadata": {},
     "output_type": "execute_result"
    }
   ],
   "source": [
    "import numpy as np\n",
    "\n",
    "#Calculating mean of each category\n",
    "test_data_category_sum = dict(new_test_list_df.groupby('content_rating')['gross'].sum())\n",
    "\n",
    "test_data_category_count = dict(new_test_list_df.groupby('content_rating')['gross'].count())\n",
    "\n",
    "mean = {}\n",
    "\n",
    "for a,b,c in zip(test_data_category_sum.keys(), test_data_category_sum.values(), test_data_category_count.values()):\n",
    "    mean[a] = b/c\n",
    "\n",
    "mean"
   ]
  },
  {
   "cell_type": "markdown",
   "metadata": {},
   "source": [
    "Actionable recommendations based on the analyses you have conducted."
   ]
  },
  {
   "cell_type": "markdown",
   "metadata": {},
   "source": [
    "Based on our analysis above, it can be seen that the performance the next movie doesn't entirely depend on how large our budget is. With a limited budget of 1.5million, we can optimize the spending of this budget by closely examining the genres,directors and actors involved.\n",
    "\n",
    "- Genres such as Action, Adventure, Fantasy, Sci-Fi have been seen to amass a lot of sales. A mixture of genres can be appealing to wider segments resulting in more sales. Regarding the country of production, movies from the USA have also been seen to amass a lot of sales.\n",
    "\n",
    "- The presence of directors such as \n",
    "Martin Scorses, \n",
    "Steven Spielberg, \n",
    "Woody Allen, \n",
    "Ridley Scott\t\n",
    "Peter Jackson\t\n",
    "Steven Soderbergh\n",
    "Ron Howard\t\n",
    "Yimou Zhang\t\n",
    "Spike Lee\t\n",
    "Stephen Frears\t have been associated with higher sales of the movie.\n",
    "\n",
    "- Since a high percentage of sales grouped by content rating comes from the PG-13, PG,R and G. It is advised that the content rating of our next movie should be within these categories to increase the probabilities reaching our gross projections."
   ]
  }
 ],
 "metadata": {
  "kernelspec": {
   "display_name": "Python 3.9.10 64-bit",
   "language": "python",
   "name": "python3"
  },
  "language_info": {
   "codemirror_mode": {
    "name": "ipython",
    "version": 3
   },
   "file_extension": ".py",
   "mimetype": "text/x-python",
   "name": "python",
   "nbconvert_exporter": "python",
   "pygments_lexer": "ipython3",
   "version": "3.9.10"
  },
  "orig_nbformat": 4,
  "vscode": {
   "interpreter": {
    "hash": "b0fa6594d8f4cbf19f97940f81e996739fb7646882a419484c72d19e05852a7e"
   }
  }
 },
 "nbformat": 4,
 "nbformat_minor": 2
}
